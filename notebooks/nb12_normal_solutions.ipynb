{
 "cells": [
  {
   "cell_type": "markdown",
   "metadata": {},
   "source": [
    "# Lecture 12: The Normal Distribution\n",
    "***\n",
    "\n",
    "We'll need Numpy, Matplotlib, and maybe Pandas for this notebook, so let's load them. "
   ]
  },
  {
   "cell_type": "code",
   "execution_count": 1,
   "metadata": {
    "collapsed": true
   },
   "outputs": [],
   "source": [
    "import numpy as np \n",
    "import matplotlib.pylab as plt \n",
    "import pandas as pd \n",
    "%matplotlib inline"
   ]
  },
  {
   "cell_type": "markdown",
   "metadata": {},
   "source": [
    "### Exercise 1 - Sampling from the Normal Distribution with Python \n",
    "*** \n",
    "\n",
    "**Part A**: Draw at least $10000$ samples from the distribution $N(0,1)$ and store the results in a variable called $z$.  Make a density histogram of $z$. Set the $x$-limits for your plot to $[-10,10]$ and your $y$-limits to $[0,0.5]$ so we can compare with the plots we'll generate in **Parts B-D**."
   ]
  },
  {
   "cell_type": "markdown",
   "metadata": {},
   "source": [
    "**Solution**: "
   ]
  },
  {
   "cell_type": "code",
   "execution_count": 2,
   "metadata": {},
   "outputs": [
    {
     "data": {
      "image/png": "[encoded data removed]",
      "text/plain": [
       "<matplotlib.figure.Figure at 0x7fc2d0fd5ef0>"
      ]
     },
     "metadata": {},
     "output_type": "display_data"
    }
   ],
   "source": [
    "z = np.random.normal(size=10000)\n",
    "fig, ax = plt.subplots(nrows=1, ncols=1, figsize=(10,4))\n",
    "pd.Series(z).hist(ax=ax, bins=20, color=\"steelblue\", normed=True, edgecolor=\"white\")\n",
    "ax.grid(alpha=0.25)\n",
    "ax.set_axisbelow(True)\n",
    "plt.xticks(range(-10,10+1));\n",
    "ax.set_xlim([-10,10])\n",
    "ax.set_ylim([0,.5]);"
   ]
  },
  {
   "cell_type": "markdown",
   "metadata": {},
   "source": [
    "**Part B**: Look back at the documentation from your function for generating samples from $N(0,1)$.  Modify your code (copy-paste) from **Part A** to draw samples from a normal distribution with parameters $\\mu=3$ and $\\sigma^2 = 4$, i.e. $N(3,4)$, and store the results in a variable called $x$. Make a density histogram with the same axes limits.  Does your picture seem right based on the changes to the parameters of the distribution? "
   ]
  },
  {
   "cell_type": "markdown",
   "metadata": {},
   "source": [
    "**Solution**: "
   ]
  },
  {
   "cell_type": "code",
   "execution_count": 3,
   "metadata": {},
   "outputs": [
    {
     "data": {
      "image/png": "[encoded data removed]",
      "text/plain": [
       "<matplotlib.figure.Figure at 0x7fc2c9182978>"
      ]
     },
     "metadata": {},
     "output_type": "display_data"
    }
   ],
   "source": [
    "x = np.random.normal(3,2, size=10000)\n",
    "fig, ax = plt.subplots(nrows=1, ncols=1, figsize=(10,4))\n",
    "pd.Series(x).hist(ax=ax, bins=20, color=\"steelblue\", normed=True, edgecolor=\"white\")\n",
    "ax.grid(alpha = 0.25)\n",
    "ax.set_axisbelow(True)\n",
    "plt.xticks(range(-10,10+1));\n",
    "ax.set_xlim([-10,10])\n",
    "ax.set_ylim([0,.5]);"
   ]
  },
  {
   "cell_type": "markdown",
   "metadata": {},
   "source": [
    "**Part C**: Now suppose we are only able to sample from $N(0,1)$.  Could we take those samples and perform a simple transformation so that they're samples from $N(3,4)$? Try a few basic transformations on your array $z$ from **Part A** and store the results in a variable $y$.  Then make a density histogram of $y$ with the same axes limits (again, copy-paste).  Does your histogram based on the transformed data look like the histogram from **Part B**?  "
   ]
  },
  {
   "cell_type": "code",
   "execution_count": 6,
   "metadata": {},
   "outputs": [
    {
     "data": {
      "image/png": "[encoded data removed]",
      "text/plain": [
       "<matplotlib.figure.Figure at 0x7fc2c90a4ac8>"
      ]
     },
     "metadata": {},
     "output_type": "display_data"
    }
   ],
   "source": [
    "y = 2*z + 3 \n",
    "fig, ax = plt.subplots(nrows=1, ncols=1, figsize=(10,4))\n",
    "pd.Series(y).hist(ax=ax, bins=20, color=\"steelblue\", normed=True, edgecolor=\"white\")\n",
    "ax.grid(alpha=0.25)\n",
    "ax.set_axisbelow(True)\n",
    "plt.xticks(range(-10,10+1));\n",
    "ax.set_xlim([-10,10])\n",
    "ax.set_ylim([0,.5]);"
   ]
  },
  {
   "cell_type": "markdown",
   "metadata": {},
   "source": [
    "**Part D**: Okey dokey, going from $N(0,1)$ to $N(3,4)$ was the easy direction, but can you go back the other way.  Can you take the $N(3,4)$ samples you have stored in $v$ from **Part B** and transform them into samples from $N(0,1)$?  Try a few transformations and store them in a variable called $v$ and make a density histogram of your transformed data . Does it look like the plot of sampled $N(0,1)$ data from **Part A**? "
   ]
  },
  {
   "cell_type": "markdown",
   "metadata": {},
   "source": [
    "**Solution**: "
   ]
  },
  {
   "cell_type": "code",
   "execution_count": 7,
   "metadata": {},
   "outputs": [
    {
     "data": {
      "image/png": "[encoded data removed]",
      "text/plain": [
       "<matplotlib.figure.Figure at 0x7fc2c9002828>"
      ]
     },
     "metadata": {},
     "output_type": "display_data"
    }
   ],
   "source": [
    "v = (x-3)/2\n",
    "fig, ax = plt.subplots(nrows=1, ncols=1, figsize=(10,4))\n",
    "pd.Series(v).hist(ax=ax, bins=20, color=\"steelblue\", normed=True, edgecolor=\"white\")\n",
    "ax.grid(alpha=0.25)\n",
    "ax.set_axisbelow(True)\n",
    "plt.xticks(range(-10,10+1));\n",
    "ax.set_xlim([-10,10])\n",
    "ax.set_ylim([0,.5]);"
   ]
  },
  {
   "cell_type": "markdown",
   "metadata": {},
   "source": [
    "**Part D**: Next let's overlay the density function for $N(3,4)$ over our histogram and check that everything looks good.  Look up the documentation for Scipy.stats's [normal random variable](https://docs.scipy.org/doc/scipy/reference/generated/scipy.stats.norm.html). The object scipy.stats.norm implements all kinds of cool functions related to the normal distribution, including: pdf, cdf and ppf.  \n",
    "\n",
    "Use the scipy.stats.norm pdf function to plot a density function overlay over your histogram from **Part C**. "
   ]
  },
  {
   "cell_type": "code",
   "execution_count": 8,
   "metadata": {},
   "outputs": [
    {
     "data": {
      "image/png": "[encoded data removed]",
      "text/plain": [
       "<matplotlib.figure.Figure at 0x7fc2c8f8a198>"
      ]
     },
     "metadata": {},
     "output_type": "display_data"
    }
   ],
   "source": [
    "from scipy.stats import norm\n",
    "\n",
    "u = np.random.normal(3,2, size=10000)\n",
    "fig, ax = plt.subplots(nrows=1, ncols=1, figsize=(10,4))\n",
    "pd.Series(u).hist(ax=ax, bins=20, color=\"steelblue\", normed=True, edgecolor=\"white\")\n",
    "ax.grid(alpha=0.25)\n",
    "ax.set_axisbelow(True)\n",
    "plt.xticks(range(-10,10+1));\n",
    "ax.set_xlim([-10,10])\n",
    "ax.set_ylim([0,.5])\n",
    "\n",
    "x = np.linspace(-10,10,500)\n",
    "f = norm.pdf(x, 3, 2)\n",
    "ax.plot(x,f,color=\"green\");"
   ]
  },
  {
   "cell_type": "markdown",
   "metadata": {},
   "source": [
    "### Exercise 2\n",
    "*** \n",
    "\n",
    "\n",
    "Let $Z$ be a standard normal random variable, i.e. $Z \\sim N(0,1)$.  \n",
    "\n",
    "**Part A**: Use scipy.stats.norm to compute $P(Z \\leq 1.25)$ and $P(Z \\geq 1.25)$. "
   ]
  },
  {
   "cell_type": "markdown",
   "metadata": {
    "collapsed": true
   },
   "source": [
    "**Solution**: We have "
   ]
  },
  {
   "cell_type": "code",
   "execution_count": 29,
   "metadata": {},
   "outputs": [
    {
     "name": "stdout",
     "output_type": "stream",
     "text": [
      "P(Z ≤ 1.25) = 0.863\n",
      "P(Z ≥ 1.25) = 0.137\n"
     ]
    }
   ],
   "source": [
    "print(\"P(Z \\u2264 1.25) = {:.3f}\".format(norm.cdf(1.0954)))\n",
    "print(\"P(Z \\u2265 1.25) = {:.3f}\".format(1.0 - norm.cdf(1.0954)))"
   ]
  },
  {
   "cell_type": "markdown",
   "metadata": {},
   "source": [
    "**Part B**: Use Python to find the critical value $z_\\alpha$ corresponding to a tail with probability mass $0.05$.  That is, the value of $z_\\alpha$ such that $P(Z \\geq z_\\alpha) = 0.05$. "
   ]
  },
  {
   "cell_type": "markdown",
   "metadata": {},
   "source": [
    "**Solution**: "
   ]
  },
  {
   "cell_type": "code",
   "execution_count": 10,
   "metadata": {},
   "outputs": [
    {
     "name": "stdout",
     "output_type": "stream",
     "text": [
      "z_.05 = 1.645\n"
     ]
    }
   ],
   "source": [
    "print(\"z_.05 = {:.3f}\".format(norm.ppf(0.95)))"
   ]
  },
  {
   "cell_type": "markdown",
   "metadata": {},
   "source": [
    "**Part C**: Suppose you want to find $z_\\alpha$ such that $P(-z_\\alpha \\leq Z \\leq z_\\alpha) = 0.95$.  What is the value of $z_\\alpha$ that accomplishes this, and in particular, what is the corresponding value of $\\alpha$? "
   ]
  },
  {
   "cell_type": "markdown",
   "metadata": {},
   "source": [
    "**Solution**: If we want $95\\%$ of the probability between $z_\\alpha$ and $-z_\\alpha$ then this means we want $2.5\\%$ of the probability to the right of $z_\\alpha$ and $2.5\\%$ of the probability to the left of $-z_\\alpha$.  Thus, the critical value that we're interested in is $z_{.025}$. We can find this value using norm.ppf and setting the percentile to $97.5\\%$.   "
   ]
  },
  {
   "cell_type": "code",
   "execution_count": 11,
   "metadata": {},
   "outputs": [
    {
     "name": "stdout",
     "output_type": "stream",
     "text": [
      "z_.025 = 1.960\n"
     ]
    }
   ],
   "source": [
    "z025 = norm.ppf(.975)\n",
    "print(r\"z_.025 = {:.3f}\".format(z025))"
   ]
  },
  {
   "cell_type": "markdown",
   "metadata": {},
   "source": [
    "Finally, we can check that $z_\\alpha$ such that $P(-z_\\alpha \\leq Z \\leq z_\\alpha) = 0.95$. "
   ]
  },
  {
   "cell_type": "code",
   "execution_count": 12,
   "metadata": {},
   "outputs": [
    {
     "name": "stdout",
     "output_type": "stream",
     "text": [
      "P(-1.960 ≤ Z ≤ 1.960 ) = Phi(1.960)-Phi(-1.960) = 0.950\n"
     ]
    }
   ],
   "source": [
    "print(\"P(-1.960 \\u2264 Z \\u2264 1.960 ) = Phi(1.960)-Phi(-1.960) = {:.3f}\".format(norm.cdf(z025)-norm.cdf(-z025)))"
   ]
  },
  {
   "cell_type": "markdown",
   "metadata": {},
   "source": [
    "### Exercise 3  \n",
    "*** \n",
    "\n",
    "The following picture depicts a much-often spouted fact in statistics classes that roughly $68\\%$ of the probability for a normal distribution falls within 1 standard deviation of the mean, roughly $95\\%$ falls within two standard deviations of the mean, etc \n",
    "\n",
    "![alt text](https://upload.wikimedia.org/wikipedia/commons/thumb/8/8c/Standard_deviation_diagram.svg/400px-Standard_deviation_diagram.svg.png)\n",
    "\n",
    "\n",
    "**Part A**: Verify the first fact, that roughly $68\\%$ of the probability in the standard normal distribution falls between $\\mu-\\sigma = -1$ and $\\mu+\\sigma = 1$. \n"
   ]
  },
  {
   "cell_type": "markdown",
   "metadata": {},
   "source": [
    "**Solution**: Let $Z$ be a random variable with standard normal distribution $N(0,1)$.  We have "
   ]
  },
  {
   "cell_type": "code",
   "execution_count": 13,
   "metadata": {},
   "outputs": [
    {
     "name": "stdout",
     "output_type": "stream",
     "text": [
      "P(-1 ≤ Z ≤ 1) = 0.6827\n"
     ]
    }
   ],
   "source": [
    "print(\"P(-1 \\u2264 Z \\u2264 1) = {:.4f}\".format(norm.cdf(1)-norm.cdf(-1)))"
   ]
  },
  {
   "cell_type": "markdown",
   "metadata": {},
   "source": [
    "Note that for convenience, we used the standard normal distribution here.  But this relationship holds for any normal distribution.  For instance, if we let $X$ be a normal distribution with mean $\\mu = 3$ and standard deviation $\\sigma = 2$, then we should be able to check the probability $P(3-2 \\leq X \\leq 3+2) = P(1 \\leq X \\leq 5)$ and get the same result.  Let's check: "
   ]
  },
  {
   "cell_type": "code",
   "execution_count": 14,
   "metadata": {},
   "outputs": [
    {
     "name": "stdout",
     "output_type": "stream",
     "text": [
      "P(1 ≤ X ≤ 5) = 0.6827\n"
     ]
    }
   ],
   "source": [
    "print(\"P(1 \\u2264 X \\u2264 5) = {:.4f}\".format(norm.cdf(5,loc=3,scale=2)-norm.cdf(1,loc=3,scale=2)))"
   ]
  },
  {
   "cell_type": "markdown",
   "metadata": {},
   "source": [
    "**Part B**: Verify the second fact, that roughly $95\\%$ of the probability in the standard normal distribution falls between $\\mu-2\\sigma = -2$ and $\\mu+2\\sigma = 2$. "
   ]
  },
  {
   "cell_type": "code",
   "execution_count": 15,
   "metadata": {},
   "outputs": [
    {
     "name": "stdout",
     "output_type": "stream",
     "text": [
      "P(-2 ≤ Z ≤ 2) = 0.9545\n"
     ]
    }
   ],
   "source": [
    "print(\"P(-2 \\u2264 Z \\u2264 2) = {:.4f}\".format(norm.cdf(2)-norm.cdf(-2)))"
   ]
  },
  {
   "cell_type": "markdown",
   "metadata": {},
   "source": [
    "Similarly, we should obtain the same result for $N(3,4)$ if we compute $P(3-2\\cdot 2 \\leq X \\leq 3+2\\cdot 2) = P(-1 \\leq X \\leq 7)$."
   ]
  },
  {
   "cell_type": "code",
   "execution_count": 16,
   "metadata": {},
   "outputs": [
    {
     "name": "stdout",
     "output_type": "stream",
     "text": [
      "P(-1 ≤ X ≤ 7) = 0.9545\n"
     ]
    }
   ],
   "source": [
    "print(\"P(-1 \\u2264 X \\u2264 7) = {:.4f}\".format(norm.cdf(7,loc=3,scale=2)-norm.cdf(-1, loc=3, scale=2)))"
   ]
  },
  {
   "cell_type": "markdown",
   "metadata": {},
   "source": [
    "**Part C**: Suppose you have grades from a Calculus exam that roughly follow a normal distribution with mean $70$ and standard deviation $15$.  What percentage of the students earned C's and B's (count things like $C$-'s and $B$+'s as $C$'s and $B$'s, etc.)?"
   ]
  },
  {
   "cell_type": "markdown",
   "metadata": {},
   "source": [
    "**Solution**: Let $X$ be the normal random variable with mean $\\mu = 70$ and standard deviation $\\sigma = 15$.  We then wish to compute $P(70 \\leq X \\leq 90)$.  We have "
   ]
  },
  {
   "cell_type": "code",
   "execution_count": 17,
   "metadata": {},
   "outputs": [
    {
     "name": "stdout",
     "output_type": "stream",
     "text": [
      "P(70 ≤ X ≤ 90) = 0.4088\n"
     ]
    }
   ],
   "source": [
    "print(\"P(70 \\u2264 X \\u2264 90) = {:.4f}\".format(norm.cdf(90,70,15)-norm.cdf(70,70,15)))"
   ]
  },
  {
   "cell_type": "markdown",
   "metadata": {},
   "source": [
    "**Part D**: A common curving scheme in university courses is to set the Pass mark of a class at $\\mu - 1.5\\sigma$.  That is, if the overall mean of the course is low, instead of holding back people with grades of $69$ or lower, professors will lower the cutoff point to $\\mu - 1.5\\sigma$.  (Of course, if the mean of the course is higher than usual we don't apply this rule, because we're not monsters). If the grades at the end of a course roughly follow a normal distribution with mean $70$ and standard deviation $15$, what is the cutoff point for passing the class?  What percentage of students will pass the class?  "
   ]
  },
  {
   "cell_type": "markdown",
   "metadata": {},
   "source": [
    "**Solution**: We have "
   ]
  },
  {
   "cell_type": "code",
   "execution_count": 18,
   "metadata": {},
   "outputs": [
    {
     "name": "stdout",
     "output_type": "stream",
     "text": [
      "fail/pass mark = mean - 1.5 x stddev = 47.50\n",
      "P(X ≥ mean - 1.5 x stddev) = 0.93\n"
     ]
    }
   ],
   "source": [
    "print(\"fail/pass mark = mean - 1.5 x stddev = {:.2f}\".format(70-1.5*15))\n",
    "print(\"P(X \\u2265 mean - 1.5 x stddev) = {:.2f}\".format(1-norm.cdf(70-1.5*15, 70, 15)))"
   ]
  },
  {
   "cell_type": "markdown",
   "metadata": {},
   "source": [
    "So the fail/pass mark is $\\mu - 1.5 \\times \\sigma = 47.5$ and $93\\%$ of students achieve passing grades. "
   ]
  },
  {
   "cell_type": "markdown",
   "metadata": {},
   "source": [
    "**Part E**: Repeat the calculations you did in **Parts C** and **E** by first transforming to a standard normal distribution. "
   ]
  },
  {
   "cell_type": "markdown",
   "metadata": {},
   "source": [
    "**Solution**: For **Part C** we convert the endpoints of $70$ and $90$ to their standard normal equivalents of \n",
    "\n",
    "$$\n",
    "70 \\rightarrow \\frac{70-70}{15} = 0 \\quad \\textrm{and} \\quad 90 \\rightarrow \\frac{90-70}{15} = \\frac{4}{3}\n",
    "$$\n",
    "\n",
    "We then have "
   ]
  },
  {
   "cell_type": "code",
   "execution_count": 19,
   "metadata": {},
   "outputs": [
    {
     "name": "stdout",
     "output_type": "stream",
     "text": [
      "P(0 ≤ Z ≤ 4/3) = 0.4088\n"
     ]
    }
   ],
   "source": [
    "print(\"P(0 \\u2264 Z \\u2264 4/3) = {:.4f}\".format(norm.cdf(4/3)-norm.cdf(0)))"
   ]
  },
  {
   "cell_type": "markdown",
   "metadata": {},
   "source": [
    "**Solution**: For **Part D** we convert the left endpoint of $70-1.5 \\times 15$ to \n",
    "\n",
    "$$\n",
    "70 - 1.5 \\times 15 \\rightarrow \\frac{(70-1.5 \\times 15) - 70}{15} = -1.5 \\quad \\textrm{(Is that result mildly obvious?)}\n",
    "$$\n",
    "\n",
    "We then have "
   ]
  },
  {
   "cell_type": "code",
   "execution_count": 20,
   "metadata": {},
   "outputs": [
    {
     "name": "stdout",
     "output_type": "stream",
     "text": [
      "P(X ≥ - 1.5 ) = 0.93\n"
     ]
    }
   ],
   "source": [
    "print(\"P(X \\u2265 - 1.5 ) = {:.2f}\".format(1-norm.cdf(-1.5)))"
   ]
  },
  {
   "cell_type": "markdown",
   "metadata": {},
   "source": [
    "### Exercise 4  \n",
    "*** \n",
    "\n",
    "If you have to draw samples from a normal distribution in a non-prototyping language you might have to roll your own.  Most languages provide a method for sampling from the uniform distribution $U[0,1]$. In C++, for instance, you can generate floats from $U[0,1]$ as follows"
   ]
  },
  {
   "cell_type": "code",
   "execution_count": 21,
   "metadata": {},
   "outputs": [
    {
     "ename": "SyntaxError",
     "evalue": "invalid syntax (<ipython-input-21-df74b7107359>, line 3)",
     "output_type": "error",
     "traceback": [
      "\u001b[0;36m  File \u001b[0;32m\"<ipython-input-21-df74b7107359>\"\u001b[0;36m, line \u001b[0;32m3\u001b[0m\n\u001b[0;31m    double uniformZeroOne()\u001b[0m\n\u001b[0m                        ^\u001b[0m\n\u001b[0;31mSyntaxError\u001b[0m\u001b[0;31m:\u001b[0m invalid syntax\n"
     ]
    }
   ],
   "source": [
    "#include <stdlib.h>\n",
    "\n",
    "double uniformZeroOne()\n",
    "{\n",
    "    return rand() / (RAND_MAX + 1.);\n",
    "}"
   ]
  },
  {
   "cell_type": "markdown",
   "metadata": {},
   "source": [
    "The so-called [Box-Muller Transformation](https://en.wikipedia.org/wiki/Box%E2%80%93Muller_transform) can be used to take random draws from $U[0,1]$ and produce random draws from $N(0,1)$. Look at the Wiki page for Box-Muller and then see if you can implement it.\n",
    "\n",
    "**Part A**: Write a function box_muller with argument size that implements the Box-Muller transformation by sampling from values in $U[0,1]$ and returns size samples from $N(0,1)$. \n"
   ]
  },
  {
   "cell_type": "code",
   "execution_count": 22,
   "metadata": {
    "collapsed": true
   },
   "outputs": [],
   "source": [
    "def box_muller(size):\n",
    "    u1 = np.random.uniform(size=int(size/2))\n",
    "    u2 = np.random.uniform(size=int(size/2))\n",
    "    z1 = np.sqrt(-2*np.log(u1))*np.cos(2*np.pi*u2)\n",
    "    z2 = np.sqrt(-2*np.log(u1))*np.sin(2*np.pi*u2)\n",
    "    return np.concatenate((z1, z2))"
   ]
  },
  {
   "cell_type": "markdown",
   "metadata": {},
   "source": [
    "**Part B**: Use your function from **Part A** to draw at least 10000 samples from $N(0,1)$ and make a histogram. Then use norm.pdf to overlay the standard normal density curve over your histogram and check your work. "
   ]
  },
  {
   "cell_type": "code",
   "execution_count": 23,
   "metadata": {},
   "outputs": [
    {
     "data": {
      "text/plain": [
       "[<matplotlib.lines.Line2D at 0x7fc2c0c41f60>]"
      ]
     },
     "execution_count": 23,
     "metadata": {},
     "output_type": "execute_result"
    },
    {
     "data": {
      "image/png": "[encoded data removed]",
      "text/plain": [
       "<matplotlib.figure.Figure at 0x7fc2c0c9b1d0>"
      ]
     },
     "metadata": {},
     "output_type": "display_data"
    }
   ],
   "source": [
    "z = box_muller(size=50000)\n",
    "fig, ax = plt.subplots(nrows=1, ncols=1, figsize=(10,4))\n",
    "pd.Series(z).hist(ax=ax, bins=40, color=\"steelblue\", normed=True, edgecolor=\"white\")\n",
    "ax.grid(alpha=0.25)\n",
    "ax.set_axisbelow(True)\n",
    "ax.set_xlim([-5,5])\n",
    "ax.set_ylim([0,.5])\n",
    "x = np.linspace(-5,5,100)\n",
    "f = norm.pdf(x)\n",
    "ax.plot(x, f, color=\"green\")"
   ]
  },
  {
   "cell_type": "code",
   "execution_count": null,
   "metadata": {
    "collapsed": true
   },
   "outputs": [],
   "source": []
  },
  {
   "cell_type": "code",
   "execution_count": null,
   "metadata": {
    "collapsed": true
   },
   "outputs": [],
   "source": []
  },
  {
   "cell_type": "code",
   "execution_count": null,
   "metadata": {
    "collapsed": true
   },
   "outputs": [],
   "source": []
  }
 ],
 "metadata": {
  "kernelspec": {
   "display_name": "Python 3",
   "language": "python",
   "name": "python3"
  },
  "language_info": {
   "codemirror_mode": {
    "name": "ipython",
    "version": 3
   },
   "file_extension": ".py",
   "mimetype": "text/x-python",
   "name": "python",
   "nbconvert_exporter": "python",
   "pygments_lexer": "ipython3",
   "version": "3.5.4"
  }
 },
 "nbformat": 4,
 "nbformat_minor": 2
}
