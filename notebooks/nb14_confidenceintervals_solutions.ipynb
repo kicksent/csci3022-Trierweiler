{
 "cells": [
  {
   "cell_type": "markdown",
   "metadata": {},
   "source": [
    "# Lecture 14: Introduction to Confidence Intervals Solutions\n",
    "***\n",
    "\n",
    "We'll need Numpy, Matplotlib, Pandas, and scipy.stats for this notebook, so let's load them. "
   ]
  },
  {
   "cell_type": "code",
   "execution_count": 5,
   "metadata": {
    "collapsed": true
   },
   "outputs": [],
   "source": [
    "import numpy as np \n",
    "from scipy import stats\n",
    "import pandas as pd \n",
    "import matplotlib.pylab as plt \n",
    "%matplotlib inline"
   ]
  },
  {
   "cell_type": "markdown",
   "metadata": {},
   "source": [
    "### Exercise 1 - Sampling Confidence Intervals \n",
    "*** \n",
    "\n",
    "In this exercise we'll get some experience implementing confidence intervals for samples of a population.  Suppose that we wish to sample household incomes from a population in units of hundreds-of-thousands of dollars.  In general it is not necessary that we know the distribution that the quantity of interest follows, but in this case we'll assume that household income follows a Weibull distribution. \n",
    "\n",
    "We can draw samples from this population and plot the histogram as follows: "
   ]
  },
  {
   "cell_type": "code",
   "execution_count": 6,
   "metadata": {},
   "outputs": [
    {
     "data": {
      "image/png": "[encoded data removed]",
      "text/plain": [
       "<matplotlib.figure.Figure at 0x7f78ff7c16d8>"
      ]
     },
     "metadata": {},
     "output_type": "display_data"
    }
   ],
   "source": [
    "fig, ax = plt.subplots(nrows=1, ncols=1, figsize=(12,6))\n",
    "x = stats.weibull_min.rvs(loc=0.1, c=1.3, size=10000)\n",
    "pd.Series(x).hist(ax=ax, color=\"steelblue\", edgecolor=\"white\", bins=20, normed=True)\n",
    "ax.grid(alpha=0.25)\n",
    "ax.set_axisbelow(True)\n",
    "ax.set_xlabel(\"Income in Hundreds of Thousands of Dollars\", fontsize=16)\n",
    "ax.set_ylabel(\"Density\", fontsize=16)\n",
    "ax.set_title(\"Density of Income\", fontsize=20);"
   ]
  },
  {
   "cell_type": "markdown",
   "metadata": {},
   "source": [
    "**Part A**: Complete the following function that draws 20 independent samples of size $n$ from the population and plots confidence intervals for each sample against the mean.  Because we know the distribution from sampling from, we can use the exact mean and variance in the determination of the confidence intervals.   "
   ]
  },
  {
   "cell_type": "code",
   "execution_count": 10,
   "metadata": {},
   "outputs": [
    {
     "name": "stdout",
     "output_type": "stream",
     "text": [
      "0.935953622731 1.0200037276\n",
      "1.00887793102 1.09458205432\n",
      "0.957817929646 1.04024812201\n",
      "0.989781737984 1.07801727674\n",
      "0.965414739243 1.05591470427\n",
      "0.997087825157 1.08740758604\n",
      "0.934038238942 1.01956056371\n",
      "0.95437365524 1.04421183923\n",
      "0.967928496258 1.0576003819\n",
      "1.00755321885 1.09955418176\n",
      "0.981010015037 1.07130031727\n",
      "0.970694853884 1.05373692466\n",
      "0.981384560782 1.07531071804\n",
      "0.978306401016 1.06662116768\n",
      "1.00059585869 1.08805566962\n",
      "0.970033824329 1.05540766225\n",
      "1.0002110974 1.09487116579\n",
      "0.974467131553 1.06017691484\n",
      "0.981971243452 1.06995793526\n",
      "0.958262046285 1.04859762615\n",
      "[ 0.5355587]\n"
     ]
    },
    {
     "data": {
      "image/png": "[encoded data removed]",
      "text/plain": [
       "<matplotlib.figure.Figure at 0x7f78f7780b00>"
      ]
     },
     "metadata": {},
     "output_type": "display_data"
    }
   ],
   "source": [
    "def income_CI(n=100, alpha=.05):\n",
    "    \n",
    "    fig, ax = plt.subplots(nrows=1, ncols=1, figsize=(12,6))\n",
    "    \n",
    "    # Get the true mean and variance of the distribution \n",
    "    mean, var = stats.weibull_min.stats(loc=0.1, c=1.3, moments='mv')\n",
    "    \n",
    "    ax.plot([0,19], [mean, mean], color=\"steelblue\", ls='--', lw=3)\n",
    "    \n",
    "    # Draw 20 independent samples of size n \n",
    "    for sId in range(20):\n",
    "        # Draw samples from Weibull distribution \n",
    "        x = stats.weibull_min.rvs(loc=0.1, c=1.3, size=n)\n",
    "        xbar = np.mean(x) \n",
    "        za = stats.norm.ppf(1-alpha/2)\n",
    "        se = np.std(x)/np.sqrt(n)\n",
    "        CImin = xbar-za*se \n",
    "        CImax = xbar+za*se \n",
    "        ax.plot([sId, sId], [CImin, CImax])\n",
    "        print(CImin, CImax)\n",
    "        \n",
    "    ax.set_xlim([-1,20])\n",
    "    plt.xticks(range(20), fontsize=12)\n",
    "        \n",
    "income_CI(n=1000)\n",
    "print(stats.weibull_min.rvs(loc=0.1, c=1.3, size=1))"
   ]
  },
  {
   "cell_type": "markdown",
   "metadata": {},
   "source": [
    "**Part B**: Run your simulation above multiple times.  About how many of the 20 CIs would you expect to not cover the mean?  Do your experiments above bear this out?   "
   ]
  },
  {
   "cell_type": "markdown",
   "metadata": {
    "collapsed": true
   },
   "source": [
    "At the $\\alpha = 0.05$ significance level we expect the $100(1-\\alpha)\\%$ confidence interval to cover the true mean about 95% of the time.  In most of our experiments we find that $1$ out of $20$ of the CIs fail to cover the true mean, which agrees with our theoretical analysis. "
   ]
  },
  {
   "cell_type": "code",
   "execution_count": null,
   "metadata": {
    "collapsed": true
   },
   "outputs": [],
   "source": []
  }
 ],
 "metadata": {
  "kernelspec": {
   "display_name": "Python 3",
   "language": "python",
   "name": "python3"
  },
  "language_info": {
   "codemirror_mode": {
    "name": "ipython",
    "version": 3
   },
   "file_extension": ".py",
   "mimetype": "text/x-python",
   "name": "python",
   "nbconvert_exporter": "python",
   "pygments_lexer": "ipython3",
   "version": "3.5.4"
  }
 },
 "nbformat": 4,
 "nbformat_minor": 2
}
