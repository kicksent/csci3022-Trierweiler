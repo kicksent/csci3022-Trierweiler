{
 "cells": [
  {
   "cell_type": "markdown",
   "metadata": {},
   "source": [
    "# Lecture 22: Introduction to statistical regression\n",
    "***\n",
    "\n",
    "We'll need Numpy, Matplotlib, and scipy.stats for this notebook, so let's load them. "
   ]
  },
  {
   "cell_type": "code",
   "execution_count": 3,
   "metadata": {
    "collapsed": true
   },
   "outputs": [],
   "source": [
    "import numpy as np \n",
    "from scipy import stats\n",
    "import matplotlib.pylab as plt \n",
    "%matplotlib inline\n",
    "almostblack = np.array([10,10,10])/255\n",
    "mycolor = np.array([140,180,10])/255"
   ]
  },
  {
   "cell_type": "markdown",
   "metadata": {},
   "source": [
    "## Exercise 1: Noisy Lines"
   ]
  },
  {
   "cell_type": "markdown",
   "metadata": {},
   "source": [
    "The formula for a line is usually written as \n",
    "$$y = b+mx$$\n",
    "\n",
    "This defines the relationship between $x$ and $y$, by multiplying $x$ by the slope $m$ and adding the intercept $b$. \n",
    "\n",
    "Since we can call the slope and intercept anything we want, we'll use the notation found in your book, \n",
    "$$y = \\alpha + \\beta x$$\n",
    "\n",
    "** Part A **: There is nothing random in the equation above. Write a function that plots this equation for $\\alpha=0.5$ and $\\beta=1$, on the domain $x \\in [0,5]$."
   ]
  },
  {
   "cell_type": "code",
   "execution_count": 9,
   "metadata": {
    "collapsed": true
   },
   "outputs": [],
   "source": [
    "def plot_line():\n",
    "    alpha = 0.5\n",
    "    beta = 1.0\n",
    "    x = np.linspace(1,20,50)\n",
    "    y = alpha+beta*x\n",
    "    fig, ax = plt.subplots(nrows=1, ncols=1, figsize=(8,6))\n",
    "    line = ax.plot(x,y,color=mycolor,label=\"y=x+0.5\")\n",
    "    ax.set_xlabel(\"x\", fontsize=16)\n",
    "    ax.set_ylabel(\"y\", fontsize=16)\n",
    "    ax.set_ylim([0,6])\n",
    "    ax.set_xlim([0,5])\n",
    "    frame1 = plt.gca()\n",
    "    plt.legend()"
   ]
  },
  {
   "cell_type": "code",
   "execution_count": 5,
   "metadata": {},
   "outputs": [
    {
     "data": {
      "image/png": "[encoded data removed]",
      "text/plain": [
       "<matplotlib.figure.Figure at 0x7f179e060400>"
      ]
     },
     "metadata": {},
     "output_type": "display_data"
    }
   ],
   "source": [
    "plot_line()"
   ]
  },
  {
   "cell_type": "markdown",
   "metadata": {},
   "source": [
    "**Part B**: We have, in many courses in past years, called $x$ the independent variable and $y$ the dependent variable. Here, we'll introduce some new words: We will sometimes call $x$ the predictor or the explanatory variable. In machine learning, the vocabulary word that you may hear is that $x$ is a feature. \n",
    "\n",
    "On the other hand $y$, the dependent variable, may be called the response variable. \n",
    "\n",
    "Normally, when we plot lines, for a given independent variable $x$, there is a fixed $y$. But in real-world scenarios, we don't just get $y$ back. We often get $y$ back with _noise_.\n",
    "\n",
    "Write a function that takes in values of $x$, $\\alpha$, and $\\beta$ below, and returns \n",
    "$$ y = \\alpha + \\beta x + \\epsilon$$\n",
    "where $\\epsilon$ is drawn from a Normal distribution with mean of $0$ and variance of $\\sigma^2$. Be sure to allow your function to take the variance as an input, too."
   ]
  },
  {
   "cell_type": "code",
   "execution_count": null,
   "metadata": {
    "collapsed": true
   },
   "outputs": [],
   "source": [
    "def y_noisy(a,b,x,var):\n",
    "    noise = np.random.n\n",
    "    return a+x*b+noise"
   ]
  },
  {
   "cell_type": "markdown",
   "metadata": {},
   "source": [
    "**Part C**: Use your function from Part B to make a plot of this noise-added data, for $x \\in [0,5]$, with 25 evenly spaced values. On top of these noisy values, plot the noise-free values, like you did in Part A. Looking ahead, it will be nice if you can easily change the slope, intercept, number of points, and noise levels for this plot, so please write a function that allows you to, for now, plot with the parameters discussed so far. "
   ]
  },
  {
   "cell_type": "code",
   "execution_count": null,
   "metadata": {
    "collapsed": true
   },
   "outputs": [],
   "source": [
    "def plot_line_noisy(var=1,alpha=1,beta=1,n_points=25):\n",
    "    x = np.linspace(0,5,n_points)\n",
    "    y = y_noisy(alpha,beta,x,var)\n",
    "    fig, ax = plt.subplots(nrows=1,ncols=1,figsize=(8,6))\n",
    "    ax.scatter(x,y,color=almostblack,marker='o',label=\"y=x+0.5+noise\")\n",
    "    ax.plot(x,alpha*x+beta,color=mycolor,label=\"y=x+0.5\")\n",
    "    ax.set_xlabel(\"x\", fontsize=16)\n",
    "    ax.set_ylabel(\"y\", fontsize=16)\n",
    "    plt.legend()\n",
    "    "
   ]
  },
  {
   "cell_type": "code",
   "execution_count": null,
   "metadata": {
    "collapsed": true
   },
   "outputs": [],
   "source": [
    "plot_line_noisy(var=1)"
   ]
  },
  {
   "cell_type": "markdown",
   "metadata": {},
   "source": [
    "**Part D**: Slowly increase the value of the variance of the noise, and create a few more plots. Comment on what you notice."
   ]
  },
  {
   "cell_type": "code",
   "execution_count": null,
   "metadata": {
    "collapsed": true
   },
   "outputs": [],
   "source": [
    "plot_line_noisy(var=#TODO)\n",
    "plot_line_noisy(var=#TODO)"
   ]
  },
  {
   "cell_type": "markdown",
   "metadata": {},
   "source": [
    "I see that as I add more noise... the line really only vaguely describes the data. I can sort of still see the trend that the line says is there, but it's not very convincing. "
   ]
  },
  {
   "cell_type": "markdown",
   "metadata": {},
   "source": [
    "## Exercise 2: Repeat-o-fit\n",
    "\n",
    "**Part A**: Code up a function that takes in sets of matched x and y values and returns the linear regression parameters $\\hat{\\alpha}$ and $\\hat{\\beta}$."
   ]
  },
  {
   "cell_type": "code",
   "execution_count": null,
   "metadata": {
    "collapsed": true
   },
   "outputs": [],
   "source": [
    "def regression(x,y):\n",
    "    xbar = # TODO \n",
    "    ybar = # TODO \n",
    "    numerator = # TODO \n",
    "    denominator = #TODO \n",
    "    beta = numerator/denominator\n",
    "    alpha = ybar - beta*xbar\n",
    "    yhat = alpha + beta*x\n",
    "    return alpha,beta,yhat"
   ]
  },
  {
   "cell_type": "markdown",
   "metadata": {},
   "source": [
    "**Part B**: Using your functions from Exercise 1, consider 10 equally-spaced values of x between 0 and 5, and add noise to a line with slope 2 and intercept 0.5.  Let the variance of the noise be 2. \n",
    "\n",
    "Then, fit the points using your function from Part A. On the same axes, create a plot of \n",
    "- the noisy points \n",
    "- your best fit line\n",
    "- the original line"
   ]
  },
  {
   "cell_type": "code",
   "execution_count": null,
   "metadata": {
    "collapsed": true
   },
   "outputs": [],
   "source": [
    "x = np.linspace(0,5,10)\n",
    "y = y_noisy(0.5,2,x,var=2)\n",
    "ytrue = 0.5+2*x\n",
    "alpha,beta,yhat = regression(x,y)\n",
    "fig, ax = plt.subplots(nrows=1,ncols=1,figsize=(8,6))\n",
    "scatter = ax.scatter(x,y,color=almostblack,marker='o',label=\"data\")\n",
    "line = ax.plot(x,yhat,color=mycolor,label=\"LS fit\")\n",
    "line2 = ax.plot(x,ytrue,color=almostblack,label=\"Model\",linestyle='--') \n",
    "ax.set_xlabel(\"x\", fontsize=16)\n",
    "ax.set_ylabel(\"y\", fontsize=16)\n",
    "plt.legend()\n"
   ]
  },
  {
   "cell_type": "markdown",
   "metadata": {},
   "source": [
    "**Part C** Repeatedly redraw your plot from Part B and note the accuracies of the slope and intercept estimates. Experiment with changing the number of points, previously set to 10. Experiment with changing the variance of the noise. What do you notice?"
   ]
  },
  {
   "cell_type": "markdown",
   "metadata": {},
   "source": [
    "Increasing the number of points appears to increase the accuracy of the best-fit line. Decreasing the variance also appears to increase the accuracy of the best-fit line."
   ]
  },
  {
   "cell_type": "markdown",
   "metadata": {},
   "source": [
    "**Part D**: When plotting, the alpha parameter controls the transparency of the line. Use an alpha of 0.05 to plot the best-fit lines of 500 separate datasets with $\\alpha=0.5$, $\\beta=0.5$, $\\sigma^2=2$, and $x \\in [0,5]$ in 10 evenly spaced points.  \n",
    "\n",
    "Do not plot the points used for regression; only the best-fit lines.\n",
    "\n",
    "On top of these, plot the true line, with no noise. "
   ]
  },
  {
   "cell_type": "code",
   "execution_count": null,
   "metadata": {
    "collapsed": true
   },
   "outputs": [],
   "source": []
  },
  {
   "cell_type": "code",
   "execution_count": null,
   "metadata": {
    "collapsed": true
   },
   "outputs": [],
   "source": []
  }
 ],
 "metadata": {
  "kernelspec": {
   "display_name": "Python 3",
   "language": "python",
   "name": "python3"
  },
  "language_info": {
   "codemirror_mode": {
    "name": "ipython",
    "version": 3
   },
   "file_extension": ".py",
   "mimetype": "text/x-python",
   "name": "python",
   "nbconvert_exporter": "python",
   "pygments_lexer": "ipython3",
   "version": "3.5.4"
  }
 },
 "nbformat": 4,
 "nbformat_minor": 2
}
