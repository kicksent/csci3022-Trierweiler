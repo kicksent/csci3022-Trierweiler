{
 "cells": [
  {
   "cell_type": "markdown",
   "metadata": {},
   "source": [
    "# Lecture 26: Anotha' ANOVA \n",
    "***\n",
    "\n",
    "We'll need Numpy, Matplotlib, Pandas, and scipy.stats for this notebook, so let's load them. "
   ]
  },
  {
   "cell_type": "code",
   "execution_count": 2,
   "metadata": {},
   "outputs": [
    {
     "name": "stderr",
     "output_type": "stream",
     "text": [
      "/home/sinner/miniconda3/lib/python3.5/site-packages/statsmodels/compat/pandas.py:56: FutureWarning: The pandas.core.datetools module is deprecated and will be removed in a future version. Please use the pandas.tseries module instead.\n",
      "  from pandas.core import datetools\n"
     ]
    }
   ],
   "source": [
    "import numpy as np \n",
    "from scipy import stats\n",
    "import statsmodels.api as sm \n",
    "import pandas as pd\n",
    "import matplotlib.pylab as plt \n",
    "%matplotlib inline"
   ]
  },
  {
   "cell_type": "markdown",
   "metadata": {},
   "source": [
    "### Suppose we have data from an experiment\n",
    "\n",
    "A number of otters were dressed in costumes and elementary school children were asked to bid on them to take them home as pets, using a token system. The costume types were octopus, robot, and panda. The question is whether the costumes actually have different effects from each other, or whether they are statistically the same. "
   ]
  },
  {
   "cell_type": "code",
   "execution_count": 13,
   "metadata": {},
   "outputs": [
    {
     "data": {
      "text/html": [
       "<div>\n",
       "<style scoped>\n",
       "    .dataframe tbody tr th:only-of-type {\n",
       "        vertical-align: middle;\n",
       "    }\n",
       "\n",
       "    .dataframe tbody tr th {\n",
       "        vertical-align: top;\n",
       "    }\n",
       "\n",
       "    .dataframe thead th {\n",
       "        text-align: right;\n",
       "    }\n",
       "</style>\n",
       "<table border=\"1\" class=\"dataframe\">\n",
       "  <thead>\n",
       "    <tr style=\"text-align: right;\">\n",
       "      <th></th>\n",
       "      <th>octopuses</th>\n",
       "      <th>robots</th>\n",
       "      <th>pandas</th>\n",
       "    </tr>\n",
       "  </thead>\n",
       "  <tbody>\n",
       "    <tr>\n",
       "      <th>0</th>\n",
       "      <td>2.0</td>\n",
       "      <td>5</td>\n",
       "      <td>7.0</td>\n",
       "    </tr>\n",
       "    <tr>\n",
       "      <th>1</th>\n",
       "      <td>4.0</td>\n",
       "      <td>5</td>\n",
       "      <td>4.0</td>\n",
       "    </tr>\n",
       "    <tr>\n",
       "      <th>2</th>\n",
       "      <td>7.0</td>\n",
       "      <td>3</td>\n",
       "      <td>6.0</td>\n",
       "    </tr>\n",
       "    <tr>\n",
       "      <th>3</th>\n",
       "      <td>1.0</td>\n",
       "      <td>4</td>\n",
       "      <td>8.0</td>\n",
       "    </tr>\n",
       "    <tr>\n",
       "      <th>4</th>\n",
       "      <td>2.0</td>\n",
       "      <td>4</td>\n",
       "      <td>6.0</td>\n",
       "    </tr>\n",
       "    <tr>\n",
       "      <th>5</th>\n",
       "      <td>1.0</td>\n",
       "      <td>7</td>\n",
       "      <td>6.0</td>\n",
       "    </tr>\n",
       "    <tr>\n",
       "      <th>6</th>\n",
       "      <td>5.0</td>\n",
       "      <td>2</td>\n",
       "      <td>2.0</td>\n",
       "    </tr>\n",
       "    <tr>\n",
       "      <th>7</th>\n",
       "      <td>NaN</td>\n",
       "      <td>2</td>\n",
       "      <td>9.0</td>\n",
       "    </tr>\n",
       "    <tr>\n",
       "      <th>8</th>\n",
       "      <td>NaN</td>\n",
       "      <td>6</td>\n",
       "      <td>NaN</td>\n",
       "    </tr>\n",
       "    <tr>\n",
       "      <th>9</th>\n",
       "      <td>NaN</td>\n",
       "      <td>3</td>\n",
       "      <td>NaN</td>\n",
       "    </tr>\n",
       "    <tr>\n",
       "      <th>10</th>\n",
       "      <td>NaN</td>\n",
       "      <td>6</td>\n",
       "      <td>NaN</td>\n",
       "    </tr>\n",
       "  </tbody>\n",
       "</table>\n",
       "</div>"
      ],
      "text/plain": [
       "    octopuses  robots  pandas\n",
       "0         2.0       5     7.0\n",
       "1         4.0       5     4.0\n",
       "2         7.0       3     6.0\n",
       "3         1.0       4     8.0\n",
       "4         2.0       4     6.0\n",
       "5         1.0       7     6.0\n",
       "6         5.0       2     2.0\n",
       "7         NaN       2     9.0\n",
       "8         NaN       6     NaN\n",
       "9         NaN       3     NaN\n",
       "10        NaN       6     NaN"
      ]
     },
     "execution_count": 13,
     "metadata": {},
     "output_type": "execute_result"
    }
   ],
   "source": [
    "# Let's load in the data and take a look\n",
    "df = pd.read_csv(\"data/pro.csv\")\n",
    "df.head(11)\n"
   ]
  },
  {
   "cell_type": "code",
   "execution_count": 15,
   "metadata": {},
   "outputs": [
    {
     "name": "stdout",
     "output_type": "stream",
     "text": [
      "7\n",
      "11\n",
      "4.14348962726\n"
     ]
    }
   ],
   "source": [
    "#df = df.dropna()\n",
    "grand_mean = (df['octopuses'].sum() + df['robots'].sum() + df['pandas'].sum()) / (df['octopuses'].count() + df['robots'].count() + df['pandas'].count()) \n",
    "octo_ybar = df['octopuses'].mean()\n",
    "print(df['octopuses'].count())\n",
    "print(df['robots'].count())\n",
    "robot_ybar = df['robots'].mean()\n",
    "pandas_ybar = df['pandas'].mean()\n",
    "\n",
    "\n",
    "# I = 3\n",
    "# N = total N\n",
    "# n = number of items in cur group\n",
    "\n",
    "SSB = ((octo_ybar - grand_mean)**2) + ((pandas_ybar - grand_mean)**2) + ((robot_ybar - grand_mean)**2)\n",
    "print(SSB)"
   ]
  },
  {
   "cell_type": "code",
   "execution_count": 33,
   "metadata": {},
   "outputs": [
    {
     "name": "stdout",
     "output_type": "stream",
     "text": [
      "ybar: 4.2727272727272725 for robots\n",
      "ybar: 6.0 for pandas\n",
      "ybar: 3.142857142857143 for octopuses\n",
      "SSW 93.038961039\n",
      "I: 3\n",
      "grand_mean: 4.5\n",
      "N: 26\n",
      "Fstatistic: 3.88871440536\n",
      "p value: 0.0350912029669\n"
     ]
    }
   ],
   "source": [
    "#dblarremore code format\n",
    "groups = {\"robots\",\"octopuses\", \"pandas\"}\n",
    "SSW = 0\n",
    "N = 0\n",
    "grand_sum = 0\n",
    "for group in groups:\n",
    "    y = df[group].dropna()\n",
    "    ybar = np.mean(y)\n",
    "    SSW += np.sum((y-ybar)**2)\n",
    "    print(\"ybar:\", ybar, \"for\", group)\n",
    "    N += len(y)\n",
    "    grand_sum += np.sum(y)\n",
    "print(\"SSW\", SSW)\n",
    "I = len(groups)\n",
    "print(\"I:\", I)\n",
    "grand_mean = grand_sum/N\n",
    "print(\"grand_mean:\" ,grand_mean)\n",
    "print(\"N:\", N)\n",
    "    \n",
    "SSB = 0\n",
    "for group in groups:\n",
    "    y = df[group].dropna()\n",
    "    ybar = np.mean(y)\n",
    "    ni = len(y)\n",
    "    SSB += ni * (ybar - grand_mean)**2\n",
    "    \n",
    "SSBdof = I-1\n",
    "SSWdof = N-I\n",
    "\n",
    "Fstat = (SSB/SSBdof) / (SSW/SSWdof)\n",
    "print('Fstatistic:', Fstat)\n",
    "pval = 1-stats.f.cdf(Fstat, I-1, N-I)\n",
    "print(\"p value:\", pval)"
   ]
  },
  {
   "cell_type": "code",
   "execution_count": 36,
   "metadata": {},
   "outputs": [
    {
     "name": "stdout",
     "output_type": "stream",
     "text": [
      "F statistic: 3.88871440536\n",
      "pvalue: 0.0350912029669\n"
     ]
    }
   ],
   "source": [
    "F,p = stats.f_oneway(\n",
    "    df['octopuses'].dropna(), \n",
    "    df[\"pandas\"].dropna(), \n",
    "    df['robots'].dropna()\n",
    ")\n",
    "print(\"F statistic:\", F)\n",
    "print(\"pvalue:\", p)"
   ]
  },
  {
   "cell_type": "markdown",
   "metadata": {},
   "source": [
    "### Same result"
   ]
  },
  {
   "cell_type": "code",
   "execution_count": null,
   "metadata": {
    "collapsed": true
   },
   "outputs": [],
   "source": []
  }
 ],
 "metadata": {
  "kernelspec": {
   "display_name": "Python 3",
   "language": "python",
   "name": "python3"
  },
  "language_info": {
   "codemirror_mode": {
    "name": "ipython",
    "version": 3
   },
   "file_extension": ".py",
   "mimetype": "text/x-python",
   "name": "python",
   "nbconvert_exporter": "python",
   "pygments_lexer": "ipython3",
   "version": "3.5.4"
  }
 },
 "nbformat": 4,
 "nbformat_minor": 2
}
