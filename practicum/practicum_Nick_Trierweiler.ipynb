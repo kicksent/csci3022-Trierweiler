{
 "cells": [
  {
   "cell_type": "code",
   "execution_count": 1,
   "metadata": {},
   "outputs": [
    {
     "name": "stderr",
     "output_type": "stream",
     "text": [
      "C:\\Users\\Sinner\\Anaconda3\\lib\\site-packages\\statsmodels\\compat\\pandas.py:56: FutureWarning: The pandas.core.datetools module is deprecated and will be removed in a future version. Please use the pandas.tseries module instead.\n",
      "  from pandas.core import datetools\n"
     ]
    }
   ],
   "source": [
    "import numpy as np \n",
    "from scipy import stats\n",
    "import statsmodels.api as sm \n",
    "import pandas as pd\n",
    "import matplotlib.pylab as plt \n",
    "%matplotlib inline"
   ]
  },
  {
   "cell_type": "markdown",
   "metadata": {},
   "source": [
    "# CSCI 3022: Intro to Data Science - Spring 2018 Practicum \n",
    "***\n",
    "- <span style=\"color:blue\">Version 1.01 - clarified problem 1B (in blue text).</span>\n",
    "- <span style=\"color:green\">Version 1.02 - clarified problem 1D (in green text).</span>\n",
    "\n",
    "\n",
    "This practicum is due on Moodle by **11:59pm on Wednesday May 2nd**. Your solutions to theoretical questions should be done in Markdown/MathJax directly below the associated question.  Your solutions to computational questions should include any specified Python code and results as well as written commentary on your conclusions.  \n",
    "\n",
    "**Here are the rules:** \n",
    "\n",
    "1. All work, code and analysis, must be your own. \n",
    "1. You may use your course notes, posted lecture slides, in-class notebooks, and homework solutions as resources.  You may also search online for answers to general knowledge questions like the form of a probability distribution function or how to perform a particular operation in Python/Pandas. \n",
    "2. You may **NOT** post to message boards or other online resources asking for help. \n",
    "3. You may **NOT** collaborate with classmates or anyone else.  \n",
    "\n",
    "Violation of the above rules will result in an **F** in the course and a trip to Honor Council. \n",
    "\n",
    "***\n",
    "\n",
    "**By writing your name below you agree to abide by the rules given above:**\n",
    "\n",
    "**Name**: \n",
    "\n",
    "***\n",
    "\n",
    "\n",
    "**NOTES**: \n",
    "\n",
    "- You may not use late days on the practicum nor can you drop your practicum grade. \n",
    "- If you have a question for Chris and Dan, post it as a **PRIVATE** message on Piazza.  If we decide that the question is appropriate for the entire class we will make the post public (and anonymous). \n",
    "- Do **NOT** load or use any Python packages that are not available in Anaconda 3.6. \n",
    "- Some problems with code may be autograded.  If we provide a function API **do not** change it.  If we do not provide a function API then you're free to structure your code however you like. \n",
    "- Submit only this Jupyter notebook to Moodle.  Do not compress it using tar, rar, zip, etc. "
   ]
  },
  {
   "cell_type": "markdown",
   "metadata": {},
   "source": [
    "### [35 points] Problem 1: Malaria Parasite Problems\n",
    "***\n",
    "\n",
    "Malaria parasites are very good at evading the immune system. Each parasite's genome has 60 different versions of a key immune evasion gene, so that when you get malaria, instead of simply getting sick and then getting better, the parasite switches among its 60 genes, sequentially, thereby changing its camouflage over and over and over. This is one of the reasons that malaria is still a huge problem today: you never develop a really strong immunity to the overall parasite population, due to its huge genetic diversity. You can read more about this [here](https://www.quantamagazine.org/networks-untangle-malarias-deadly-shuffle-20151015/) if you like. \n",
    "\n",
    "Here we are concerned with helping out lab scientists in desigining and evaluating their genetic sequencing experiments which target _var_ genes. The setup is as follows:\n",
    "\n",
    "* Each parasite has a repertoire of 60 different \"var\" genes.\n",
    "* A process called PCR is applied to a parasite genome. If PCR is successful, we get the sequence of one of the var genes, drawn at random from the repertoire of 60. However, PCR might not be successful at all, in which case we get nothing. Let the probability that a PCR attempt fails be equal to $f$. \n",
    "* In other words, with probability $f$, PCR yields nothing. With probability $1-f$, PCR produces a var gene sequence, and this sequence is chosen uniformly at random from among the total 60 var genes. \n",
    "* Importantly, PCR _does not deplete the DNA in the sample_, meaning that if one repeats the PCR process, the stochastic process described above takes place again, independently of the outcome of the previous PCR.\n",
    "* In other words, a repeated PCR might fail, or it might succeed. And, if it succeeds, the same gene might be sequenced _or_ a different one of the 60 genes might be sequenced.\n",
    "* To be clear: repeating PCR might sample a previously sampled gene, or it might sample another one of the 60. Then again, any individual PCR fails with probability $f$."
   ]
  },
  {
   "cell_type": "markdown",
   "metadata": {},
   "source": [
    "**Part A**: Suppose you have the budget to do $r$ PCR replicates (i.e. $r$ indepedent PCR trials). Let $k$ be the number of PCRs that are successful. Since $k$ is a random variable, what is the name of its distribution? What is the expected value of $k$, and how does it depend on $r$? What is the standard deviation of $k$?"
   ]
  },
  {
   "cell_type": "markdown",
   "metadata": {},
   "source": [
    "This is a Binomial Distribution where:\n",
    "\n",
    "$p = 1-f$\n",
    "\n",
    "$q = f$\n",
    "\n",
    "$E[Event] = (num replicates) * (probability of success)$\n",
    "\n",
    "Expected Value: $E[k] = n * p$ or for our case $E[k] = r * (1-f)$\n",
    "\n",
    "STD: $\\sqrt{var}$ = $\\sqrt{np(1-p)}$ or for our case $\\sqrt{r*(1-f)*(1-(1-f))}$\n",
    "\n"
   ]
  },
  {
   "cell_type": "markdown",
   "metadata": {},
   "source": [
    "**Part B**: Write a function called `draw_pcr_samples(r,f,var_repertoire)` that makes $r$ repeated attemps at PCR, each with independent probability of failure $f$. This code must return a list of the successfully sequenced var genes. For your convenience, please use the list `var_repertoire` below as the 60 possible var genes that are being sampled. <span style=\"color:blue\">When written correctly, the output of this code will change each time, depending on the success or failure of each PCR, and which var gene is chosen. To examine the output of your function, please repeatedly call it under three different conditions, and produce the following histograms: </span>\n",
    "* <span style=\"color:blue\">distribution of the</span> number of unique var genes sampled for $r=48$ and $f=0$. Make this histogram **`blue`**.\n",
    "* <span style=\"color:blue\">distribution of the</span> number of unique var genes sampled for $r=60$ and $f=0.2$. Make this histogram **`green`**.\n",
    "* <span style=\"color:blue\">distribution of the</span> number of unique var genes sampled for $r=120$ and $f=0.6$. Make this histogram **`gold`**."
   ]
  },
  {
   "cell_type": "markdown",
   "metadata": {},
   "source": [
    "#r = number of PCRS\n",
    "#f = failure rate\n",
    "#var_repertoire = set\n",
    "#### all of question 1 can be done by simulation, and making plots\n",
    "\n",
    "might get 1 unique var gene, \n",
    "\n",
    "everytime we run the code we get a list of var genes, how many are unique?\n",
    "\n",
    "histogram is the count of the var genes, normalized so that each bin represents the probability that if we run the code, we end up in THAT bin\n",
    "\n",
    "#### for 2 better get numbers between 1 and 60\n",
    "\n",
    "Freedman–Diaconis rule for bins?\n"
   ]
  },
  {
   "cell_type": "code",
   "execution_count": 665,
   "metadata": {},
   "outputs": [
    {
     "data": {
      "text/plain": [
       "'P'"
      ]
     },
     "execution_count": 665,
     "metadata": {},
     "output_type": "execute_result"
    }
   ],
   "source": [
    "var_repertoire = ['a','b','c','d','e','f','g','h','i','j','k','l','m','n','o','p','q',\n",
    "                  'r','s','t','u','v','w','x','y','z','A','B','C','D','E','F','G','H',\n",
    "                 'I','J','K','L','M','N','O','P','Q','R','S','T','U','V','W','X','Y','Z',\n",
    "                 'π','ø','ß','∆','ç','Ω','µ','∞']\n",
    "np.random.choice(var_repertoire)\n"
   ]
  },
  {
   "cell_type": "code",
   "execution_count": 666,
   "metadata": {},
   "outputs": [
    {
     "name": "stdout",
     "output_type": "stream",
     "text": [
      "{1, 2, 3}\n",
      "3\n"
     ]
    }
   ],
   "source": [
    "arr = [1,1,2,3]\n",
    "arr_set = set(arr)\n",
    "print(arr_set)\n",
    "print(len(arr_set))"
   ]
  },
  {
   "cell_type": "code",
   "execution_count": 671,
   "metadata": {
    "collapsed": true
   },
   "outputs": [],
   "source": [
    "def draw_pcr_samples(r,f,var_repertoire):\n",
    "    option = [True,False]\n",
    "    ssvg = []\n",
    "    for ii in range(r):\n",
    "        success = np.random.choice(option, p = [1-f, f])\n",
    "        if(success==True):\n",
    "            ssvg.append(np.random.choice(var_repertoire))\n",
    "    #print(len(ssvg))\n",
    "    return(ssvg)"
   ]
  },
  {
   "cell_type": "code",
   "execution_count": 673,
   "metadata": {},
   "outputs": [
    {
     "data": {
      "image/png": "[encoded data removed]",
      "text/plain": [
       "<matplotlib.figure.Figure at 0x1fe9b8ecb38>"
      ]
     },
     "metadata": {},
     "output_type": "display_data"
    },
    {
     "data": {
      "image/png": "[encoded data removed]",
      "text/plain": [
       "<matplotlib.figure.Figure at 0x1fe9a5ad6d8>"
      ]
     },
     "metadata": {},
     "output_type": "display_data"
    },
    {
     "data": {
      "image/png": "[encoded data removed]",
      "text/plain": [
       "<matplotlib.figure.Figure at 0x1fea4ad3be0>"
      ]
     },
     "metadata": {},
     "output_type": "display_data"
    }
   ],
   "source": [
    "res = np.array([draw_pcr_samples(48,0,var_repertoire) for i in range(1000)])\n",
    "res2 = np.array([draw_pcr_samples(60,.2,var_repertoire) for i in range(1000)])\n",
    "res3 = np.array([draw_pcr_samples(120,.6,var_repertoire) for i in range(1000)])\n",
    "def draw_hist(r, f, arr, color):\n",
    "    count_unique = []\n",
    "    for i in range(len(arr)):\n",
    "        unique = len(set(arr[i]))\n",
    "        count_unique.append(unique)\n",
    "    fig, ax = plt.subplots(nrows=1, ncols=1, figsize=(12,6))\n",
    "    minimum = min(count_unique)\n",
    "    maximum = max(count_unique)\n",
    "    plt.title(\"Unique Var Genes using parameters r = {} and f = {}\".format(r, f))\n",
    "    plt.ylabel(\"probability\")\n",
    "    plt.xlabel(\"number of unique genes\")\n",
    "    ax.hist(count_unique, bins = np.array([i+.5 for i in range(minimum-1, maximum, 1)]), normed=True, color = color)\n",
    "    plt.xticks(np.array([i for i in range(minimum, maximum, 1)]))\n",
    "    #print(count_unique)\n",
    "\n",
    "draw_hist(48, 0, res, \"blue\")\n",
    "draw_hist(60, 0.2, res2, \"green\")\n",
    "draw_hist(120, 0.6, res3, \"gold\")\n",
    "    \n",
    "    "
   ]
  },
  {
   "cell_type": "markdown",
   "metadata": {},
   "source": [
    "**Part C**: Use your calculations in Part A to write down the expected number of successful PCRs, $k$, for each of the three scenarios that you made histograms for in Part B. What do you notice? Write it in MarkDown. Then, examine the 3 histograms generated in Part B, and explain the relationship, if any, between the histograms and your expected $k$ calculations. If making calculations or annotating the histograms is helpful in your explanation, feel free to do so. "
   ]
  },
  {
   "cell_type": "code",
   "execution_count": 674,
   "metadata": {},
   "outputs": [
    {
     "name": "stdout",
     "output_type": "stream",
     "text": [
      "Expected number of successful PCRs for r = 48 and failure rate= 0: 48.0\n",
      "Standard Deviation for r = 48 and failure rate= 0: 0.0\n",
      "Expected number of successful PCRs for r = 60 and failure rate=.2: 48.031\n",
      "Standard Deviation for r = 60 and failure rate=.2: 3.1128827475508936\n",
      "Expected number of successful PCRs for r =120 and failure rate=.6: 47.916\n",
      "Standard Deviation for r =120 and failure rate=.6: 5.360125371668092\n"
     ]
    }
   ],
   "source": [
    "res_mean = np.array([ len(res[i]) for i in range(1000)]).mean()\n",
    "res_std = np.array([ len(res[i]) for i in range(1000)]).std()\n",
    "res2_mean = np.array([ len(res2[i]) for i in range(1000)]).mean()\n",
    "res2_std = np.array([ len(res2[i]) for i in range(1000)]).std()\n",
    "res3_mean = np.array([ len(res3[i]) for i in range(1000)]).mean()\n",
    "res3_std = np.array([ len(res3[i]) for i in range(1000)]).std()\n",
    "print(\"Expected number of successful PCRs for r = 48 and failure rate= 0: {}\".format(res_mean))\n",
    "print(\"Standard Deviation for r = 48 and failure rate= 0: {}\".format(res_std))\n",
    "print(\"Expected number of successful PCRs for r = 60 and failure rate=.2: {}\".format(res2_mean))\n",
    "print(\"Standard Deviation for r = 60 and failure rate=.2: {}\".format(res2_std))\n",
    "print(\"Expected number of successful PCRs for r =120 and failure rate=.6: {}\".format(res3_mean))\n",
    "print(\"Standard Deviation for r =120 and failure rate=.6: {}\".format(res3_std))"
   ]
  },
  {
   "cell_type": "markdown",
   "metadata": {},
   "source": [
    "**for r = 48 and failure rate= 0:**\n",
    "\n",
    "expected number of successful PCRs: $E[k] = 48 * (1 - 0) = 48$\n",
    "\n",
    "standard deviation = $\\sqrt{40*(1-0) * (1-(1-0))} = 0$ \n",
    "\n",
    "**for r = 60 and failure rate=.2**\n",
    "\n",
    "expected number of successful PCRs: $E[k] = 60 * (1 - .2) = 48$\n",
    "\n",
    "standard deviation = $\\sqrt{60*(1-.2)*(1-(1-.2))} = 3.09839$ \n",
    "\n",
    "** for r =120 and failure rate=.6**\n",
    "\n",
    "expected number of successful PCRs: $E[k] = 120 * (1 - .2) = 48$\n",
    "\n",
    "standard deviation = $\\sqrt{120*(1-.6)*(1-(1-.6))} = 5.36656$\n",
    "\n",
    "Our expected k calculations is 48. However, each time we succeed, we have less of a chance of selecting a new unique value. This is why our expected number of unique genes seems to be ~34 unique genes. As our failure rate increases, we introduce more variance, causing successed k to be more varied. However, the number of r PCR attempts mitigates the variance, so as r increases our variance decreases. The failure rate our chance of selecting exactly 34 unique genes, but our expected number of unique genes remains the same over trials. Selecting unique genes is a problem of selection with replacement which follows a binomial distribution where p = 60/(60-unique so far). \n"
   ]
  },
  {
   "cell_type": "markdown",
   "metadata": {},
   "source": [
    "**Part D**: Lab scientists use what's called a _96-well plate_ to do experiments. A [96-well-plate](https://www.amazon.com/SEOH-Microplates-Well-Non-Sterile-Microchemistry/dp/B0088AR7Y6) is an 8-by-12 grid of little wells in which indepedent experiments can be conducted. Professor Amy Ferguson is wondering whether to dedicate a whole plate ($r=96$ independent PCR replicates) or a half plate ($r=48$ independent PCR replicates) to her PCR experiment. Or, she wonders whether she should use a different $r$ altogether. Use your code to simulate and compute answers to the following, assuming $f=0.1$:\n",
    "* In expectation, how many _unique_ genes are produced for $r=48$?\n",
    "* In expectation, how many _unique_ genes are produced for $r=96$?\n",
    "* If $r$ is large, then the chance that $55$ or more <span style=\"color:green\">_unique_</span> genes are sampled will increase. Professor Ferguson needs the probability that $55$ or more <span style=\"color:green\">_unique_</span> genes are sampled to be greater than 95%. What should $r$ be? Support your answer by creating a plot of <span style=\"color:green\">$P(\\text{at-least-55-unique-sampled} \\mid r)$</span> vs $r$."
   ]
  },
  {
   "cell_type": "code",
   "execution_count": 676,
   "metadata": {},
   "outputs": [
    {
     "name": "stdout",
     "output_type": "stream",
     "text": [
      "Expected number of successful PCRs for r = 48 and failure rate= 0.1: 43.284\n",
      "Standard Deviation for r = 48 and failure rate= 0.1: 2.0754141755321993\n"
     ]
    },
    {
     "data": {
      "image/png": "[encoded data removed]",
      "text/plain": [
       "<matplotlib.figure.Figure at 0x1fea15af2e8>"
      ]
     },
     "metadata": {},
     "output_type": "display_data"
    }
   ],
   "source": [
    "r=48\n",
    "f=.1\n",
    "num_samples = 1000\n",
    "res = np.array([draw_pcr_samples(r,f,var_repertoire) for i in range(num_samples)])\n",
    "res_mean = np.array([ len(res[i]) for i in range(num_samples)]).mean()\n",
    "res_std = np.array([ len(res[i]) for i in range(num_samples)]).std()\n",
    "draw_hist(r, f, res, \"red\")\n",
    "print(\"Expected number of successful PCRs for r = 48 and failure rate= 0.1: {}\".format(res_mean))\n",
    "print(\"Standard Deviation for r = 48 and failure rate= 0.1: {}\".format(res_std))"
   ]
  },
  {
   "cell_type": "code",
   "execution_count": 677,
   "metadata": {},
   "outputs": [
    {
     "name": "stdout",
     "output_type": "stream",
     "text": [
      "Expected number of successful PCRs for r = 96 and failure rate= 0.1: 86.337\n",
      "Standard Deviation for r = 96 and failure rate= 0.1: 2.9426911152888606\n"
     ]
    },
    {
     "data": {
      "image/png": "[encoded data removed]",
      "text/plain": [
       "<matplotlib.figure.Figure at 0x1fea4c195c0>"
      ]
     },
     "metadata": {},
     "output_type": "display_data"
    }
   ],
   "source": [
    "r=96\n",
    "f=.1\n",
    "num_samples = 1000\n",
    "res = np.array([draw_pcr_samples(r,f,var_repertoire) for i in range(num_samples)])\n",
    "res_mean = np.array([ len(res[i]) for i in range(num_samples)]).mean()\n",
    "res_std = np.array([ len(res[i]) for i in range(num_samples)]).std()\n",
    "draw_hist(r, f, res, \"red\")\n",
    "print(\"Expected number of successful PCRs for r = 96 and failure rate= 0.1: {}\".format(res_mean))\n",
    "print(\"Standard Deviation for r = 96 and failure rate= 0.1: {}\".format(res_std))"
   ]
  },
  {
   "cell_type": "code",
   "execution_count": 821,
   "metadata": {},
   "outputs": [
    {
     "name": "stdout",
     "output_type": "stream",
     "text": [
      "[0.    0.    0.    0.    0.    0.    0.    0.    0.    0.    0.    0.\n",
      " 0.    0.    0.    0.    0.    0.    0.    0.    0.    0.    0.    0.\n",
      " 0.    0.    0.    0.    0.    0.    0.    0.    0.    0.    0.    0.\n",
      " 0.    0.    0.    0.    0.    0.    0.    0.    0.    0.    0.    0.\n",
      " 0.    0.    0.    0.    0.    0.    0.    0.    0.    0.    0.    0.\n",
      " 0.    0.    0.    0.    0.    0.    0.    0.    0.    0.    0.    0.\n",
      " 0.    0.    0.    0.    0.    0.    0.    0.    0.    0.    0.    0.\n",
      " 0.    0.    0.    0.    0.    0.    0.    0.    0.    0.    0.    0.\n",
      " 0.    0.    0.    0.    0.    0.    0.    0.    0.    0.    0.    0.\n",
      " 0.    0.004 0.    0.004 0.004 0.008 0.    0.008 0.012 0.012 0.008 0.008\n",
      " 0.012 0.008 0.02  0.016 0.028 0.004 0.028 0.036 0.036 0.04  0.048 0.04\n",
      " 0.036 0.032 0.048 0.056 0.072 0.072 0.084 0.068 0.14  0.108 0.116 0.112\n",
      " 0.128 0.148 0.164 0.168 0.172 0.22  0.232 0.22  0.264 0.256 0.268 0.264\n",
      " 0.308 0.312 0.364 0.312 0.344 0.34  0.376 0.356 0.412 0.46  0.436 0.388\n",
      " 0.48  0.468 0.484 0.488 0.512 0.468 0.508 0.532 0.572 0.564 0.556 0.644\n",
      " 0.64  0.68  0.668 0.688 0.728 0.66  0.644 0.78  0.724 0.688 0.732 0.744\n",
      " 0.76  0.788 0.764 0.816 0.836 0.836 0.78  0.824 0.884 0.84  0.884 0.836\n",
      " 0.868 0.884 0.912 0.904 0.9   0.94  0.932 0.928 0.904 0.912 0.944 0.944\n",
      " 0.928 0.948 0.944 0.936 0.932 0.948 0.976 0.94  0.94  0.948 0.968 0.988\n",
      " 0.976 0.98  0.98  0.976 0.98  0.972 0.972 0.98  0.976 0.988 0.98  0.984\n",
      " 0.988 0.972 0.988 0.988 0.988 0.988 0.996 0.996 0.972 0.996]\n"
     ]
    }
   ],
   "source": [
    "r=250\n",
    "f=.1\n",
    "\n",
    "r_value_arr = np.array([i for i in range(r)])\n",
    "res_arr = np.array([0]*r)\n",
    "prob_arr = np.array([0]*r)\n",
    "\n",
    "num_samples = 250 #number of samples for each value of r\n",
    "for j in range(num_samples):\n",
    "    for i in range(100, r):\n",
    "        if(np.array([len(set(draw_pcr_samples(i,f,var_repertoire)))]) > 55):\n",
    "            res_arr[i] +=1\n",
    "res_arr = res_arr/num_samples\n",
    "\n",
    "\n",
    "    \n",
    "print(res_arr)\n",
    "\n"
   ]
  },
  {
   "cell_type": "code",
   "execution_count": 822,
   "metadata": {},
   "outputs": [
    {
     "data": {
      "text/plain": [
       "[<matplotlib.lines.Line2D at 0x1fe9b596dd8>]"
      ]
     },
     "execution_count": 822,
     "metadata": {},
     "output_type": "execute_result"
    },
    {
     "data": {
      "image/png": "[encoded data removed]",
      "text/plain": [
       "<matplotlib.figure.Figure at 0x1fe9bbe4390>"
      ]
     },
     "metadata": {},
     "output_type": "display_data"
    }
   ],
   "source": [
    "fig, ax = plt.subplots(nrows=1, ncols=1, figsize=(12,6))\n",
    "ax.plot(r_value_arr, res_arr)\n",
    "plt.title(\"Unique genes sequences vs r with failure rate .1\")\n",
    "plt.ylabel(\"Mean probability of > 55 unique genes\")\n",
    "plt.xlabel(\"Number of PCRS: r\")\n",
    "ax.plot([0,250],[.95,.95])"
   ]
  },
  {
   "cell_type": "markdown",
   "metadata": {},
   "source": [
    "** I wanted to get creative here and try to plot the probability vs r. This was of course very expensive to compute, and not very good as far as data science goes. However, I would say that we would need an r value of over 225. Since the plates come in 96 per plate. We should pay to use 2.5 plates for our sampling of genes to ensure that we get 55+ unique genes sampled. I used a lot of my time working on the regression model which was probably a bad idea in retrospect **"
   ]
  },
  {
   "cell_type": "markdown",
   "metadata": {},
   "source": [
    "**Part E**: Bills, bills, bills. Professory Amy Ferguson has a decision to make about her lab budget. Here are some numbers:\n",
    "\n",
    "* Each 96-well plate costs \\$5 to buy. \n",
    "* The cheap PCR reagents cost $c=$\\$0.05 per well and fail with probability $f=0.3$.\n",
    "* The expensive PCR reagents cost $c=$\\$0.10 per well and fail with probability $f=0.1$.\n",
    "* The premium PCR reagents cost $c=$\\$0.20 per well and fail with probability $f=0.05$.\n",
    "\n",
    "Amy needs at least 50 unique sequences from a particular parasite genome for her experiment to be considered a success. She also knows that this whole PCR thing is a stochastic process, so while she might get 50 unique sequences in just $r=50$ attempts, that's going to be pretty rare. Still, increasing $r$ will increase the probability of success, i.e. of getting $\\geq50$ unique sequences. \n",
    "\n",
    "Turns out, she needs to success with probability of at least 0.95. She could achieve this using the cheap reagents, the expensive reagents, or the premium reagents. Naturally, she'd need to buy more of the cheaper reagents, but... the tradeoff isn't clear. \n",
    "\n",
    "Help! Which reagents should she choose? State your answer clearly as a recommendation, and explain why you recommend that. Use figures and calculations as necessary to support your case.\n",
    "\n",
    "You may assume:\n",
    "* A 96-well plate costs \\$5 even if fewer than 96 of the wells are actually used. For example, using 97 wells costs \\$10, since it uses two plates.\n",
    "* Reagents are billed on a per-well basis, not on a per-plate basis.\n",
    "* The goal is to sample 50 or more unique sequences 95\\% of the time or greater, but for as little money as possible."
   ]
  },
  {
   "cell_type": "code",
   "execution_count": null,
   "metadata": {
    "collapsed": true
   },
   "outputs": [],
   "source": []
  },
  {
   "cell_type": "markdown",
   "metadata": {},
   "source": [
    "### [35 points] Problem 2: Parental Leave\n",
    "***\n",
    "\n",
    "The file `leave.tsv` is in the data folder. It contains information on paid parental leave policies for US and Canadian institutions for tenure-track professors. \n",
    "\n",
    "Answer the following questions and provide both _pseudocode_ and code for each question. In other words, in a #comment, explain what your code is doing in each step, and give the reader a brief hint as to why that's a good or necessary step. (This is what we mean by pseudocode.)  Then, provide the code that answers the question. \n",
    "\n",
    "Note that `pandas` is your friend here. Also, note that the researchers who assembled `leave.tsv` may have coded missing data in a variety of ways, so you'll need to explore the file to learn what those are. "
   ]
  },
  {
   "cell_type": "markdown",
   "metadata": {},
   "source": [
    "**Part A**: Figure out what a `.tsv` file is and how to load it in using `pandas`. Call your dataframe `dfLeave`. **Note** that, as in many real-life data science tasks, there is no code to import this file type in any of our in-class notebooks or homeworks; This step will require a web search."
   ]
  },
  {
   "cell_type": "code",
   "execution_count": 107,
   "metadata": {},
   "outputs": [
    {
     "data": {
      "text/html": [
       "<div>\n",
       "<style>\n",
       "    .dataframe thead tr:only-child th {\n",
       "        text-align: right;\n",
       "    }\n",
       "\n",
       "    .dataframe thead th {\n",
       "        text-align: left;\n",
       "    }\n",
       "\n",
       "    .dataframe tbody tr th {\n",
       "        vertical-align: top;\n",
       "    }\n",
       "</style>\n",
       "<table border=\"1\" class=\"dataframe\">\n",
       "  <thead>\n",
       "    <tr style=\"text-align: right;\">\n",
       "      <th></th>\n",
       "      <th>university_name</th>\n",
       "      <th>short_name</th>\n",
       "      <th>is_private</th>\n",
       "      <th>rank</th>\n",
       "      <th>rank_ind</th>\n",
       "      <th>census_region</th>\n",
       "      <th>missing</th>\n",
       "      <th>paid_leave_len_woman</th>\n",
       "      <th>paid_leave_len_woman_units</th>\n",
       "      <th>paid_leave_weeks_woman</th>\n",
       "      <th>relief_woman</th>\n",
       "      <th>paid_leave_len_man</th>\n",
       "      <th>paid_leave_len_man_units</th>\n",
       "      <th>paid_leave_weeks_man</th>\n",
       "      <th>relief_man</th>\n",
       "      <th>link</th>\n",
       "      <th>notes</th>\n",
       "      <th>date</th>\n",
       "    </tr>\n",
       "  </thead>\n",
       "  <tbody>\n",
       "    <tr>\n",
       "      <th>0</th>\n",
       "      <td>Arizona State University</td>\n",
       "      <td>Arizona State</td>\n",
       "      <td>0</td>\n",
       "      <td>108.72</td>\n",
       "      <td>101</td>\n",
       "      <td>West</td>\n",
       "      <td>0</td>\n",
       "      <td>6.0</td>\n",
       "      <td>week</td>\n",
       "      <td>6.0</td>\n",
       "      <td>Not specified</td>\n",
       "      <td>6.0</td>\n",
       "      <td>week</td>\n",
       "      <td>6.0</td>\n",
       "      <td>Not specified</td>\n",
       "      <td>https://provost.asu.edu/academic-personnel/par...</td>\n",
       "      <td>.</td>\n",
       "      <td>2/22/18</td>\n",
       "    </tr>\n",
       "    <tr>\n",
       "      <th>1</th>\n",
       "      <td>Auburn University</td>\n",
       "      <td>Auburn</td>\n",
       "      <td>0</td>\n",
       "      <td>126.69</td>\n",
       "      <td>122</td>\n",
       "      <td>South</td>\n",
       "      <td>0</td>\n",
       "      <td>0.0</td>\n",
       "      <td>NaN</td>\n",
       "      <td>0.0</td>\n",
       "      <td>NaN</td>\n",
       "      <td>0.0</td>\n",
       "      <td>NaN</td>\n",
       "      <td>0.0</td>\n",
       "      <td>NaN</td>\n",
       "      <td>https://cws.auburn.edu/shared/content/files/85/</td>\n",
       "      <td>FMLA</td>\n",
       "      <td>2/22/18</td>\n",
       "    </tr>\n",
       "    <tr>\n",
       "      <th>2</th>\n",
       "      <td>Boston University</td>\n",
       "      <td>Boston</td>\n",
       "      <td>1</td>\n",
       "      <td>51.73</td>\n",
       "      <td>44</td>\n",
       "      <td>Northeast</td>\n",
       "      <td>0</td>\n",
       "      <td>1.0</td>\n",
       "      <td>term</td>\n",
       "      <td>14.0</td>\n",
       "      <td>Other</td>\n",
       "      <td>1.0</td>\n",
       "      <td>term</td>\n",
       "      <td>14.0</td>\n",
       "      <td>Other</td>\n",
       "      <td>https://www.bu.edu/handbook/leaves-absences/fa...</td>\n",
       "      <td>Full semester for either parent, relief is FUL...</td>\n",
       "      <td>2/22/18</td>\n",
       "    </tr>\n",
       "    <tr>\n",
       "      <th>3</th>\n",
       "      <td>Brandeis University</td>\n",
       "      <td>Brandeis</td>\n",
       "      <td>1</td>\n",
       "      <td>84.55</td>\n",
       "      <td>78</td>\n",
       "      <td>Northeast</td>\n",
       "      <td>0</td>\n",
       "      <td>12.0</td>\n",
       "      <td>week</td>\n",
       "      <td>12.0</td>\n",
       "      <td>Not specified</td>\n",
       "      <td>12.0</td>\n",
       "      <td>week</td>\n",
       "      <td>12.0</td>\n",
       "      <td>Not specified</td>\n",
       "      <td>https://www.brandeis.edu/humanresources/docume...</td>\n",
       "      <td>.</td>\n",
       "      <td>2/22/18</td>\n",
       "    </tr>\n",
       "    <tr>\n",
       "      <th>4</th>\n",
       "      <td>Brigham Young University</td>\n",
       "      <td>Brigham Young</td>\n",
       "      <td>1</td>\n",
       "      <td>166.53</td>\n",
       "      <td>180</td>\n",
       "      <td>West</td>\n",
       "      <td>1</td>\n",
       "      <td>NaN</td>\n",
       "      <td>NaN</td>\n",
       "      <td>NaN</td>\n",
       "      <td>NaN</td>\n",
       "      <td>NaN</td>\n",
       "      <td>NaN</td>\n",
       "      <td>NaN</td>\n",
       "      <td>NaN</td>\n",
       "      <td>Not publicly accessible</td>\n",
       "      <td>Staff leave is 6wk</td>\n",
       "      <td>2/22/18</td>\n",
       "    </tr>\n",
       "    <tr>\n",
       "      <th>5</th>\n",
       "      <td>Brown University</td>\n",
       "      <td>Brown</td>\n",
       "      <td>1</td>\n",
       "      <td>21.92</td>\n",
       "      <td>18</td>\n",
       "      <td>Northeast</td>\n",
       "      <td>0</td>\n",
       "      <td>1.0</td>\n",
       "      <td>term</td>\n",
       "      <td>16.0</td>\n",
       "      <td>Just teaching</td>\n",
       "      <td>1.0</td>\n",
       "      <td>term</td>\n",
       "      <td>16.0</td>\n",
       "      <td>Just teaching</td>\n",
       "      <td>https://www.brown.edu/about/administration/dea...</td>\n",
       "      <td>One semester but only relief from teaching. Ot...</td>\n",
       "      <td>2/22/18</td>\n",
       "    </tr>\n",
       "    <tr>\n",
       "      <th>6</th>\n",
       "      <td>California Institute of Technology</td>\n",
       "      <td>CalTech</td>\n",
       "      <td>1</td>\n",
       "      <td>5.24</td>\n",
       "      <td>3</td>\n",
       "      <td>West</td>\n",
       "      <td>1</td>\n",
       "      <td>NaN</td>\n",
       "      <td>NaN</td>\n",
       "      <td>NaN</td>\n",
       "      <td>NaN</td>\n",
       "      <td>NaN</td>\n",
       "      <td>NaN</td>\n",
       "      <td>NaN</td>\n",
       "      <td>NaN</td>\n",
       "      <td>Not publicly accessible: https://provost.calte...</td>\n",
       "      <td>.</td>\n",
       "      <td>2/22/18</td>\n",
       "    </tr>\n",
       "    <tr>\n",
       "      <th>7</th>\n",
       "      <td>Carleton University</td>\n",
       "      <td>Carleton</td>\n",
       "      <td>0</td>\n",
       "      <td>101.73</td>\n",
       "      <td>93</td>\n",
       "      <td>Canada</td>\n",
       "      <td>0</td>\n",
       "      <td>12.0</td>\n",
       "      <td>week</td>\n",
       "      <td>12.0</td>\n",
       "      <td>Not specified</td>\n",
       "      <td>12.0</td>\n",
       "      <td>week</td>\n",
       "      <td>12.0</td>\n",
       "      <td>Not specified</td>\n",
       "      <td>https://carleton.ca/hr/wp-content/uploads/CUAS...</td>\n",
       "      <td>12 weeks paid + 5 weeks with the Employer payi...</td>\n",
       "      <td>2/22/18</td>\n",
       "    </tr>\n",
       "    <tr>\n",
       "      <th>8</th>\n",
       "      <td>Carnegie Mellon University</td>\n",
       "      <td>Carnegie Mellon</td>\n",
       "      <td>1</td>\n",
       "      <td>9.28</td>\n",
       "      <td>6</td>\n",
       "      <td>Northeast</td>\n",
       "      <td>0</td>\n",
       "      <td>1.0</td>\n",
       "      <td>term</td>\n",
       "      <td>16.0</td>\n",
       "      <td>Not specified</td>\n",
       "      <td>1.0</td>\n",
       "      <td>term</td>\n",
       "      <td>16.0</td>\n",
       "      <td>Not specified</td>\n",
       "      <td>https://www.cmu.edu/policies/faculty/faculty-p...</td>\n",
       "      <td>Statement seems to imply relief from all dutie...</td>\n",
       "      <td>2/22/18</td>\n",
       "    </tr>\n",
       "    <tr>\n",
       "      <th>9</th>\n",
       "      <td>Case Western Reserve University</td>\n",
       "      <td>Case Western Reserve</td>\n",
       "      <td>1</td>\n",
       "      <td>70.82</td>\n",
       "      <td>58</td>\n",
       "      <td>Midwest</td>\n",
       "      <td>0</td>\n",
       "      <td>16.0</td>\n",
       "      <td>week</td>\n",
       "      <td>16.0</td>\n",
       "      <td>All duties</td>\n",
       "      <td>16.0</td>\n",
       "      <td>week</td>\n",
       "      <td>16.0</td>\n",
       "      <td>All duties</td>\n",
       "      <td>http://case.edu/facultysenate/media/caseedu/fa...</td>\n",
       "      <td>Up to 16 weeks</td>\n",
       "      <td>2/22/18</td>\n",
       "    </tr>\n",
       "  </tbody>\n",
       "</table>\n",
       "</div>"
      ],
      "text/plain": [
       "                      university_name            short_name  is_private  \\\n",
       "0            Arizona State University         Arizona State           0   \n",
       "1                   Auburn University                Auburn           0   \n",
       "2                   Boston University                Boston           1   \n",
       "3                 Brandeis University              Brandeis           1   \n",
       "4            Brigham Young University         Brigham Young           1   \n",
       "5                    Brown University                 Brown           1   \n",
       "6  California Institute of Technology               CalTech           1   \n",
       "7                 Carleton University              Carleton           0   \n",
       "8          Carnegie Mellon University       Carnegie Mellon           1   \n",
       "9     Case Western Reserve University  Case Western Reserve           1   \n",
       "\n",
       "     rank  rank_ind census_region  missing  paid_leave_len_woman  \\\n",
       "0  108.72       101          West        0                   6.0   \n",
       "1  126.69       122         South        0                   0.0   \n",
       "2   51.73        44     Northeast        0                   1.0   \n",
       "3   84.55        78     Northeast        0                  12.0   \n",
       "4  166.53       180          West        1                   NaN   \n",
       "5   21.92        18     Northeast        0                   1.0   \n",
       "6    5.24         3          West        1                   NaN   \n",
       "7  101.73        93        Canada        0                  12.0   \n",
       "8    9.28         6     Northeast        0                   1.0   \n",
       "9   70.82        58       Midwest        0                  16.0   \n",
       "\n",
       "  paid_leave_len_woman_units  paid_leave_weeks_woman   relief_woman  \\\n",
       "0                       week                     6.0  Not specified   \n",
       "1                        NaN                     0.0            NaN   \n",
       "2                       term                    14.0          Other   \n",
       "3                       week                    12.0  Not specified   \n",
       "4                        NaN                     NaN            NaN   \n",
       "5                       term                    16.0  Just teaching   \n",
       "6                        NaN                     NaN            NaN   \n",
       "7                       week                    12.0  Not specified   \n",
       "8                       term                    16.0  Not specified   \n",
       "9                       week                    16.0     All duties   \n",
       "\n",
       "   paid_leave_len_man paid_leave_len_man_units  paid_leave_weeks_man  \\\n",
       "0                 6.0                     week                   6.0   \n",
       "1                 0.0                      NaN                   0.0   \n",
       "2                 1.0                     term                  14.0   \n",
       "3                12.0                     week                  12.0   \n",
       "4                 NaN                      NaN                   NaN   \n",
       "5                 1.0                     term                  16.0   \n",
       "6                 NaN                      NaN                   NaN   \n",
       "7                12.0                     week                  12.0   \n",
       "8                 1.0                     term                  16.0   \n",
       "9                16.0                     week                  16.0   \n",
       "\n",
       "      relief_man                                               link  \\\n",
       "0  Not specified  https://provost.asu.edu/academic-personnel/par...   \n",
       "1            NaN    https://cws.auburn.edu/shared/content/files/85/   \n",
       "2          Other  https://www.bu.edu/handbook/leaves-absences/fa...   \n",
       "3  Not specified  https://www.brandeis.edu/humanresources/docume...   \n",
       "4            NaN                            Not publicly accessible   \n",
       "5  Just teaching  https://www.brown.edu/about/administration/dea...   \n",
       "6            NaN  Not publicly accessible: https://provost.calte...   \n",
       "7  Not specified  https://carleton.ca/hr/wp-content/uploads/CUAS...   \n",
       "8  Not specified  https://www.cmu.edu/policies/faculty/faculty-p...   \n",
       "9     All duties  http://case.edu/facultysenate/media/caseedu/fa...   \n",
       "\n",
       "                                               notes     date  \n",
       "0                                                  .  2/22/18  \n",
       "1                                               FMLA  2/22/18  \n",
       "2  Full semester for either parent, relief is FUL...  2/22/18  \n",
       "3                                                  .  2/22/18  \n",
       "4                                 Staff leave is 6wk  2/22/18  \n",
       "5  One semester but only relief from teaching. Ot...  2/22/18  \n",
       "6                                                  .  2/22/18  \n",
       "7  12 weeks paid + 5 weeks with the Employer payi...  2/22/18  \n",
       "8  Statement seems to imply relief from all dutie...  2/22/18  \n",
       "9                                     Up to 16 weeks  2/22/18  "
      ]
     },
     "execution_count": 107,
     "metadata": {},
     "output_type": "execute_result"
    }
   ],
   "source": [
    "df = pd.read_csv(\"data/leave.tsv\", delimiter = \"\\t\")\n",
    "df.head(10)"
   ]
  },
  {
   "cell_type": "markdown",
   "metadata": {},
   "source": [
    "**Part B**: Answer the following summary questions:\n",
    "* How many institutions are in the dataset? \n",
    "* How many actually have parental leave data in the `paid_leave_len_woman` column? \n",
    "* How many private institutions are there? \n",
    "* How many institutions have a note associated with them?"
   ]
  },
  {
   "cell_type": "code",
   "execution_count": 130,
   "metadata": {},
   "outputs": [
    {
     "name": "stdout",
     "output_type": "stream",
     "text": [
      "How many institutions are in the dataset? Unique Institutions: 205\n",
      "How many actually have parental leave data in the paid_leave_len_woman column? Not Null: 197\n",
      "How many private institutions are there? Private Institutions: 53\n",
      "How many institutions have a note associated with them? Institutions w/ notes: 174\n"
     ]
    }
   ],
   "source": [
    "print(\"How many institutions are in the dataset? Unique Institutions: {}\".format(len(set(df['university_name']))))\n",
    "print(\"How many actually have parental leave data in the paid_leave_len_woman column? Not Null: {}\".format(sum(df['paid_leave_len_woman'].notnull())))\n",
    "print(\"How many private institutions are there? Private Institutions: {}\".format(sum(df['is_private'] == 1)))\n",
    "print(\"How many institutions have a note associated with them? Institutions w/ notes: {}\".format(sum(df['notes'] != '.')))\n"
   ]
  },
  {
   "cell_type": "markdown",
   "metadata": {},
   "source": [
    "Q1 Explanation: I have collected all the rows in column 'university_name' and used the set() function to get only the unique items. I then used the len() function to count the number of unique items. We then find that there are 205 unique institutions included in this dataset.\n",
    "\n",
    "Q2 Explanation: I have grabbed all rows in column 'paid_leave_len_woman'. From this, I used the not_null call on the dataframe to get all items which have values which would not considered empty or nothing. For this answer, the rows I have grabbed have been converted by the not_null() call to 0 or 1. This means that I can find the count by summing their total. Thus, we find that there are 197 non-null values in this column ('paid_leave_len_woman'). \n",
    "\n",
    "Q3 Explanation: This column('is_private') is already filled with 0 or 1 as a true false value. This means that like with question 3, I can just sum them to find the number of private institutions (53). \n",
    "\n",
    "Q4 Explanation: Here, the missing values in column 'notes' have been filled with '.' so I was able to check if their values was equal to '.'. This returns a set of True/False values which I can sum to a total for the count. \n"
   ]
  },
  {
   "cell_type": "markdown",
   "metadata": {},
   "source": [
    "**Part C**: Is there statistical evidence at the $\\alpha=0.05$ level that public and private institutions have different _average paid parental leave durations_? Answer the question separately for men and for women. Note that the researchers have conveniently included a column that converts durations into weeks so that policies can be compared across institutions, even if some are on semesters or quarters, etc. "
   ]
  },
  {
   "cell_type": "markdown",
   "metadata": {},
   "source": [
    "Explanation: I will construct a Null Hypothesis $H_0$ and an alternative hypothesis $H_1$ to compare the difference in their means.\n",
    "\n",
    "$H_0: \\mu_1 = \\mu2 $  The average paid parental leave durations are the same for both institutions.\n",
    "\n",
    "$H_1: \\mu_1 \\neq \\mu2 $ The average paid parental leave durations are **not** the same for both institutions.\n",
    "\n",
    "This is the formula I will use to construct my test statistic:\n",
    "\n",
    "$Z = \\frac{\\mu_1 - \\mu2}{\\sqrt{\\frac{s_1^2}{m} + \\frac{s_2^2}{m}}}$"
   ]
  },
  {
   "cell_type": "code",
   "execution_count": 179,
   "metadata": {},
   "outputs": [
    {
     "name": "stdout",
     "output_type": "stream",
     "text": [
      "mean for men public:  6.154362416107382 \n",
      "mean for men private:  8.916666666666666\n",
      "test statistic -2.3445633830463137 < critical value -1.6448536269514729 for alpha = .05, reject the null hypothesis\n",
      "mean for women public:  8.201342281879194 \n",
      "mean for women private:  10.520833333333334\n",
      "test statistic -1.8706946991254723 < critical value -1.6448536269514729 for alpha = .05, reject the null hypothesis\n"
     ]
    }
   ],
   "source": [
    "\n",
    "#separate the public and private data into two datasets\n",
    "dfPriv = df.loc[df['is_private'] == 1]\n",
    "dfPub = df.loc[df['is_private'] == 0]\n",
    "\n",
    "\n",
    "mu_men_pub = dfPub['paid_leave_weeks_man'].sum() / dfPub['paid_leave_len_man'].notnull().sum()\n",
    "mu_men_priv = dfPriv['paid_leave_weeks_man'].sum() / dfPriv['paid_leave_len_man'].notnull().sum()\n",
    "std_men_pub = dfPub['paid_leave_weeks_man'].std()\n",
    "std_men_priv = dfPriv['paid_leave_weeks_man'].std()\n",
    "sample_size_men_pub = dfPub['paid_leave_len_man'].notnull().sum()\n",
    "sample_size_men_priv = dfPriv['paid_leave_len_man'].notnull().sum()\n",
    "\n",
    "print(\"mean for men public: \", mu_men_pub, \"\\nmean for men private: \", mu_men_priv)\n",
    "#calculate test statistic\n",
    "Z = (mu_men_pub - mu_men_priv) / np.sqrt(((std_men_pub**2) / sample_size_men_pub ) + ((std_men_priv**2) / sample_size_men_priv ))\n",
    "print(\"test statistic {} < critical value {} for alpha = .05, reject the null hypothesis\".format(Z, stats.norm.ppf(.05)))\n",
    "\n",
    "\n",
    "mu_women_pub = dfPub['paid_leave_weeks_woman'].sum() / dfPub['paid_leave_len_woman'].notnull().sum()\n",
    "mu_women_priv = dfPriv['paid_leave_weeks_woman'].sum() / dfPriv['paid_leave_len_woman'].notnull().sum()\n",
    "std_women_pub = dfPub['paid_leave_weeks_woman'].std()\n",
    "std_women_priv = dfPriv['paid_leave_weeks_woman'].std()\n",
    "sample_size_women_pub = dfPub['paid_leave_len_woman'].notnull().sum()\n",
    "sample_size_women_priv = dfPriv['paid_leave_len_woman'].notnull().sum()\n",
    "\n",
    "print(\"mean for women public: \",mu_women_pub, \"\\nmean for women private: \", mu_women_priv)\n",
    "#calculate test statistic\n",
    "Z = (mu_women_pub - mu_women_priv) / np.sqrt(((std_women_pub**2) / sample_size_women_pub ) + ((std_women_priv**2) / sample_size_women_priv ))\n",
    "print(\"test statistic {} < critical value {} for alpha = .05, reject the null hypothesis\".format(Z, stats.norm.ppf(.05)))\n"
   ]
  },
  {
   "cell_type": "markdown",
   "metadata": {},
   "source": [
    "#### The hypothesis tests for both men and women that private and public leave time in weeks in the same show that we can reject the null hypothesis. There is statistical evidence at the alpha = .05 level that the average paid parental leave durations are not the same.  "
   ]
  },
  {
   "cell_type": "markdown",
   "metadata": {},
   "source": [
    "**Part D**: Some institutions provide zero weeks of paid parental leave. For each `census_region` in the dataset, create a 95% confidence interval for the _proportion of universities that offer zero paid parental leave to their professors_. Based on your observations, is there evidence that policies vary significantly by census region? \n",
    "\n",
    "Please note that the number of data points varies from one census region to another, and therefore, different methods may be required to compute confidence intervals for the proportions in different census regions. _Clearly_ state which methods were used to create each confidence interval.\n",
    "\n",
    "For clarity, please plot your confidence intervals as vertical bars in a single plot. From left to right, please plot in the order `Canada`, `Northeast`, `Midwest`,`South`, `West`."
   ]
  },
  {
   "cell_type": "code",
   "execution_count": null,
   "metadata": {
    "collapsed": true
   },
   "outputs": [],
   "source": []
  },
  {
   "cell_type": "markdown",
   "metadata": {},
   "source": [
    "### [30 points] Problem 3: Multiple Linear Otter-gression \n",
    "***\n",
    "\n",
    "After years of study and professional development, you have finally landed your dream job as lead otter scientist.  It is a [dream job](https://www.youtube.com/watch?v=IXFqLIBHm-E). As your first project, you wish to use multiple linear regression to understand and predict what makes otters Instagrammable, as measured during many observations of otters, conducted by students.  Luckily, your predecessor has collected lots of data that might prove relevant.  You'll find this data in the file `otters.csv`. \n",
    "\n",
    "**Response**: \n",
    "\n",
    "- $\\texttt{instagrammability}$: The instagrammability of a particular otter, measured by a complicated formula involving likes, comments, DMs, reposts, and new followers.\n",
    "\n",
    "**Features**: \n",
    "\n",
    "- $\\texttt{urchin color}$: the depth of color of the urchins nearby, measured in Wongs. \n",
    "- $\\texttt{fur fluff}$: the fluff factor of the otter's fur, measured in Ketelsens.\n",
    "- $\\texttt{adorbz}$: unknown variable. The students keep writing it down. Units unknown.\n",
    "- $\\texttt{temp}$: the outside temperature, measured in degrees Fahrenheit \n",
    "- $\\texttt{majesty}$: the majesty of this particular otter in this particular photo, measured as a fraction of maximum majesty (between 0 and 1). \n",
    "- $\\texttt{observer GPA}$: the GPA of the student who recorded the data.\n",
    "- $\\texttt{paw size}$: measured as some kind of deviation away from the median paw size. Units unknown.\n",
    "- $\\texttt{paw grip}$: grip strength of paw (estimated) measured in Grochows. \n",
    "- $\\texttt{ice cream sold}$: the number of units of ice cream sold at Etai's\n",
    "- $\\texttt{shark attacks}$: the number of shark attacks at the Boulder Res on the day of observation\n"
   ]
  },
  {
   "cell_type": "markdown",
   "metadata": {},
   "source": [
    "**Part A**: Read the data from **otters.csv** into a Pandas DataFrame and clean the data.  Note that since we will be doing a multiple linear regression we will need all of the features, so you should drop any row in the DataFrame that is missing data.  "
   ]
  },
  {
   "cell_type": "code",
   "execution_count": 530,
   "metadata": {},
   "outputs": [
    {
     "name": "stdout",
     "output_type": "stream",
     "text": [
      "instagrammability    85\n",
      "urchin color         85\n",
      "fur fluff            85\n",
      "adorbz               85\n",
      "temp                 85\n",
      "majesty              85\n",
      "observer GPA         85\n",
      "paw size             85\n",
      "paw grip             85\n",
      "ice cream sold       85\n",
      "shark attacks        85\n",
      "dtype: int64\n"
     ]
    },
    {
     "data": {
      "text/html": [
       "<div>\n",
       "<style>\n",
       "    .dataframe thead tr:only-child th {\n",
       "        text-align: right;\n",
       "    }\n",
       "\n",
       "    .dataframe thead th {\n",
       "        text-align: left;\n",
       "    }\n",
       "\n",
       "    .dataframe tbody tr th {\n",
       "        vertical-align: top;\n",
       "    }\n",
       "</style>\n",
       "<table border=\"1\" class=\"dataframe\">\n",
       "  <thead>\n",
       "    <tr style=\"text-align: right;\">\n",
       "      <th></th>\n",
       "      <th>instagrammability</th>\n",
       "      <th>urchin color</th>\n",
       "      <th>fur fluff</th>\n",
       "      <th>adorbz</th>\n",
       "      <th>temp</th>\n",
       "      <th>majesty</th>\n",
       "      <th>observer GPA</th>\n",
       "      <th>paw size</th>\n",
       "      <th>paw grip</th>\n",
       "      <th>ice cream sold</th>\n",
       "      <th>shark attacks</th>\n",
       "    </tr>\n",
       "  </thead>\n",
       "  <tbody>\n",
       "    <tr>\n",
       "      <th>0</th>\n",
       "      <td>138.70</td>\n",
       "      <td>89.1</td>\n",
       "      <td>6.8</td>\n",
       "      <td>263.0</td>\n",
       "      <td>62</td>\n",
       "      <td>1.00</td>\n",
       "      <td>2.04</td>\n",
       "      <td>0.0</td>\n",
       "      <td>25.0</td>\n",
       "      <td>196.0</td>\n",
       "      <td>3.0</td>\n",
       "    </tr>\n",
       "    <tr>\n",
       "      <th>1</th>\n",
       "      <td>121.87</td>\n",
       "      <td>93.4</td>\n",
       "      <td>8.0</td>\n",
       "      <td>264.0</td>\n",
       "      <td>63</td>\n",
       "      <td>1.00</td>\n",
       "      <td>2.69</td>\n",
       "      <td>-4.0</td>\n",
       "      <td>21.0</td>\n",
       "      <td>189.0</td>\n",
       "      <td>1.0</td>\n",
       "    </tr>\n",
       "    <tr>\n",
       "      <th>2</th>\n",
       "      <td>117.31</td>\n",
       "      <td>85.9</td>\n",
       "      <td>7.6</td>\n",
       "      <td>243.0</td>\n",
       "      <td>55</td>\n",
       "      <td>0.84</td>\n",
       "      <td>3.17</td>\n",
       "      <td>-2.0</td>\n",
       "      <td>11.0</td>\n",
       "      <td>219.0</td>\n",
       "      <td>0.0</td>\n",
       "    </tr>\n",
       "    <tr>\n",
       "      <th>3</th>\n",
       "      <td>80.69</td>\n",
       "      <td>89.1</td>\n",
       "      <td>6.0</td>\n",
       "      <td>260.0</td>\n",
       "      <td>52</td>\n",
       "      <td>0.73</td>\n",
       "      <td>2.13</td>\n",
       "      <td>-13.0</td>\n",
       "      <td>107.0</td>\n",
       "      <td>101.0</td>\n",
       "      <td>0.0</td>\n",
       "    </tr>\n",
       "    <tr>\n",
       "      <th>4</th>\n",
       "      <td>127.52</td>\n",
       "      <td>94.6</td>\n",
       "      <td>8.1</td>\n",
       "      <td>251.0</td>\n",
       "      <td>57</td>\n",
       "      <td>0.89</td>\n",
       "      <td>2.40</td>\n",
       "      <td>-6.0</td>\n",
       "      <td>43.0</td>\n",
       "      <td>186.0</td>\n",
       "      <td>0.0</td>\n",
       "    </tr>\n",
       "  </tbody>\n",
       "</table>\n",
       "</div>"
      ],
      "text/plain": [
       "   instagrammability urchin color fur fluff  adorbz temp  majesty  \\\n",
       "0             138.70         89.1       6.8   263.0   62     1.00   \n",
       "1             121.87         93.4       8.0   264.0   63     1.00   \n",
       "2             117.31         85.9       7.6   243.0   55     0.84   \n",
       "3              80.69         89.1       6.0   260.0   52     0.73   \n",
       "4             127.52         94.6       8.1   251.0   57     0.89   \n",
       "\n",
       "   observer GPA  paw size  paw grip  ice cream sold  shark attacks  \n",
       "0          2.04       0.0      25.0           196.0            3.0  \n",
       "1          2.69      -4.0      21.0           189.0            1.0  \n",
       "2          3.17      -2.0      11.0           219.0            0.0  \n",
       "3          2.13     -13.0     107.0           101.0            0.0  \n",
       "4          2.40      -6.0      43.0           186.0            0.0  "
      ]
     },
     "execution_count": 530,
     "metadata": {},
     "output_type": "execute_result"
    }
   ],
   "source": [
    "dfOtters = pd.read_csv('data/otters.csv')\n",
    "dfOtters = dfOtters.dropna()\n",
    "dfOtters['temp'] = dfOtters[\"temp\"].apply(lambda s: str(s).strip(\"℉\"))\n",
    "dfOtters['fur fluff'] = dfOtters[\"fur fluff\"].apply(lambda s: str(s).strip(\"ɭ\"))\n",
    "dfOtters['urchin color'] = dfOtters[\"urchin color\"].apply(lambda s: str(s).strip(\"ƭ\"))\n",
    "dfOtters = dfOtters.reset_index(drop=True)\n",
    "print(dfOtters.count())\n",
    "#print(dfOtters)\n",
    "dfOtters.head()"
   ]
  },
  {
   "cell_type": "markdown",
   "metadata": {},
   "source": [
    "**Part B**: Perform the appropriate statistical test at the $\\alpha = 0.05$ significance level to determine if _at least one_ of the features is related to the the response $y$.  Clearly describe your methodology and show all computations in Python. "
   ]
  },
  {
   "cell_type": "markdown",
   "metadata": {},
   "source": [
    "$F = \\frac{\\frac{SST - SSE}{dfSST - dfSSE}} {\\frac{SST - SSE}{dfSST - dfSSE}} = \\frac{\\frac{SST - SSE}{p}} {\\frac{SST - SSE}{n-p-1}}$\n",
    "\n",
    "$SSE = \\sum_{i=1}^n(y_i - (B_0 + B_1x_{1i} + B_2x_{2i} + ... + B_px_{pi}))^2$\n",
    "\n",
    "$SST = \\sum_{i=1}^n(y_i-\\bar{y})^2$\n",
    "\n",
    "Hypothesis Test:\n",
    "\n",
    "$H_0: B_1 = B_2 = B_3 =... = B_{p-1}$\n",
    "\n",
    "$H_1: B_j \\neq 0$ for at least one value j"
   ]
  },
  {
   "cell_type": "code",
   "execution_count": 644,
   "metadata": {
    "scrolled": true
   },
   "outputs": [
    {
     "name": "stdout",
     "output_type": "stream",
     "text": [
      "SST: 137747.21007764703, SSE: 1758.5467865482624\n",
      "Fstatistic: 572.2430111338487 yes! this matches model.summary() this was hard to think about \n",
      "My F statistic gives me a p value:0.9999999999999999 > 0.95 so I can reject the null. At least one of the features is important \n"
     ]
    }
   ],
   "source": [
    "def compute_SSE(df, model_params, y_str, features): \n",
    "    #print(features_so_far)\n",
    "    SSE = 0\n",
    "    #print(model_params)\n",
    "    df[col] = df[col].astype(float)\n",
    "    for i in range(len(df[col])):\n",
    "        yi = df[y_str][i]\n",
    "        y_bari = model_params[0]\n",
    "        for j in range(1, len(model_params)):\n",
    "            #print(features_so_far[0][0])\n",
    "            #print(df[features_so_far[j-1]])\n",
    "            #print(j,i)\n",
    "            \n",
    "            y_bari += model_params[j]*df[features[j-1]][i]\n",
    "        SSE += (yi - y_bari)**2\n",
    "    #print(\"SSE for\", col, \":\", SSE)\n",
    "    return(SSE)\n",
    "\n",
    "\n",
    "def compute_SST(df, cols, y_str):\n",
    "    SST = 0\n",
    "    y_bar = df[y_str].mean()\n",
    "    #print(y_bar)\n",
    "    for i in range(len(df[cols])):\n",
    "        #print(df[y_str][i], y_bar)\n",
    "        SST += (df[y_str][i] - y_bar)**2\n",
    "    return(SST)\n",
    "\n",
    "feats = [\"urchin color\", \"fur fluff\", \"adorbz\", \"temp\", \"majesty\", \"observer GPA\", \"paw size\", \"paw grip\", \"ice cream sold\", \"shark attacks\"]\n",
    "\n",
    "\n",
    "X = dfOtters[[\"urchin color\", \"fur fluff\", \"adorbz\", \"temp\", \"majesty\", \"observer GPA\", \"paw size\", \"paw grip\", \"ice cream sold\", \"shark attacks\"]]\n",
    "y = dfOtters[\"instagrammability\"]\n",
    "X = sm.add_constant(X)\n",
    "model = sm.OLS(y,X.astype(float)).fit()\n",
    "#print(model.summary())\n",
    "#dfOtters.head()\n",
    "\n",
    "#compute_SSE(df, poss_feat[i], model.params, resp_Str)\n",
    "SSE = compute_SSE(dfOtters, model.params, \"instagrammability\", feats)\n",
    "SST = compute_SST(dfOtters, feats, \"instagrammability\")\n",
    "print(\"SST: {}, SSE: {}\".format(SST, SSE))\n",
    "\n",
    "n = len(dfOtters[\"instagrammability\"])\n",
    "\n",
    "dfSST = n-1\n",
    "p=10 #number of features in the model, i think\n",
    "dfSSE = n-(p+1)\n",
    "\n",
    "F = ((SST-SSE) / p) / (SSE/(n-p-1))\n",
    "print(\"Fstatistic: {} yes! this matches model.summary() this was hard to think about \".format(F))\n",
    "\n",
    "stats.f.cdf(F, p, n-p-1)\n",
    "print(\"My F statistic gives me a p value:{} > {} so I can reject the null. At least one of the features is important \".format(stats.f.cdf(F, p, n-p-1), .95))\n",
    "\n",
    "\n",
    "\n",
    "full_model = model\n",
    "full_model.params = model.params\n",
    "\n",
    "\n",
    "\n"
   ]
  },
  {
   "cell_type": "markdown",
   "metadata": {},
   "source": [
    "**Part C**: Write a function `forward_select(df, resp_str, maxk)` that takes in the DataFrame, the name of the column corresponding to the response, and the max number of desired features, and returns a list of feature names corresponding to the maxk most important features via forward selection.  At each stage in forward selection you should add the feature whose inclusion in the model would result in the lowest sum of squared errors $(SSE)$. Use your function to determine the best $k=5$ features to include in the model. Clearly indicate which feature was added in each stage. \n",
    "\n",
    "**Note**: The point of this exercise is to see if you can implement `foward_select` yourself.  You may of course use canned routines like statmodels OLS, but you may not call any Python method that explicitly performs forward selection. "
   ]
  },
  {
   "cell_type": "markdown",
   "metadata": {},
   "source": [
    "#keep features"
   ]
  },
  {
   "cell_type": "markdown",
   "metadata": {
    "collapsed": true
   },
   "source": [
    "**I PROGRAMMED THIS TWICE, OUCH! I really really hope this is right**"
   ]
  },
  {
   "cell_type": "code",
   "execution_count": 645,
   "metadata": {
    "scrolled": true
   },
   "outputs": [
    {
     "name": "stdout",
     "output_type": "stream",
     "text": [
      "adding feature urchin color with SSE of 137331.7330698677\n",
      "adding feature temp with SSE of 148643.6464116486\n",
      "adding feature paw grip with SSE of 1294098.4357982827\n",
      "adding feature paw size with SSE of 3309858.1374644763\n",
      "adding feature fur fluff with SSE of 4083549.938982187\n",
      "final selection of features: ['urchin color', 'temp', 'paw grip', 'paw size', 'fur fluff']\n"
     ]
    },
    {
     "data": {
      "text/html": [
       "<div>\n",
       "<style>\n",
       "    .dataframe thead tr:only-child th {\n",
       "        text-align: right;\n",
       "    }\n",
       "\n",
       "    .dataframe thead th {\n",
       "        text-align: left;\n",
       "    }\n",
       "\n",
       "    .dataframe tbody tr th {\n",
       "        vertical-align: top;\n",
       "    }\n",
       "</style>\n",
       "<table border=\"1\" class=\"dataframe\">\n",
       "  <thead>\n",
       "    <tr style=\"text-align: right;\">\n",
       "      <th></th>\n",
       "      <th>instagrammability</th>\n",
       "      <th>urchin color</th>\n",
       "      <th>fur fluff</th>\n",
       "      <th>adorbz</th>\n",
       "      <th>temp</th>\n",
       "      <th>majesty</th>\n",
       "      <th>observer GPA</th>\n",
       "      <th>paw size</th>\n",
       "      <th>paw grip</th>\n",
       "      <th>ice cream sold</th>\n",
       "      <th>shark attacks</th>\n",
       "    </tr>\n",
       "  </thead>\n",
       "  <tbody>\n",
       "    <tr>\n",
       "      <th>0</th>\n",
       "      <td>138.70</td>\n",
       "      <td>89.1</td>\n",
       "      <td>6.8</td>\n",
       "      <td>263.0</td>\n",
       "      <td>62.0</td>\n",
       "      <td>1.00</td>\n",
       "      <td>2.04</td>\n",
       "      <td>0.0</td>\n",
       "      <td>25.0</td>\n",
       "      <td>196.0</td>\n",
       "      <td>3.0</td>\n",
       "    </tr>\n",
       "    <tr>\n",
       "      <th>1</th>\n",
       "      <td>121.87</td>\n",
       "      <td>93.4</td>\n",
       "      <td>8.0</td>\n",
       "      <td>264.0</td>\n",
       "      <td>63.0</td>\n",
       "      <td>1.00</td>\n",
       "      <td>2.69</td>\n",
       "      <td>-4.0</td>\n",
       "      <td>21.0</td>\n",
       "      <td>189.0</td>\n",
       "      <td>1.0</td>\n",
       "    </tr>\n",
       "    <tr>\n",
       "      <th>2</th>\n",
       "      <td>117.31</td>\n",
       "      <td>85.9</td>\n",
       "      <td>7.6</td>\n",
       "      <td>243.0</td>\n",
       "      <td>55.0</td>\n",
       "      <td>0.84</td>\n",
       "      <td>3.17</td>\n",
       "      <td>-2.0</td>\n",
       "      <td>11.0</td>\n",
       "      <td>219.0</td>\n",
       "      <td>0.0</td>\n",
       "    </tr>\n",
       "    <tr>\n",
       "      <th>3</th>\n",
       "      <td>80.69</td>\n",
       "      <td>89.1</td>\n",
       "      <td>6.0</td>\n",
       "      <td>260.0</td>\n",
       "      <td>52.0</td>\n",
       "      <td>0.73</td>\n",
       "      <td>2.13</td>\n",
       "      <td>-13.0</td>\n",
       "      <td>107.0</td>\n",
       "      <td>101.0</td>\n",
       "      <td>0.0</td>\n",
       "    </tr>\n",
       "    <tr>\n",
       "      <th>4</th>\n",
       "      <td>127.52</td>\n",
       "      <td>94.6</td>\n",
       "      <td>8.1</td>\n",
       "      <td>251.0</td>\n",
       "      <td>57.0</td>\n",
       "      <td>0.89</td>\n",
       "      <td>2.40</td>\n",
       "      <td>-6.0</td>\n",
       "      <td>43.0</td>\n",
       "      <td>186.0</td>\n",
       "      <td>0.0</td>\n",
       "    </tr>\n",
       "  </tbody>\n",
       "</table>\n",
       "</div>"
      ],
      "text/plain": [
       "   instagrammability  urchin color  fur fluff  adorbz  temp  majesty  \\\n",
       "0             138.70          89.1        6.8   263.0  62.0     1.00   \n",
       "1             121.87          93.4        8.0   264.0  63.0     1.00   \n",
       "2             117.31          85.9        7.6   243.0  55.0     0.84   \n",
       "3              80.69          89.1        6.0   260.0  52.0     0.73   \n",
       "4             127.52          94.6        8.1   251.0  57.0     0.89   \n",
       "\n",
       "   observer GPA  paw size  paw grip  ice cream sold  shark attacks  \n",
       "0          2.04       0.0      25.0           196.0            3.0  \n",
       "1          2.69      -4.0      21.0           189.0            1.0  \n",
       "2          3.17      -2.0      11.0           219.0            0.0  \n",
       "3          2.13     -13.0     107.0           101.0            0.0  \n",
       "4          2.40      -6.0      43.0           186.0            0.0  "
      ]
     },
     "execution_count": 645,
     "metadata": {},
     "output_type": "execute_result"
    }
   ],
   "source": [
    "# NOTES FROM OFFICE HOURS:\n",
    "\n",
    "#fit the model with no constants, the model will simply fit to y\n",
    "#find the first feature using SLR\n",
    "#find subsequent features by addding to the MLR model, and checking the result, until we get the desired number of features in the model\n",
    "\n",
    "# try fitting each feature using SLR\n",
    "# for loop iterating ovet the SLRs\n",
    "# -fit SLR to feature i\n",
    "# -be sure to add constant(X) = the intercept = beta0\n",
    "# -compute SSE\n",
    "# find from the SSEs which feature minimized SSE\n",
    "# keep that one\n",
    "# print out its name, why not?  \n",
    "\n",
    "# next: fit all the 2 feature models(that include best SLR feature)\n",
    "# for loop iterating over remaining features(features minue the one we chose)\n",
    "# -fit MLR to feature i and best_feature from above\n",
    "# -be sure to add_constant(X)\n",
    "# -compute SSE for each\n",
    "# keep that one.\n",
    "# now we have 2 features\n",
    "\n",
    "#fit all the 3 feature models...\n",
    "\n",
    "#helper function\n",
    "def compute_SSE(df, col, model_params, y_str, features_so_far): \n",
    "    features_so_far.append(col)\n",
    "    #print(features_so_far)\n",
    "    SSE = 0\n",
    "    #print(model_params)\n",
    "    df[col] = df[col].astype(float)\n",
    "    for i in range(len(df[col])):\n",
    "        yi = df[y_str][i]\n",
    "        y_bari = model_params[0]\n",
    "        for j in range(1, len(model_params)):\n",
    "            #print(features_so_far[0][0])\n",
    "            #print(df[features_so_far[j-1]])\n",
    "            #print(j,i)\n",
    "            \n",
    "            y_bari += model_params[j]*df[features_so_far[j-1][0]][i]\n",
    "        SSE += (yi - y_bari)**2\n",
    "    #print(\"SSE for\", col, \":\", SSE)\n",
    "    return(SSE)\n",
    "\n",
    "def forward_select(df,resp_Str,maxk): \n",
    "    poss_feat = []\n",
    "    k=0\n",
    "    dfFeatures = []\n",
    "    features_so_far = []\n",
    "    #insert features into array\n",
    "    for col, row in df.iteritems():\n",
    "        if(col != resp_Str):\n",
    "            poss_feat.append(col)\n",
    "            \n",
    "    feat_SSE = [0] * len(poss_feat)\n",
    "    while(k < maxk):\n",
    "        #fit one feature at a time\n",
    "        for i in range(len(poss_feat)):\n",
    "            if(dfFeatures == []):#first feature\n",
    "                X = sm.add_constant(df[poss_feat[i]])\n",
    "            else: #concat the dataframes to check for next feature\n",
    "                X = sm.add_constant(pd.concat([df[poss_feat[i]], df[dfFeatures]], axis=1))\n",
    "            model = sm.OLS(y,X.astype(float)).fit()\n",
    "            #print(model.params)\n",
    "\n",
    "            #calculate SSE\n",
    "            feat_SSE[i] = compute_SSE(df, [poss_feat[i]], model.params, resp_Str, features_so_far)\n",
    "            #print(feat_SSE)\n",
    "        minimized_SSE = min(feat_SSE)\n",
    "        minimized_index = feat_SSE.index(minimized_SSE)\n",
    "        dfFeatures.append(poss_feat[minimized_index])\n",
    "        features_so_far.append(poss_feat[minimized_index])\n",
    "        print(\"adding feature {} with SSE of {}\".format(poss_feat[minimized_index], minimized_SSE))\n",
    "        del poss_feat[minimized_index]\n",
    "        del feat_SSE[minimized_index]\n",
    "        k+=1\n",
    "    print(\"final selection of features:\", dfFeatures)\n",
    "    X = sm.add_constant(df[dfFeatures])\n",
    "    model = sm.OLS(y,X.astype(float)).fit()\n",
    "    return(model.params, model)\n",
    "        \n",
    "    \n",
    "my_params, my_model = forward_select(dfOtters, \"instagrammability\", 5)\n",
    "dfOtters.head()\n",
    "#print(dfOtters[\"urchin color\"])\n",
    "\n",
    "\n",
    "\n",
    "\n"
   ]
  },
  {
   "cell_type": "code",
   "execution_count": 647,
   "metadata": {},
   "outputs": [
    {
     "name": "stdout",
     "output_type": "stream",
     "text": [
      "const           66.936176\n",
      "urchin color     1.011323\n",
      "temp            -0.985249\n",
      "paw grip        -0.048437\n",
      "paw size         5.061242\n",
      "fur fluff        5.744329\n",
      "dtype: float64\n"
     ]
    }
   ],
   "source": [
    "print(my_params)"
   ]
  },
  {
   "cell_type": "markdown",
   "metadata": {},
   "source": [
    "**Part D**: Write down the multiple linear regression model, including estimated parameters, obtained by your forward selection process. "
   ]
  },
  {
   "cell_type": "markdown",
   "metadata": {},
   "source": [
    "$x1 = urchin color$  \n",
    "$x2 = temp$         \n",
    "$x3 = paw grip$    \n",
    "$x4 = paw size$              \n",
    "$x5 = fur fluff$  \n",
    "\n",
    "### My Model:\n",
    "$$y = 66.936176 + 1.011323 x_1 -0.985249 x_2 -0.048437 x_3 +5.061242 x_4 + 5.744329 x_5$$"
   ]
  },
  {
   "cell_type": "markdown",
   "metadata": {},
   "source": [
    "**Part E**: Perform the appropriate statistical test at the $\\alpha = 0.05$ significance level to determine whether there is a statistically significant difference between the full model with all features and the reduced model obtained by forward selection in **Part D**. "
   ]
  },
  {
   "cell_type": "code",
   "execution_count": 662,
   "metadata": {},
   "outputs": [
    {
     "name": "stdout",
     "output_type": "stream",
     "text": [
      "FULL MODEL SST: 137747.21007764703, SSE: 1758.5467865482624\n",
      "MY MODEL SST: 137747.21007764703, SSE: 5703.670817395325\n",
      "33.202321429924666\n",
      "My test statistic F: 33.202321429924666 > 2.338277630605569 for alpha = .05, thus I can reject the full model\n"
     ]
    }
   ],
   "source": [
    "def compute_SSE(df, model_params, y_str, features): \n",
    "    #print(features_so_far)\n",
    "    SSE = 0\n",
    "    #print(model_params)\n",
    "    df[col] = df[col].astype(float)\n",
    "    for i in range(len(df[col])):\n",
    "        yi = df[y_str][i]\n",
    "        y_bari = model_params[0]\n",
    "        for j in range(1, len(model_params)):\n",
    "            #print(features_so_far[0][0])\n",
    "            #print(df[features_so_far[j-1]])\n",
    "            #print(j,i)\n",
    "            \n",
    "            y_bari += model_params[j]*df[features[j-1]][i]\n",
    "        SSE += (yi - y_bari)**2\n",
    "    #print(\"SSE for\", col, \":\", SSE)\n",
    "    return(SSE)\n",
    "\n",
    "def compute_SST(df, cols, y_str):\n",
    "    SST = 0\n",
    "    y_bar = df[y_str].mean()\n",
    "    #print(y_bar)\n",
    "    for i in range(len(df[cols])):\n",
    "        #print(df[y_str][i], y_bar)\n",
    "        SST += (df[y_str][i] - y_bar)**2\n",
    "    return(SST)\n",
    "\n",
    "#FULL_MODEL**----------------------------------------------------------------------------------------------**\n",
    "\n",
    "feats = [\"urchin color\", \"fur fluff\", \"adorbz\", \"temp\", \"majesty\", \"observer GPA\", \"paw size\", \"paw grip\", \"ice cream sold\", \"shark attacks\"]\n",
    "\n",
    "\n",
    "X = dfOtters[[\"urchin color\", \"fur fluff\", \"adorbz\", \"temp\", \"majesty\", \"observer GPA\", \"paw size\", \"paw grip\", \"ice cream sold\", \"shark attacks\"]]\n",
    "y = dfOtters[\"instagrammability\"]\n",
    "X = sm.add_constant(X)\n",
    "model = sm.OLS(y,X.astype(float)).fit()\n",
    "#print(model.summary())\n",
    "#dfOtters.head()\n",
    "\n",
    "#compute_SSE(df, poss_feat[i], model.params, resp_Str)\n",
    "FULL_SSE = compute_SSE(dfOtters, model.params, \"instagrammability\", feats)\n",
    "FULL_SST = compute_SST(dfOtters, feats, \"instagrammability\")\n",
    "print(\"FULL MODEL SST: {}, SSE: {}\".format(FULL_SST, FULL_SSE))\n",
    "\n",
    "#**----------------------------------------------------------------------------------------------**\n",
    "\n",
    "#MY MODEL\n",
    "\n",
    "feats = [\"urchin color\", \"fur fluff\", \"temp\", \"paw size\", \"paw grip\"]\n",
    "\n",
    "\n",
    "X = dfOtters[[\"urchin color\", \"fur fluff\", \"temp\",  \"paw size\", \"paw grip\"]]\n",
    "y = dfOtters[\"instagrammability\"]\n",
    "X = sm.add_constant(X)\n",
    "model = sm.OLS(y,X.astype(float)).fit()\n",
    "#print(model.summary())\n",
    "#dfOtters.head()\n",
    "\n",
    "#compute_SSE(df, poss_feat[i], model.params, resp_Str)\n",
    "SSE = compute_SSE(dfOtters, model.params, \"instagrammability\", feats)\n",
    "SST = compute_SST(dfOtters, feats, \"instagrammability\")\n",
    "print(\"MY MODEL SST: {}, SSE: {}\".format(SST, SSE))\n",
    "\n",
    "\n",
    "\n",
    "\n",
    "\n",
    "#**----------------------------------------------------------------------------------------------**\n",
    "\n",
    "\n",
    "n = len(dfOtters[\"instagrammability\"])\n",
    "\n",
    "# dfSST = n-1\n",
    "p = 10 \n",
    "k = 5\n",
    "# dfSSE = n-(p+1)\n",
    "\n",
    "\n",
    "F = ((SSE-FULL_SSE) / (p-k)) / (FULL_SSE/(n-p-1))\n",
    "print(F)\n",
    "stats.f.ppf(.95, p-k, n-p-1)\n",
    "\n",
    "print(\"My test statistic F: {} > {} for alpha = .05, thus I can reject the full model\".format(F, stats.f.ppf(.95, p-k, n-p-1)))\n",
    "\n",
    "\n",
    "\n",
    "    "
   ]
  },
  {
   "cell_type": "markdown",
   "metadata": {},
   "source": [
    "**Part F**: Based on your conclusions in **Part E**, use the _better_ of the two models to predict an otter's instagrammability when the following features are observed: \n",
    "\n",
    "- $\\texttt{urchin color}$: 93 Wongs\n",
    "- $\\texttt{fur fluff}$: 8.2 Ketelsens\n",
    "- $\\texttt{adorbz}$: 273\n",
    "- $\\texttt{temp}$: 46F \n",
    "- $\\texttt{majesty}$: 0.79 \n",
    "- $\\texttt{observer GPA}$: 3.50 \n",
    "- $\\texttt{paw size}$: -10 \n",
    "- $\\texttt{paw grip}$: 55 Grochows\n",
    "- $\\texttt{ice cream sold}$: 130\n",
    "- $\\texttt{shark attacks}$: 3 "
   ]
  },
  {
   "cell_type": "code",
   "execution_count": 638,
   "metadata": {},
   "outputs": [
    {
     "name": "stdout",
     "output_type": "stream",
     "text": [
      "This otter has an instagrammability of : 109.4948038 based on my model\n"
     ]
    }
   ],
   "source": [
    "y = 66.936176 +( 1.011323 * 93) -(0.985249 * 46) -(0.048437 * 55) +(5.061242 * -10) + (5.744329 * 8.2 )\n",
    "print(\"This otter has an instagrammability of : {} based on my model\".format(y))\n",
    "\n"
   ]
  },
  {
   "cell_type": "code",
   "execution_count": null,
   "metadata": {
    "collapsed": true
   },
   "outputs": [],
   "source": []
  }
 ],
 "metadata": {
  "kernelspec": {
   "display_name": "Python 3",
   "language": "python",
   "name": "python3"
  },
  "language_info": {
   "codemirror_mode": {
    "name": "ipython",
    "version": 3
   },
   "file_extension": ".py",
   "mimetype": "text/x-python",
   "name": "python",
   "nbconvert_exporter": "python",
   "pygments_lexer": "ipython3",
   "version": "3.6.3"
  }
 },
 "nbformat": 4,
 "nbformat_minor": 2
}
