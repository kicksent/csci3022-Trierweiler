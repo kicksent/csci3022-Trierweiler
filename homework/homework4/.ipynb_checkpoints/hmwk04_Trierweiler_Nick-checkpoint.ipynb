{
 "cells": [
  {
   "cell_type": "markdown",
   "metadata": {},
   "source": [
    "# Homework 4: More Simulation and the Central Limit Theorem \n",
    "***\n",
    "\n",
    "**Name**: \n",
    "\n",
    "***\n",
    "\n",
    "This assignment is due on Moodle by **5pm on Friday March 16th**. Your solutions to theoretical questions should be done in Markdown/MathJax directly below the associated question.  Your solutions to computational questions should include any specified Python code and results as well as written commentary on your conclusions.  Remember that you are encouraged to discuss the problems with your instructors and classmates, but **you must write all code and solutions on your own**.  For a refresher on the course **Collaboration Policy** click [here](https://github.com/dblarremore/csci3022/blob/master/resources/syllabus.md#collaboration-policy).\n",
    "\n",
    "**NOTES**: \n",
    "\n",
    "- Do **NOT** load or use any Python packages that are not available in Anaconda 3.6. \n",
    "- Some problems with code may be autograded.  If we provide a function API **do not** change it.  If we do not provide a function API then you're free to structure your code however you like. \n",
    "- Because you can technically evaluate notebook cells is a non-linear order, it's a good idea to do Cell $\\rightarrow$ Run All as a check before submitting your solutions.  That way if we need to run your code you will know that it will work as expected. \n",
    "- Submit only this Jupyter notebook to Moodle.  Do not compress it using tar, rar, zip, etc. "
   ]
  },
  {
   "cell_type": "code",
   "execution_count": 1,
   "metadata": {
    "collapsed": true,
    "scrolled": true
   },
   "outputs": [],
   "source": [
    "import numpy as np\n",
    "import matplotlib.pylab as plt\n",
    "import pandas as pd\n",
    "%matplotlib inline\n",
    "from scipy import stats"
   ]
  },
  {
   "cell_type": "markdown",
   "metadata": {},
   "source": [
    "### [35 points] Problem 1 - Monte Carlo Estimation of Definite Integrals \n",
    "***\n",
    "\n",
    "One really cool application of random variables is using them to approximate integrals/area under a curve.  This method of approximating integrals is used constantly in computational science to approximate really difficult integrals that we never want to do by hand.  In this exercise you'll figure out how we can do this in practice and test your method on a very simple integral. "
   ]
  },
  {
   "cell_type": "markdown",
   "metadata": {},
   "source": [
    "**Part A** Compute by-hand, the integral $f(x) = \\sin(x)$ for $0 \\leq x \\leq \\pi$."
   ]
  },
  {
   "cell_type": "markdown",
   "metadata": {
    "collapsed": true
   },
   "source": [
    "$f(x) = sin(x) \\ for\\  0 \\le x \\le \\pi$\n",
    "\n",
    "$F(x) = \\int_0^\\pi sin(x) = -cos(x)\\Big|_0^\\pi$\n",
    "\n",
    "$F(x) = -cos(pi) - (-cos(0)) = 2$\n",
    "\n"
   ]
  },
  {
   "cell_type": "markdown",
   "metadata": {},
   "source": [
    "**Part B**: Suppose we sample a random variable $X$ from $U(0,\\pi)$ and another random variable $Y$ from $U(0,1)$ and think of them as $x$- and $y$-coordinates of a point in the box $[0,\\pi] \\times [0,1]$.  If we compute the ratio of points that fall under the curve $f(x)$ to the total points sampled, what does this value estimate? "
   ]
  },
  {
   "cell_type": "markdown",
   "metadata": {},
   "source": [
    "**This is just the ratio of points for the uniform distributions x and y. When we divide them, we should get out an estimate of pi as long as these variables are both chosen uniformly over the intervals.**"
   ]
  },
  {
   "cell_type": "code",
   "execution_count": 2,
   "metadata": {},
   "outputs": [
    {
     "name": "stdout",
     "output_type": "stream",
     "text": [
      "We get an estimation of pi!, pi ~ 3.158032318996294\n"
     ]
    },
    {
     "data": {
      "image/png": "[encoded data removed]",
      "text/plain": [
       "<matplotlib.figure.Figure at 0x7fd20c1ddbe0>"
      ]
     },
     "metadata": {},
     "output_type": "display_data"
    }
   ],
   "source": [
    "x = np.array([np.random.uniform(0,np.pi) for i in range(100000)])\n",
    "y = np.array([np.random.uniform(0,1) for i in range(100000)])\n",
    "\n",
    "plt.scatter(x,y)\n",
    "print(\"We get an estimation of pi!, pi ~ {}\".format(x.mean()/y.mean()))"
   ]
  },
  {
   "cell_type": "markdown",
   "metadata": {},
   "source": [
    "**Part C**: How could we modify the process outlined in **Part B** so that our estimator estimates the value of the desired integral? "
   ]
  },
  {
   "cell_type": "markdown",
   "metadata": {},
   "source": [
    "We can plot these random variables as x,y and find the number of points that fall below the curve. Then we divide by the total number of points. Finally we divide this ratio by the total area of the square which has size $\\pi$. This gives us an estimation of our integral.  "
   ]
  },
  {
   "cell_type": "code",
   "execution_count": 3,
   "metadata": {
    "scrolled": true
   },
   "outputs": [
    {
     "name": "stdout",
     "output_type": "stream",
     "text": [
      "We get an estimation of our integral~ 1.9901989460491338\n"
     ]
    },
    {
     "data": {
      "image/png": "[encoded data removed]",
      "text/plain": [
       "<matplotlib.figure.Figure at 0x7fd20c148cf8>"
      ]
     },
     "metadata": {},
     "output_type": "display_data"
    }
   ],
   "source": [
    "x = np.array([np.random.uniform(0,np.pi) for i in range(10000)])\n",
    "#x = np.random.uniform(0,np.pi)\n",
    "y = np.array([np.random.uniform(0,1) for i in range(10000)])\n",
    "bluex = np.extract(y > np.sin(x), x)\n",
    "bluey = np.extract(y > np.sin(x), y)\n",
    "plt.scatter(bluex,bluey, color=\"blue\")\n",
    "redx = np.extract(y <= np.sin(x), x)\n",
    "redy = np.extract(y <= np.sin(x), y)\n",
    "plt.scatter(redx,redy, color = \"red\")\n",
    "\n",
    "#area * (red area/total area)\n",
    "print(\"We get an estimation of our integral~ {}\".format(np.pi * len(redx)/len(x))) "
   ]
  },
  {
   "cell_type": "markdown",
   "metadata": {},
   "source": [
    "**Part D** Write a function integrate that takes as arguments the number of points to sample and a boolean flag isPlot and approximates the definite integral of $f(x)$ from $0$ to $\\pi$ by sampling $X$ from $U(0,\\pi)$ and $Y$ from $U(0,1)$. Your function should perform 3 tasks: \n",
    "\n",
    "1. Return the estimate of the value of the integral. \n",
    "2. Return the sample variance of the random variable being simulated using the np.var function.  \n",
    "4. If isPlot is True, plot the curve $f(x)$ as well as the location of the points $(X,Y)$, colored according to whether they fall above or below the curve. \n",
    "\n",
    "Run your simulation with isPlot=True for $1K$ samples so we can see your plot. Then, run your simulation (with the isPlot=False) with at least $10K$ samples and estimate the value of the given integral.  Does your estimate agree with the exact value of the integral you computed in **Part A**? "
   ]
  },
  {
   "cell_type": "markdown",
   "metadata": {},
   "source": [
    "Yes, our estimate agreed with Part A. "
   ]
  },
  {
   "cell_type": "code",
   "execution_count": 4,
   "metadata": {},
   "outputs": [
    {
     "name": "stdout",
     "output_type": "stream",
     "text": [
      "Estimation of integral with 10000 samples: 1.990513105314493, Variance: 0.23215104\n"
     ]
    },
    {
     "data": {
      "image/png": "[encoded data removed]",
      "text/plain": [
       "<matplotlib.figure.Figure at 0x7fd1e1f2cbe0>"
      ]
     },
     "metadata": {},
     "output_type": "display_data"
    }
   ],
   "source": [
    "def integrate(num_samples=int(10000), isPlot=False):\n",
    "    x = np.array([np.random.uniform(0,np.pi) for i in range(num_samples)])\n",
    "    #x = np.random.uniform(0,np.pi)\n",
    "    y = np.array([np.random.uniform(0,1) for i in range(num_samples)])\n",
    "    bluex = np.extract(y > np.sin(x), x)\n",
    "    bluey = np.extract(y > np.sin(x), y)\n",
    "    redx = np.extract(y <= np.sin(x), x)\n",
    "    redy = np.extract(y <= np.sin(x), y)\n",
    "    if(isPlot == True):\n",
    "        plt.scatter(bluex,bluey, color=\"blue\")\n",
    "        plt.scatter(redx,redy, color = \"red\")\n",
    "    estimate = np.pi * len(redx)/len(x)\n",
    "    var_arr = np.array(y <= np.sin(x))\n",
    "    sample_var = np.var(var_arr)\n",
    "    return estimate, sample_var \n",
    "est, var = integrate(isPlot = True)\n",
    "print(\"Estimation of integral with 10000 samples: {}, Variance: {}\".format(est, var))"
   ]
  },
  {
   "cell_type": "markdown",
   "metadata": {},
   "source": [
    "**Part E**: In the simulation above, what is distribution of the random variable we're actually sampling and what is/are its parameters?  "
   ]
  },
  {
   "cell_type": "markdown",
   "metadata": {},
   "source": [
    "This is a bernouli since we are seeing if our random variables x,y fall above or below the curve of our function. The samples tell us the ratio of points in each category and this allows us to estimate the integral. \n"
   ]
  },
  {
   "cell_type": "markdown",
   "metadata": {},
   "source": [
    "**Part F**: Compute the expected value of the random variable you described in **Part D** by hand.  Does this value agree with the exact value of the integral you computed in **Part A** and the estimated value you computed in **Part C**? "
   ]
  },
  {
   "cell_type": "markdown",
   "metadata": {
    "collapsed": true
   },
   "source": [
    "From the slides we know that E[Uniform] for a random uniform variable x :\n",
    "\n",
    "Bernouli with $p = 2/\\pi$\n",
    "\n",
    "$E[X] = P(X = 1) * 1 + P(X = 0) * 0 = 2/\\pi$\n",
    "\n",
    "If we multiply this times the area of the square again we get back our integral $2/\\pi * \\pi =  2$\n",
    "\n"
   ]
  },
  {
   "cell_type": "markdown",
   "metadata": {},
   "source": [
    "**Part G**: Compute the variance of the random variable you described in **Part D** by hand.  Does this value agree with the sample variance observed in **Part C**? "
   ]
  },
  {
   "cell_type": "markdown",
   "metadata": {
    "collapsed": true
   },
   "source": [
    "Once again, we have to find the variance of a bernouli with:\n",
    "\n",
    "$p = 2/\\pi$\n",
    "\n",
    "From this we know:\n",
    "\n",
    "Find q given p: \n",
    "\n",
    "$q = 1 - p = 1-2/\\pi$\n",
    "\n",
    "Now calculate Variance:\n",
    "\n",
    "$Var[x] = q * p = 2/\\pi * (1-2/\\pi) = .231$\n",
    "\n",
    "This indeed agrees with our calculation of variance from Part C. "
   ]
  },
  {
   "cell_type": "markdown",
   "metadata": {},
   "source": [
    "### [25 points] Problem 2 - Sampling Freshies\n",
    "***\n",
    "\n",
    "Maureen Ferguson stands alone on the riverbank. Snow has come to Colorado and flakes collect on her majestic pelt and whiskers. She shivers them off not because she is cold but just because her otter reflexes have been honed by millenia of adaptation. She is a biological machine. An inspiration. \n",
    "\n",
    "She wanders into her otter-mansion, hungry. There are piles RiverSnax from the autumn harvest. These are no ordinary RiverSnax, of course. They must be inspected with statistical care so that they are with high probability of the finest quality. You see, Maureen's snax have a freshness score, measured in Freshies, named after Professor Charles Snaxavier Fraeshmann. The average RiverSnack from her current supplier is 91 Freshies, and the standard deviation is 6 Freshies. \n",
    "\n",
    "You are new on the job, excited to apply your CSCI 3022 knowledge, and keen to prove yourself in a big and changing world. You are in charge of sampling the RiverSnax. Your boss, Governor John Hickenlotter, tells you that you must take a sample of Snax and that the average freshness must be no less than 90 Freshies. If the average is below 90 Freshies, the whole pile of RiverSnax must be thrown away, rejected. The current system, when you arrive is to sample 30 snax from each pile to see if the average freshness is above the 90 Freshies threshold. \n",
    "\n",
    "**Part A**:  Say \"Freshies Threshold\" at least 10 times in a row, as quickly as possible. Do not show your work. \n",
    "\n"
   ]
  },
  {
   "cell_type": "markdown",
   "metadata": {
    "collapsed": true
   },
   "source": [
    "It hurt. \n"
   ]
  },
  {
   "cell_type": "markdown",
   "metadata": {},
   "source": [
    "**Part B**: What is the probability that a RiverSnack is rejected under the current system of 30 samples?"
   ]
  },
  {
   "cell_type": "code",
   "execution_count": 96,
   "metadata": {},
   "outputs": [
    {
     "name": "stdout",
     "output_type": "stream",
     "text": [
      "Probability that a RiverSnack is rejected under the current system of 30 samples = 18.07\n"
     ]
    }
   ],
   "source": [
    "z = (90-91)/(6/np.sqrt(30))\n",
    "print(\"Probability that a RiverSnack is rejected under the current system of 30 samples = {:.2f}\".format(stats.norm.cdf(z)*100))\n"
   ]
  },
  {
   "cell_type": "markdown",
   "metadata": {},
   "source": [
    "**Part C**: Well, that's not good enough. Not for our Maureen Ferguson. You propose to Governor Hickelotter that you will get RiverSnax from a new supplier. The new supplier's RiverSnax have a standard deviation of 6 Freshies, just like the old ones. But, they can harvest the RiverSnax from various parts of the river, to adjust the average Freshy level of the RiverSnax, $\\mu$. Gov. Hickenlotter's requirement is that the probability that a pile of RiverSnax is rejected is less than 0.001. What is the minimum average Freshy level $\\mu$ needed in order to achieve the Governor's requirement?\n"
   ]
  },
  {
   "cell_type": "markdown",
   "metadata": {},
   "source": [
    "We need to set our z to .001 and solve for $\\mu$. \n",
    "First we need to get our Z from the ppf, and set it equal to our Box Muller transform. Then we can solve for $\\mu$. \n",
    "\n",
    "$-3.0902 = \\frac{90 - \\mu}{\\frac{6}{\\sqrt{30}}} = 93.38$\n",
    "\n",
    "Here is the calculation done in code:\n",
    "\n"
   ]
  },
  {
   "cell_type": "code",
   "execution_count": 6,
   "metadata": {},
   "outputs": [
    {
     "name": "stdout",
     "output_type": "stream",
     "text": [
      "-3.09023230617\n",
      "Minimum average freshy level mu needed to achieve probability < .001 = 93.38517988403865\n"
     ]
    }
   ],
   "source": [
    "z = stats.norm.ppf(.001)\n",
    "print(z)\n",
    "mu = (z * (6/np.sqrt(30))-90 )  #= -mu\n",
    "mu *= -1\n",
    "print(\"Minimum average freshy level mu needed to achieve probability < .001 = {}\".format(mu))\n"
   ]
  },
  {
   "cell_type": "markdown",
   "metadata": {},
   "source": [
    "**Part D**: You are about to submit your report, given your answer above, when you find out that the new supplier is going out of business. Ugh.  You are stuck with the old RiverSnax. But the Governor's requirement still stands: the probability that a pile of RiverSnax is rejected must be less than 0.001. You decide you'll just take more samples from the existing piles. Surely, the number must be greater than 30, but... what is the minimum number of samples that will ensure that each pile of RiverSnax is rejected with probability less than $0.001$?"
   ]
  },
  {
   "cell_type": "markdown",
   "metadata": {},
   "source": [
    "Now, we are going to see how few samples we can do with the old mean $\\mu = 91$ while maintaining this value. \n",
    "With some algebra we arrive at this equation:\n",
    "\n",
    "$\\sqrt{samples} = 6(\\frac{-3.09}{90-91})$\n",
    "\n",
    "$\\sqrt{samples} = 18.54 => samples = 18.54^2 = 344$\n",
    "\n",
    "Here is the code for this calculation:\n"
   ]
  },
  {
   "cell_type": "code",
   "execution_count": 7,
   "metadata": {},
   "outputs": [
    {
     "name": "stdout",
     "output_type": "stream",
     "text": [
      "We would have to take 343.78 so 344 samples! Darn that sucks!\n"
     ]
    }
   ],
   "source": [
    "min_samples = (6*(z/(90-91)))**2\n",
    "print(\"We would have to take {:.2f} so 344 samples! Darn that sucks!\".format(min_samples))"
   ]
  },
  {
   "cell_type": "markdown",
   "metadata": {},
   "source": [
    "**[Extra Credt - 2 points] Part E**: Draw an ASCII picture of Maureen Ferguson. \n",
    "\n",
    " \n"
   ]
  },
  {
   "cell_type": "code",
   "execution_count": 8,
   "metadata": {
    "collapsed": true
   },
   "outputs": [],
   "source": [
    "                                   ####\n",
    "                                   ####                                                 ###\n",
    "                                   ####   ###                                        ######\n",
    "                                   ####  #####                                      #####          #########\n",
    "                                   #  ## #####                                       # ###     ####      ######\n",
    "                                   #   ######                                        ## ###   #      ##       ###\n",
    "                                    # ##   ############                               ##   # ###               ##\n",
    "                                     ##    ####       ##                             ####   # ###               #\n",
    "                                    ##        ###############                      ##   ##   ## ###             ##\n",
    "                                     ###                     ###       #############     #     ## #######        ##\n",
    "                                     ####                      ##  #####                 #      ##                #\n",
    "                                      ####                      ####                    ##                        #\n",
    "                                        ####                    ##                      #                       #\n",
    "                                         ######                ##                                             ##\n",
    "   ##################              #########  ##           ####                                            ###\n",
    "#############################################  ###                                                     #####\n",
    "                   ####################     ###  ##                                           ###########\n",
    "                                               #######                           #############\n",
    "                                                      ####     ###################\n",
    "                                                          #####\n"
   ]
  },
  {
   "cell_type": "markdown",
   "metadata": {},
   "source": [
    "### [40 points] Problem 3 - Not-so-Easy Peasy Plinko \n",
    "***\n",
    "\n",
    "[Plinko](http://priceisright.wikia.com/wiki/Plinko), the shining jewel of the gameshow [Price is Right](https://en.wikipedia.org/wiki/The_Price_Is_Right), is a staple of American culture.  Luckily for us, it's also chalk-full of interesting ideas from probability and statistics. The game involves dropping a disc onto an inclined board of pegs and letting it bounce around until it lands in a bin with an associated cash value. Players get to drop some number of discs down the Plinko board and keep their winnings.   \n",
    "\n",
    "In class we looked at a simplified version of Plinko:  \n",
    "\n",
    "![alt text](http://danlarremore.com/misc/plinko1.png)\n",
    "\n",
    "\n",
    "In real life, Plinko has boundaries, positioned symmetrically around the center $c$ at positions $\\ell$ and $r$ s.t. $|c-\\ell| = |c+r|$. The effect of the boundaries are that when the Plinko disc hits the boundary, it can only move back toward the center. In other words, if the disc hits the boundary at $\\ell$, it can only go right at that level. Likewise, if the disc hits the boundary at $r$, it can only go left at that level. \n",
    "\n",
    "For instance, the following board depicts a Plinko game with boundaries at $0.5$ (halfway between the centers of Buckets 0 and 1) and $5.5$ (halfway between Buckets 5 and 6)  The red pegs indicate boundary pegs on which the disc always moves toward the center.   \n",
    "\n",
    "![alt text](http://danlarremore.com/misc/plinko2.png)\n"
   ]
  },
  {
   "cell_type": "markdown",
   "metadata": {},
   "source": [
    "**Part A**: Write a simulator of Plinko that models the disc moving through each of the 6 rows of pegs to its final destination in one of the 7 bins. Let $X$ be the random variable corresponding to the Bucket that the disc lands in. Run your simulation for at least $10K$ trials and plot a density histogram estimate of the PMF of $X$ when the probability of moving left or right when hitting a peg is equal to $p = 0.5$. "
   ]
  },
  {
   "cell_type": "code",
   "execution_count": 9,
   "metadata": {},
   "outputs": [
    {
     "data": {
      "text/plain": [
       "(array([ 0.0138,  0.0924,  0.2305,  0.3096,  0.2453,  0.0922,  0.0162]),\n",
       " array([-0.5,  0.5,  1.5,  2.5,  3.5,  4.5,  5.5,  6.5]),\n",
       " <a list of 7 Patch objects>)"
      ]
     },
     "execution_count": 9,
     "metadata": {},
     "output_type": "execute_result"
    },
    {
     "data": {
      "image/png": "[encoded data removed]",
      "text/plain": [
       "<matplotlib.figure.Figure at 0x7fd1e1cfe780>"
      ]
     },
     "metadata": {},
     "output_type": "display_data"
    }
   ],
   "source": [
    "def plinko(x, lowerbound = None, upperbound = None):\n",
    "    rows = 0\n",
    "    while(rows<6):\n",
    "        if(x):\n",
    "            choice = np.random.choice([-.5, .5], p=[.5, .5])\n",
    "            x += choice\n",
    "        rows+=1\n",
    "        #print(x)\n",
    "        \n",
    "    return(x)\n",
    "\n",
    "res = np.array([plinko(3) for i in range(10000)])\n",
    "plt.hist(res, bins=[-0.5,0.5,1.5,2.5,3.5,4.5,5.5,6.5], normed=True)"
   ]
  },
  {
   "cell_type": "markdown",
   "metadata": {},
   "source": [
    "**Part B**: Let $X$ be the random variable corresponding to the Bucket that the disc lands in.  Write down the **true** PMF for $X$. (**Hint**: It might be helpful to reflect back on the discussion from Lecture 11). "
   ]
  },
  {
   "cell_type": "markdown",
   "metadata": {},
   "source": [
    "The True PMF for Plinko with 6 rows is a binomial with probability 1 / number of paths to that bin. \n",
    "\n",
    "WE can calculate this for a plinko without bounds and 6 rows as :\n",
    "\n",
    "$P(X = 0) = \\binom{6}{0} p^0 (1-p)^6 = (1-p)^6 $\n",
    "\n",
    "$P(X = 1) = \\binom{6}{1} p^1 (1-p)^5 = 6p (1-p)^5  $\n",
    "\n",
    "$P(X = 2) = \\binom{6}{2} p^2 (1-p)^4 =  15p^2 (1-p)^4 $\n",
    "\n",
    "$P(X = 3) = \\binom{6}{3} p^3 (1-p)^3 =  20p^3 (1-p)^3 $\n",
    "\n",
    "$P(X = 4) = \\binom{6}{4} p^4 (1-p)^2 = 15p^4 (1-p)^2 $\n",
    "\n",
    "$P(X = 5) = \\binom{6}{5} p^5 (1-p)^1 = 6p^5 (1-p) $\n",
    "\n",
    "$P(X = 6) = \\binom{6}{6} p^6 (1-p)^0 = p^6 $\n",
    "\n",
    "Note that these values of p and (1-p) are all .5 in the case where $p = .5$ so this looks like the 6th row of pascals triangle:\n",
    "\n",
    "$1,6,15,20,15,6,1$\n",
    "\n",
    "Divide these by their total and we get the same values:\n",
    "\n",
    "$1/64,6/64,15/64,20/64,15/64,6/64,1/64$"
   ]
  },
  {
   "cell_type": "markdown",
   "metadata": {},
   "source": [
    "**Part C**: Write a simulator for Plinko with boundaries. Your code should be similar to your code from **Part A**, but should take in two variable boundaries, left_bound and right_bound, corresponding to the location of the left boundary and right boundary, respectively. \n"
   ]
  },
  {
   "cell_type": "markdown",
   "metadata": {},
   "source": [
    "**I will create this function and run it with bounds at .5 and 5.5, this will serve as a proof of concept. **"
   ]
  },
  {
   "cell_type": "code",
   "execution_count": 10,
   "metadata": {},
   "outputs": [
    {
     "data": {
      "text/plain": [
       "(array([ 0.    ,  0.1094,  0.2354,  0.3192,  0.2321,  0.1039,  0.    ]),\n",
       " array([-0.5,  0.5,  1.5,  2.5,  3.5,  4.5,  5.5,  6.5]),\n",
       " <a list of 7 Patch objects>)"
      ]
     },
     "execution_count": 10,
     "metadata": {},
     "output_type": "execute_result"
    },
    {
     "data": {
      "image/png": "[encoded data removed]",
      "text/plain": [
       "<matplotlib.figure.Figure at 0x7fd1e1effc18>"
      ]
     },
     "metadata": {},
     "output_type": "display_data"
    }
   ],
   "source": [
    "def plinko_w_bounds(x, lowerbound = None, upperbound = None):\n",
    "    rows = 0\n",
    "    while(rows<6):\n",
    "        if(lowerbound < x and x < upperbound):\n",
    "            choice = np.random.choice([-.5, .5], p=[.5, .5])\n",
    "            x += choice\n",
    "        elif(x == lowerbound):\n",
    "            x += .5\n",
    "        elif(x == upperbound):\n",
    "            x -= .5\n",
    "        else:\n",
    "             print(\"error\")\n",
    "        rows+=1\n",
    "        #print(x)\n",
    "        \n",
    "    return(x)\n",
    "\n",
    "low = .5\n",
    "up = 5.5\n",
    "num_trials = 10000\n",
    "\n",
    "res = np.array([plinko_w_bounds(3, lowerbound = low, upperbound = up) for i in range(num_trials)])\n",
    "plt.title(\"Plinko with lowerbound = {}, upperbound = {}\".format(low, up))\n",
    "plt.hist(res, bins=[-0.5,0.5,1.5,2.5,3.5,4.5,5.5,6.5], normed=True)"
   ]
  },
  {
   "cell_type": "markdown",
   "metadata": {},
   "source": [
    "**Part D**: Consider the board with left_bound $= 0.5$ which looks as follows: \n",
    "\n",
    "![alt text](http://danlarremore.com/misc/plinko3.png)\n",
    "\n",
    "Let $X$ be the random variable corresponding to the Bucket that the disc lands in. Run your simulation for at least $10K$ trials and plot a density histogram estimate of the PMF of $X$. Compare the approximate PMF for this board to the no-boundary board from **Part A**. Explain the mechanism that causes the differences between the two PMFs in words. \n",
    "\n",
    "\n"
   ]
  },
  {
   "cell_type": "markdown",
   "metadata": {},
   "source": [
    "We can see in the histogram that $P(X = 1) looks like P(X = 0) + P(X = 1). This is what we would expect to see since, when we hit the boundary, the only possible path is for the plinko chip to go to 1, instead of 0. "
   ]
  },
  {
   "cell_type": "code",
   "execution_count": 11,
   "metadata": {},
   "outputs": [
    {
     "data": {
      "text/plain": [
       "(array([ 0.    ,  0.1088,  0.2358,  0.315 ,  0.2292,  0.0941,  0.0171]),\n",
       " array([-0.5,  0.5,  1.5,  2.5,  3.5,  4.5,  5.5,  6.5]),\n",
       " <a list of 7 Patch objects>)"
      ]
     },
     "execution_count": 11,
     "metadata": {},
     "output_type": "execute_result"
    },
    {
     "data": {
      "image/png": "[encoded data removed]",
      "text/plain": [
       "<matplotlib.figure.Figure at 0x7fd1e1d06dd8>"
      ]
     },
     "metadata": {},
     "output_type": "display_data"
    }
   ],
   "source": [
    "low = .5\n",
    "up = 6.5 #essentially, no bound\n",
    "num_trials = 10000\n",
    "\n",
    "res = np.array([plinko_w_bounds(3, lowerbound = low, upperbound = up) for i in range(num_trials)])\n",
    "plt.title(\"Plinko with lowerbound = {}, upperbound = {}\".format(low, up))\n",
    "plt.hist(res, bins=[-0.5,0.5,1.5,2.5,3.5,4.5,5.5,6.5], normed=True)"
   ]
  },
  {
   "cell_type": "markdown",
   "metadata": {},
   "source": [
    "**Part E**: Now consider the board with left_bound $= 1.5$ which looks as follows: \n",
    "\n",
    "![alt text](http://danlarremore.com/misc/plinko4.png)\n",
    "\n",
    "Let $X$ be the random variable corresponding to the Bucket that the disc lands in. Run your simulation for at least $10K$ trials and plot a density histogram estimate of the PMF of $X$. Compare the approximate PMF for this board to the boards from **Parts A** and **D**. Explain the mechanism that causes the differences between the three PMFs in words. \n"
   ]
  },
  {
   "cell_type": "markdown",
   "metadata": {},
   "source": [
    "We can see that P(X =2) looks like P(X = 1) + P(X = 2) and P(X = 3) now looks like P(X = 3) + P(X = 0). If we mirror the paths that cross the boundary then at the first boundary, we get a split of paths where most of the paths go to bin 2, but sometimes the path can still lead us to bin 3. Thus, we get a distribution where the right side(values 4-6) are unchanged and left side(values 2,3) are larger now where P(X = 2) has grown significantly, and P(X = 3) has grown by very little, but still enough to show. "
   ]
  },
  {
   "cell_type": "code",
   "execution_count": 12,
   "metadata": {},
   "outputs": [
    {
     "data": {
      "text/plain": [
       "(array([ 0.    ,  0.    ,  0.323 ,  0.3244,  0.2399,  0.0972,  0.0155]),\n",
       " array([-0.5,  0.5,  1.5,  2.5,  3.5,  4.5,  5.5,  6.5]),\n",
       " <a list of 7 Patch objects>)"
      ]
     },
     "execution_count": 12,
     "metadata": {},
     "output_type": "execute_result"
    },
    {
     "data": {
      "image/png": "[encoded data removed]",
      "text/plain": [
       "<matplotlib.figure.Figure at 0x7fd1e1d714a8>"
      ]
     },
     "metadata": {},
     "output_type": "display_data"
    }
   ],
   "source": [
    "low = 1.5\n",
    "up = 6.5 #essentially, no bound\n",
    "num_trials = 10000\n",
    "\n",
    "res = np.array([plinko_w_bounds(3, lowerbound = low, upperbound = up) for i in range(num_trials)])\n",
    "plt.title(\"Plinko with lowerbound = {}, upperbound = {}\".format(low, up))\n",
    "plt.hist(res, bins=[-0.5,0.5,1.5,2.5,3.5,4.5,5.5,6.5], normed=True)"
   ]
  },
  {
   "cell_type": "markdown",
   "metadata": {},
   "source": [
    "**Part F**: OK, one more. Consider the board with left_bound $= 1.5$ and right_bound $= 5.5$ which looks as follows: \n",
    "\n",
    "![alt text](http://danlarremore.com/misc/plinko5.png)\n",
    "\n",
    "Let $X$ be the random variable corresponding to the Bucket that the disc lands in. Use your observations from **Parts A-D** to write down the **true** PMF of $X$. \n",
    "\n",
    "\n"
   ]
  },
  {
   "cell_type": "markdown",
   "metadata": {
    "collapsed": true
   },
   "source": [
    "This is a binomial distribution, where P(X = 2) = P(X = 2) + P(X = 1) from our original binomial dist, and P(X = 3) = P(X = 3) + P(X = 0).\n",
    "\n",
    "We can list these new probabilities as follows:\n",
    "\n",
    "$P(X = 0) = 0 $\n",
    "\n",
    "$P(X = 1) = 0  $\n",
    "\n",
    "$P(X = 2) = \\binom{6}{2} p^2 (1-p)^4 + \\binom{6}{1} p^1 (1-p)^5 =  15p^2 (1-p)^4 + 6p (1-p)^5 $\n",
    "\n",
    "$P(X = 3) = \\binom{6}{3} p^3 (1-p)^3 + \\binom{6}{0} p^0 (1-p)^6 =  20p^3 (1-p)^3 + (1-p)^6 $\n",
    "\n",
    "$P(X = 4) = \\binom{6}{4} p^4 (1-p)^2 = 15p^4 (1-p)^2 $\n",
    "\n",
    "$P(X = 5) = \\binom{6}{5} p^5 (1-p)^1 + \\binom{6}{6} p^6 (1-p)^0 = 6p^5 (1-p) + p^6 $\n",
    "\n",
    "$P(X = 6) =  0 $\n",
    "\n"
   ]
  },
  {
   "cell_type": "markdown",
   "metadata": {},
   "source": [
    "**Part G**: Suppose I challenge you to a _friendly_ game of Plinko on the board from **Part F**. I offer to pay you a dollar amount equal to the bucket that your disc lands in, but also charge you a flat fee for each disc that you play.  How much should I charge you per disc so that we break even in the long run? "
   ]
  },
  {
   "cell_type": "markdown",
   "metadata": {},
   "source": [
    "If we multiply the winnings times the probability for each bin and sum them all up, then we will know how much we should be required to pay. This assumes that we can only drop it above slot 3, like the previous examples. "
   ]
  },
  {
   "cell_type": "code",
   "execution_count": 46,
   "metadata": {
    "scrolled": true
   },
   "outputs": [
    {
     "name": "stdout",
     "output_type": "stream",
     "text": [
      "We can sum these values with p = .5 so show that this PMF is valid, we should get 1: proof_of_pmf sum = 1.0\n",
      "Mean winnings is 3.125, so the amount we should charge to play to break even in the long run is mean_winnings: 3.12\n"
     ]
    }
   ],
   "source": [
    "p = .5\n",
    "'''\n",
    "These are the calculations we are doing using the PMF we calculated in part F. \n",
    "5 * P(X = 5) + 4 * P(X = 4) + 3 * P(X = 3) + 2 * P(X = 2)\n",
    "'''\n",
    "proof_of_pmf = (6*p**5*(1-p)+p**6) + (15*p**4*(1-p)**2) + (20*p**3*(1-p)**3 + (1-p)**6) + (15*p**2*(1-p)**4 + 6*p*(1-p)**5)\n",
    "print(\"We can sum these values with p = .5 so show that this PMF is valid, we should get 1: proof_of_pmf sum = {}\".format(proof_of_pmf))\n",
    "\n",
    "mean_winnings = 5*(6*p**5*(1-p)+p**6) + 4*(15*p**4*(1-p)**2) + 3*(20*p**3*(1-p)**3 + (1-p)**6) + 2*(15*p**2*(1-p)**4 + 6*p*(1-p)**5)\n",
    "print(\"Mean winnings is {}, so the amount we should charge to play to break even in the long run is mean_winnings: {:.2f}\".format(mean_winnings, mean_winnings))"
   ]
  },
  {
   "cell_type": "markdown",
   "metadata": {},
   "source": [
    "**This is essentially a sum of the expected earnings/number of trials ^**"
   ]
  },
  {
   "cell_type": "markdown",
   "metadata": {},
   "source": [
    "### Challenge Fun Problem [0 points] - Real-Deal Plinko \n",
    "***\n",
    "\n",
    "Implement a full-blown Plinko simulator based on the actual board from Price is Right, which allows you to choose where to place the disc at the top of the board.  \n",
    "\n",
    "![alt text](https://i.pinimg.com/736x/7d/4b/5b/7d4b5b9ba5cdeceea16433eaadeeaf13--mash-game-plinko-game.jpg)\n",
    "\n",
    "You can actually do this using mostly your code from **Problem 3** and some careful handling of the boundaries relative to where you drop the disc.  Investigate questions like \"What is the optimal position to drop the disc to maximize expected winnings?\" and \"What are the expected winnings if you play Plinko optimally?\"\n",
    "\n",
    "Once you're done with that, it's time to go full-on Meta-Plinko.  Suppose the boundaries of the Plinko board are in their true positions from the real game show, but the board can have an arbitrary number of rows.  Is there a minimum number of rows the board can have at which point the PMF for the distribution becomes approximately uniform?  If not, is there a Bucket, or set of Buckets, that always have a greater chance of claiming the disc? \n"
   ]
  },
  {
   "cell_type": "code",
   "execution_count": 59,
   "metadata": {},
   "outputs": [
    {
     "name": "stdout",
     "output_type": "stream",
     "text": [
      "3.0 p*((1-p)*((1-p)*(p*((1-p)*((1-p)*((1-p)*((1-p)*(p*(p*(p*(p*(1)))))))))))) prob = 8.576612099999996e-05\n"
     ]
    }
   ],
   "source": [
    "#where prob = right, and (1 - prob) = left\n",
    "def plinko_simulated(x, str = \"1\", prob = .5, total_rows = 12):\n",
    "    rows = 0\n",
    "    while(rows<total_rows):\n",
    "        if(.5 < x and x < 9.5):\n",
    "            choice = np.random.choice([-.5, .5], p=[1-prob, prob])\n",
    "            x += choice\n",
    "            if(choice == .5):\n",
    "                dir = \"right\"\n",
    "            else: \n",
    "                dir = \"left\"\n",
    "        elif(x == .5):\n",
    "            x += .5\n",
    "            dir = \"right\"\n",
    "        else:\n",
    "            x -= .5\n",
    "            dir = \"left\"\n",
    "        rows+=1\n",
    "        if(dir == \"left\"):#left\n",
    "            str = \"(1-p)*(\"+str+\")\"\n",
    "        else:#right\n",
    "            str = \"p*(\"+str+\")\"\n",
    "        #print(x)\n",
    "    return(x, str)\n",
    "\n",
    "p = .3\n",
    "\n",
    "x, eval_str = plinko_simulated(3, str = \"1\", prob = p)\n",
    "print(x, eval_str, \"prob = {}\".format(eval(eval_str)))\n"
   ]
  },
  {
   "cell_type": "markdown",
   "metadata": {},
   "source": [
    "Now we can sum the probability for each path that is calculated individually with p = any number [0,1]. If I take 10000 samples Ill have a good idea of what probability there is for each path. "
   ]
  },
  {
   "cell_type": "code",
   "execution_count": 73,
   "metadata": {},
   "outputs": [
    {
     "name": "stdout",
     "output_type": "stream",
     "text": [
      "Estimated probability sums from PMF array: [  6.37348904e+00   2.60510781e+00   1.10059851e+00   3.15790858e-01\n",
      "   6.95563241e-02   9.55679634e-03   1.24448392e-03   1.08020304e-04\n",
      "   2.89340100e-06]\n"
     ]
    },
    {
     "data": {
      "text/plain": [
       "(array([  2.50700000e-01,   2.39100000e-01,   2.35700000e-01,\n",
       "          1.57800000e-01,   8.11000000e-02,   2.60000000e-02,\n",
       "          7.90000000e-03,   1.60000000e-03,   1.00000000e-04]),\n",
       " array([ 0.5,  1.5,  2.5,  3.5,  4.5,  5.5,  6.5,  7.5,  8.5,  9.5]),\n",
       " <a list of 9 Patch objects>)"
      ]
     },
     "execution_count": 73,
     "metadata": {},
     "output_type": "execute_result"
    },
    {
     "data": {
      "image/png": "[encoded data removed]",
      "text/plain": [
       "<matplotlib.figure.Figure at 0x7fd1d964bdd8>"
      ]
     },
     "metadata": {},
     "output_type": "display_data"
    }
   ],
   "source": [
    "#now lets simulate lots of runs to detetming the probability for each path!\n",
    "num_samples = 10000\n",
    "p = .3\n",
    "start_pos = 5\n",
    "arr = np.array([])\n",
    "prob_arr = np.array([])\n",
    "for i in range(num_samples):\n",
    "    x, str = plinko_simulated(start_pos, str = \"1\", prob = p, total_rows = 12)\n",
    "    arr = np.append(arr, x)\n",
    "    prob_arr = np.append(prob_arr, eval(str))\n",
    "\n",
    "plt.figure(figsize=(8,4))\n",
    "plt.xticks([0,1,2,3,4,5,6,7,8,9])\n",
    "PMF = np.array([0]*9, dtype = float)\n",
    "for i in range(len(arr)):\n",
    "    PMF[arr[i].astype(int)-1] += prob_arr[i]\n",
    "print(\"Estimated probability sums from PMF array: {}\".format(PMF))\n",
    "plt.hist(arr, bins=[0.5,1.5,2.5,3.5,4.5,5.5,6.5,7.5, 8.5, 9.5], normed=True)"
   ]
  },
  {
   "cell_type": "markdown",
   "metadata": {},
   "source": [
    "**Thus, we can see that when the probability of left is .7, and number of rows is 12 we get a greater distribution on the left side.**\n"
   ]
  },
  {
   "cell_type": "markdown",
   "metadata": {
    "collapsed": true
   },
   "source": [
    "**Okay, lets answer the question now:**\n",
    "\n",
    "When we have a STANDARD PLINKO BOARD, 50/50 chance of going left/right, and 12 rows:\n"
   ]
  },
  {
   "cell_type": "code",
   "execution_count": null,
   "metadata": {
    "collapsed": true
   },
   "outputs": [],
   "source": []
  },
  {
   "cell_type": "code",
   "execution_count": 74,
   "metadata": {
    "scrolled": false
   },
   "outputs": [
    {
     "name": "stdout",
     "output_type": "stream",
     "text": [
      "Estimated probability sums from PMF array: [ 0.05004883  0.13354492  0.28808594  0.49584961  0.54907227  0.47631836\n",
      "  0.2800293   0.12866211  0.03979492]\n"
     ]
    },
    {
     "data": {
      "text/plain": [
       "(array([ 0.0205,  0.0547,  0.118 ,  0.2031,  0.2249,  0.1951,  0.1147,\n",
       "         0.0527,  0.0163]),\n",
       " array([ 0.5,  1.5,  2.5,  3.5,  4.5,  5.5,  6.5,  7.5,  8.5,  9.5]),\n",
       " <a list of 9 Patch objects>)"
      ]
     },
     "execution_count": 74,
     "metadata": {},
     "output_type": "execute_result"
    },
    {
     "data": {
      "image/png": "[encoded data removed]",
      "text/plain": [
       "<matplotlib.figure.Figure at 0x7fd1d95f3ba8>"
      ]
     },
     "metadata": {},
     "output_type": "display_data"
    }
   ],
   "source": [
    "#now lets simulate lots of runs to detetming the probability for each path!\n",
    "num_samples = 10000\n",
    "p = .5\n",
    "start_pos = 5\n",
    "arr = np.array([])\n",
    "prob_arr = np.array([])\n",
    "for i in range(num_samples):\n",
    "    x, str = plinko_simulated(start_pos, str = \"1\", prob = p, total_rows = 12)\n",
    "    arr = np.append(arr, x)\n",
    "    prob_arr = np.append(prob_arr, eval(str))\n",
    "\n",
    "plt.figure(figsize=(8,4))\n",
    "plt.xticks([0,1,2,3,4,5,6,7,8,9])\n",
    "PMF = np.array([0]*9, dtype = float)\n",
    "for i in range(len(arr)):\n",
    "    PMF[arr[i].astype(int)-1] += prob_arr[i]\n",
    "print(\"Estimated probability sums from PMF array: {}\".format(PMF))\n",
    "plt.hist(arr, bins=[0.5,1.5,2.5,3.5,4.5,5.5,6.5,7.5, 8.5, 9.5], normed=True)"
   ]
  },
  {
   "cell_type": "markdown",
   "metadata": {},
   "source": [
    "**^ This is enough to show, that given a 50/50 chance to fall right/left, then the center column (number 5) is the best. **"
   ]
  },
  {
   "cell_type": "code",
   "execution_count": 88,
   "metadata": {},
   "outputs": [
    {
     "name": "stdout",
     "output_type": "stream",
     "text": [
      "Estimated probability sums from PMF array: [  8.77520279e-13   9.60120872e-13   9.78772619e-13   1.09157128e-12\n",
      "   9.85878046e-13   1.07824860e-12   1.03561604e-12   9.41469125e-13\n",
      "   9.32587341e-13]\n"
     ]
    },
    {
     "data": {
      "text/plain": [
       "(array([ 0.0988,  0.1081,  0.1102,  0.1229,  0.111 ,  0.1214,  0.1166,\n",
       "         0.106 ,  0.105 ]),\n",
       " array([ 0.5,  1.5,  2.5,  3.5,  4.5,  5.5,  6.5,  7.5,  8.5,  9.5]),\n",
       " <a list of 9 Patch objects>)"
      ]
     },
     "execution_count": 88,
     "metadata": {},
     "output_type": "execute_result"
    },
    {
     "data": {
      "image/png": "[encoded data removed]",
      "text/plain": [
       "<matplotlib.figure.Figure at 0x7fd1d95dcd68>"
      ]
     },
     "metadata": {},
     "output_type": "display_data"
    }
   ],
   "source": [
    "#now lets simulate lots of runs to detetming the probability for each path!\n",
    "num_samples = 10000\n",
    "p = .5\n",
    "start_pos = 5\n",
    "arr = np.array([])\n",
    "prob_arr = np.array([])\n",
    "for i in range(num_samples):\n",
    "    x, str = plinko_simulated(start_pos, str = \"1\", prob = p, total_rows = 50)\n",
    "    arr = np.append(arr, x)\n",
    "    prob_arr = np.append(prob_arr, eval(str))\n",
    "\n",
    "plt.figure(figsize=(8,4))\n",
    "plt.xticks([0,1,2,3,4,5,6,7,8,9])\n",
    "PMF = np.array([0]*9, dtype = float)\n",
    "for i in range(len(arr)):\n",
    "    PMF[arr[i].astype(int)-1] += prob_arr[i]\n",
    "print(\"Estimated probability sums from PMF array: {}\".format(PMF))\n",
    "plt.hist(arr, bins=[0.5,1.5,2.5,3.5,4.5,5.5,6.5,7.5, 8.5, 9.5], normed=True)"
   ]
  },
  {
   "cell_type": "markdown",
   "metadata": {},
   "source": [
    "**^This was run with rows = 50, just to see if we get a nice even distrubition at some point. **\n",
    "\n",
    "I found that at 50, it is definitely past the point of being centered around one point, namely (5) the starting location. After 100, we have a very uniform distribution with little variance bwteen the bins. However, we only need about 25 rows to start to see this happening. "
   ]
  },
  {
   "cell_type": "markdown",
   "metadata": {},
   "source": [
    "**WITH totalrows = 25**"
   ]
  },
  {
   "cell_type": "code",
   "execution_count": 93,
   "metadata": {},
   "outputs": [
    {
     "name": "stdout",
     "output_type": "stream",
     "text": [
      "Estimated probability sums from PMF array: [  2.33650208e-05   3.03089619e-05   3.98755074e-05   4.75645065e-05\n",
      "   4.72962856e-05   3.87430191e-05   2.90870667e-05   2.23517418e-05\n",
      "   1.94311142e-05]\n"
     ]
    },
    {
     "data": {
      "text/plain": [
       "(array([ 0.0342,  0.0784,  0.1017,  0.1338,  0.1596,  0.1587,  0.13  ,\n",
       "         0.0976,  0.106 ]),\n",
       " array([ 0.5,  1.5,  2.5,  3.5,  4.5,  5.5,  6.5,  7.5,  8.5,  9.5]),\n",
       " <a list of 9 Patch objects>)"
      ]
     },
     "execution_count": 93,
     "metadata": {},
     "output_type": "execute_result"
    },
    {
     "data": {
      "image/png": "[encoded data removed]",
      "text/plain": [
       "<matplotlib.figure.Figure at 0x7fd1d9179828>"
      ]
     },
     "metadata": {},
     "output_type": "display_data"
    }
   ],
   "source": [
    "#now lets simulate lots of runs to detetming the probability for each path!\n",
    "num_samples = 10000\n",
    "p = .5\n",
    "start_pos = 5\n",
    "arr = np.array([])\n",
    "prob_arr = np.array([])\n",
    "for i in range(num_samples):\n",
    "    x, str = plinko_simulated(start_pos, str = \"1\", prob = p, total_rows = 25)\n",
    "    arr = np.append(arr, x)\n",
    "    prob_arr = np.append(prob_arr, eval(str))\n",
    "\n",
    "plt.figure(figsize=(8,4))\n",
    "plt.xticks([0,1,2,3,4,5,6,7,8,9])\n",
    "PMF = np.array([0]*9, dtype = float)\n",
    "for i in range(len(arr)):\n",
    "    PMF[arr[i].astype(int)-1] += prob_arr[i]\n",
    "print(\"Estimated probability sums from PMF array: {}\".format(PMF))\n",
    "plt.hist(arr, bins=[0.5,1.5,2.5,3.5,4.5,5.5,6.5,7.5, 8.5, 9.5], normed=True)"
   ]
  },
  {
   "cell_type": "markdown",
   "metadata": {},
   "source": [
    "**WITH totalrows = 100(well 95), 100 gives me a overly generic memory error(Thanks python) LOL**"
   ]
  },
  {
   "cell_type": "code",
   "execution_count": 92,
   "metadata": {},
   "outputs": [
    {
     "name": "stdout",
     "output_type": "stream",
     "text": [
      "Estimated probability sums from PMF array: [  9.03921001e-25   8.58684562e-25   9.20076873e-25   8.74840433e-25\n",
      "   9.36232744e-25   9.16845698e-25   8.93419685e-25   8.76456020e-25\n",
      "   8.97458653e-25]\n"
     ]
    },
    {
     "data": {
      "text/plain": [
       "(array([ 0.1119,  0.1063,  0.1139,  0.1083,  0.1159,  0.1135,  0.1106,\n",
       "         0.1085,  0.1111]),\n",
       " array([ 0.5,  1.5,  2.5,  3.5,  4.5,  5.5,  6.5,  7.5,  8.5,  9.5]),\n",
       " <a list of 9 Patch objects>)"
      ]
     },
     "execution_count": 92,
     "metadata": {},
     "output_type": "execute_result"
    },
    {
     "data": {
      "image/png": "[encoded data removed]",
      "text/plain": [
       "<matplotlib.figure.Figure at 0x7fd1d9180a20>"
      ]
     },
     "metadata": {},
     "output_type": "display_data"
    }
   ],
   "source": [
    "#now lets simulate lots of runs to detetming the probability for each path!\n",
    "num_samples = 10000\n",
    "p = .5\n",
    "start_pos = 5\n",
    "arr = np.array([])\n",
    "prob_arr = np.array([])\n",
    "for i in range(num_samples):\n",
    "    x, str = plinko_simulated(start_pos, str = \"1\", prob = p, total_rows = 90)\n",
    "    arr = np.append(arr, x)\n",
    "    prob_arr = np.append(prob_arr, eval(str))\n",
    "\n",
    "plt.figure(figsize=(8,4))\n",
    "plt.xticks([0,1,2,3,4,5,6,7,8,9])\n",
    "PMF = np.array([0]*9, dtype = float)\n",
    "for i in range(len(arr)):\n",
    "    PMF[arr[i].astype(int)-1] += prob_arr[i]\n",
    "print(\"Estimated probability sums from PMF array: {}\".format(PMF))\n",
    "plt.hist(arr, bins=[0.5,1.5,2.5,3.5,4.5,5.5,6.5,7.5, 8.5, 9.5], normed=True)"
   ]
  },
  {
   "cell_type": "code",
   "execution_count": null,
   "metadata": {
    "collapsed": true
   },
   "outputs": [],
   "source": []
  }
 ],
 "metadata": {
  "kernelspec": {
   "display_name": "Python 3",
   "language": "python",
   "name": "python3"
  },
  "language_info": {
   "codemirror_mode": {
    "name": "ipython",
    "version": 3
   },
   "file_extension": ".py",
   "mimetype": "text/x-python",
   "name": "python",
   "nbconvert_exporter": "python",
   "pygments_lexer": "ipython3",
   "version": "3.5.4"
  }
 },
 "nbformat": 4,
 "nbformat_minor": 2
}
