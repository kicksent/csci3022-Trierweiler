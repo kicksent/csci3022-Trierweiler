{
 "cells": [
  {
   "cell_type": "markdown",
   "metadata": {},
   "source": [
    "# Homework 3: Random Variables and Their Distributions\n",
    "***\n",
    "\n",
    "**Name**: \n",
    "\n",
    "***\n",
    "\n",
    "This assignment is due on Moodle by **5pm on Friday March 2nd**. Your solutions to theoretical questions should be done in Markdown/MathJax directly below the associated question.  Your solutions to computational questions should include any specified Python code and results as well as written commentary on your conclusions.  Remember that you are encouraged to discuss the problems with your instructors and classmates, but **you must write all code and solutions on your own**.  For a refresher on the course **Collaboration Policy** click [here](https://github.com/dblarremore/csci3022/blob/master/resources/syllabus.md#collaboration-policy).  \n",
    "\n",
    "**NOTES**: \n",
    "\n",
    "- Do **NOT** load or use any Python packages that are not available in Anaconda 3.6. \n",
    "- Some problems with code may be autograded.  If we provide a function API **do not** change it.  If we do not provide a function API then you're free to structure your code however you like. \n",
    "- Because you can technically evaluate notebook cells is a non-linear order, it's a good idea to do Cell $\\rightarrow$ Run All as a check before submitting your solutions.  That way if we need to run your code you will know that it will work as expected. \n",
    "- Submit only this Jupyter notebook to Moodle.  Do not compress it using tar, rar, zip, etc. \n",
    "\n",
    "### Work only 4 of the 5 problems below! Your choice."
   ]
  },
  {
   "cell_type": "code",
   "execution_count": 1,
   "metadata": {
    "collapsed": true,
    "scrolled": true
   },
   "outputs": [],
   "source": [
    "import pandas as pd\n",
    "import numpy as np\n",
    "import matplotlib.pylab as plt\n",
    "from scipy.special import binom\n",
    "%matplotlib inline"
   ]
  },
  {
   "cell_type": "markdown",
   "metadata": {},
   "source": [
    "### [25 points] Problem 1\n",
    "***\n",
    "\n",
    "Let $X$ be the lifespan (in years) of a BF Otterich Rugged Trail T/A tire under normal driving conditions, and suppose $X$ is described by the following probability density function: \n",
    "\n",
    "$$\n",
    "f(x) = \\left\\{ \n",
    "\\begin{array}{ll}\n",
    "\\dfrac{15}{c x^3} & 1 \\leq x \\leq 15 \\\\\n",
    "0 & \\textrm{otherwise}\n",
    "\\end{array}\n",
    "\\right.\n",
    "$$\n",
    "\n",
    "**Part A**: Determine the value of $c$ such that $f(x)$ is a valid PDF. "
   ]
  },
  {
   "cell_type": "markdown",
   "metadata": {
    "collapsed": true
   },
   "source": [
    "$ \\int_{1}^{15} \\frac{15}{cx^{3}}dx = \\frac {15}{c}\\int_{1}^{15} x^{-3}dx = \\frac{15}{c} * [\\frac{-1}{2}x^{-2} ]\\Big|_1^{15}$\n",
    "\n",
    "$ = \\frac{15}{c} [\\frac{-1}{2 \\cdot 225} - \\frac{-1}{2}] = 1 $  **We need this to equal 1**\n",
    "\n",
    "$ = \\frac{15}{c} [\\frac{112}{225}] = 1 $\n",
    "\n",
    "$ c = 15 [\\frac{112}{225}]$\n",
    "\n",
    "$c = \\frac{112}{15}$  **YAY**\n",
    "\n",
    "Thus: $\\int_{1}^{15} \\frac{225}{112\\  x^{3}}dx = 1$"
   ]
  },
  {
   "cell_type": "markdown",
   "metadata": {},
   "source": [
    "**Part B**: Compute the cumulative distribution function $F(y)$ for $X$. "
   ]
  },
  {
   "cell_type": "markdown",
   "metadata": {},
   "source": [
    "$F(y) = \\int_1^y \\frac{225}{112\\  x^3}dx = \\frac{225}{112} \\int_1^y x^3 dx $\n",
    "\n",
    "$ = \\frac{225}{112} \\cdot [\\frac{-1}{2}x^{-2}]\\Big|_1^{y} = \\frac{225}{112} [\\frac{1}{2} - \\frac{1}{2y^2}] $\n",
    "\n",
    "$F(y) = \\frac{225}{224} - \\frac{225}{224y^2}$ **This is the CDF**"
   ]
  },
  {
   "cell_type": "markdown",
   "metadata": {},
   "source": [
    "**Part C**: Use the cdf you computed in **Part B** to find the probability that a single tire goes longer than 5 years without failing. "
   ]
  },
  {
   "cell_type": "markdown",
   "metadata": {
    "collapsed": true
   },
   "source": [
    "Probability that it lasts longer than 5 years $= F(15) - F(5)$\n",
    "\n",
    "$F(15) = \\frac{225}{224} - \\frac{225}{224 (15)^2}) = 1$\n",
    "\n",
    "$F(5) = \\frac{225}{224} - \\frac{225}{224\\ \\cdot\\ 25} = .964$\n",
    "\n",
    "Probability that it lasts longer than 5 years $= F(15) - F(5) = 1-.964 = 3.6\\% $ **chance that it lasts longer than 5 years**"
   ]
  },
  {
   "cell_type": "markdown",
   "metadata": {},
   "source": [
    "**Part D**: Use the cdf you computed in **Part B** to determine the number of years within which $62.5\\%$ of all tires will need to be replaced. In other words, determine the 62.5th percentile of the distribution of $X$. "
   ]
  },
  {
   "cell_type": "markdown",
   "metadata": {
    "collapsed": true
   },
   "source": [
    "$ .625 = \\frac{225}{224} - \\frac{225}{224y^2}$\n",
    "\n",
    "$= 1.62$ **years until 62.5% of tires needs replacing***"
   ]
  },
  {
   "cell_type": "markdown",
   "metadata": {},
   "source": [
    "**Part E**: What is the probability that all four BF Otterich Rugged Trail T/A tires on a vehicle last longer than 5 years without failing? "
   ]
  },
  {
   "cell_type": "markdown",
   "metadata": {
    "collapsed": true
   },
   "source": [
    "$(1-.964)^4 = .0000167 $ **chance that all four tires last 5 years...  OUCH!***"
   ]
  },
  {
   "cell_type": "markdown",
   "metadata": {},
   "source": [
    "### [25 points] Problem 2\n",
    "***\n",
    "\n",
    "You are a data-driven transportation engineer investigating the effect that a particular [vertical lift bridge](https://en.wikipedia.org/wiki/Vertical-lift_bridge) has on city traffic.  Every time a boat passes under the bridge, cars must stop while the bridge is raised to accommodate the height of the boat.  As both boat and car traffic increases, city planners are considering building a new taller bridge that will never impede the flow of traffic. As part of a larger simulation of traffic congestion, you need to decide how to model the arrival of boats at the bridge.  From your Intro to Data Science class you remember that the time _between_ independent arrivals are usually modeled by an Exponential distribution.  Finally, you have access to a report that says on average 10 boats cross under the bridge per day.\n",
    "\n",
    "Answer the following questions about this scenario. **Note** that for **Parts B-D** you should clearly express the computation you're doing with math, but feel free to do any fancy function evaluations with Python. \n",
    "\n",
    "**Part A**:  Assuming the between-boat times do in-fact follow $Exp(10)$, what distribution would you expect the **number** of boats that cross under the bridge on a given day to follow?  What are the parameter(s) of the distribution? "
   ]
  },
  {
   "cell_type": "markdown",
   "metadata": {},
   "source": [
    "***Poisson Distribution for number of boats: ***\n",
    "\n",
    "$P(k) = \\frac{\\lambda^k}{k!}e^-{\\lambda} $ \n",
    "\n",
    "***parameters of distribution:*** \n",
    "\n",
    "$ \\lambda = 10, x = \\text{random variable representing # of boats} $ \n",
    "\n",
    "**Exponential distribution(for time between boats):** \n",
    "\n",
    "$f(x) = \\lambda e^{-\\lambda x}$\n",
    "\n",
    "$E[x] = \\int_0^\\infty x  f(x)dx =  \\int_0^\\infty x  \\lambda e^{-\\lambda x}dx = 1/\\lambda $ ***expectation time between*** $1/10$ **1 boat every 10th of a day**\n",
    "\n",
    "\n"
   ]
  },
  {
   "cell_type": "markdown",
   "metadata": {},
   "source": [
    "**Part B**:  What is the probability that 13 boats cross under the bridge on a particular day?"
   ]
  },
  {
   "cell_type": "markdown",
   "metadata": {},
   "source": [
    "$P(x = 13) = \\frac{10^{13}}{13!}e^{-10} = .0729 = 7.29\\%$ **probability that 13 boats cross under the bridge**"
   ]
  },
  {
   "cell_type": "markdown",
   "metadata": {},
   "source": [
    "\n",
    "\n",
    "**Part C**:  What is the probability that 8 boats or fewer cross under the bridge on a particular day?"
   ]
  },
  {
   "cell_type": "markdown",
   "metadata": {},
   "source": [
    "**change to sum**\n",
    "\n",
    "$P(x <= 8) = \\sum_0^8 \\frac{10^{x}}{x!}e^{-10} = .3328 = 33.3\\%$ **probability that 8 or fewer boats cross under the bridge**"
   ]
  },
  {
   "cell_type": "markdown",
   "metadata": {},
   "source": [
    "**Part D**: What is the probability that between 2 and 4 hours pass between two boat crossings? "
   ]
  },
  {
   "cell_type": "markdown",
   "metadata": {},
   "source": [
    "***Exponential distribution(for time between boats):*** $f(x) = \\lambda e^{-\\lambda x}$\n",
    "\n",
    "$\\lambda = 10/24$ boats per hour $x = 2,4$ hours\n",
    "\n",
    "$\\int_2^4 f(x)dx$\n",
    "\n",
    "$\\int_2^4 \\lambda e^{-\\lambda x}$\n",
    "\n",
    "$=\\int_0 ^ \\infty \\frac{10}{24} e^{-\\frac{10}{24} x} = 1$ **good!**\n",
    "\n",
    "$=\\int_2 ^ 4 \\frac{10}{24} e^{-\\frac{10}{24} x} = .245 = 24.5\\%$ **probability that 2-4 hours between the two boats crossing**"
   ]
  },
  {
   "cell_type": "markdown",
   "metadata": {},
   "source": [
    "**Part F**: Write a function boat_count that takes as its sole argument the rate parameter $\\lambda$ with units boats per day. Your function should simulate boat arrivals at the bridge by sampling between-boat times from $Exp(\\lambda)$ via Numpy's [random.exponential](https://docs.scipy.org/doc/numpy-1.13.0/reference/generated/numpy.random.exponential.html) function and return the number of boats that pass under the bridge on a single simulated day. \n",
    "\n",
    "**Note**: Do not change the API for this function. In other words, please keep the name of the function, its input parameter, and its desired output the same. Of course, the inner workings of this function and the actual value that it returns are in your hands!"
   ]
  },
  {
   "cell_type": "code",
   "execution_count": 8,
   "metadata": {},
   "outputs": [
    {
     "data": {
      "text/plain": [
       "11"
      ]
     },
     "execution_count": 8,
     "metadata": {},
     "output_type": "execute_result"
    }
   ],
   "source": [
    "#change this into a discrete problem by adding up the time intervals! :P\n",
    "def boat_count(lam):\n",
    "    t=1\n",
    "    boats = 0\n",
    "    while(t>0):\n",
    "        t-= np.random.exponential(1/lam)\n",
    "        if(t>0): #fix, in case t ends up being negative, we dont want to add a boat!\n",
    "            boats +=1\n",
    "    return boats\n",
    "boat_count(10)"
   ]
  },
  {
   "cell_type": "markdown",
   "metadata": {},
   "source": [
    "**Part G**: Write a function boat_count_sim that takes as arguments the rate parameter $\\lambda$ with units boats per day and an integer number of days to simulate. Your function should use the function you wrote in **Part F** to simulate many independent days of boat crossings and estimate the probability that 8 boats or fewer cross under the bridge on a particular day. For $\\lambda = 10$, does your estimate agree with the by-hand computation you did in **Part C**?  \n",
    "\n",
    "**Note**: Do not change the API for this function. "
   ]
  },
  {
   "cell_type": "code",
   "execution_count": 9,
   "metadata": {},
   "outputs": [
    {
     "name": "stdout",
     "output_type": "stream",
     "text": [
      "10.0317 average number of boats per day sampled 10000 days:\n",
      "Answer: 33.050000000000004% probability that 8 or fewer boats cross\n"
     ]
    }
   ],
   "source": [
    "def boat_count_sim(lam, num_days=int(1e3)):\n",
    "    boat_count_arr = np.array([boat_count(lam) for i in range(num_days)])\n",
    "    days_lt_8 = np.array([boat_count_arr <= 8])\n",
    "    print(\"{} average number of boats per day sampled {} days:\".format(boat_count_arr.sum()/num_days, num_days))\n",
    "    return days_lt_8.sum()/num_days \n",
    "print(\"Answer: {}% probability that 8 or fewer boats cross\".format(boat_count_sim(10, num_days = 10000)*100))"
   ]
  },
  {
   "cell_type": "markdown",
   "metadata": {},
   "source": [
    "**Part H**: Write a function boat_time_sim that takes as arguments the rate parameter $\\lambda$ with units boats per day and an integer number of boat arrivals to simulate. Your function should sample boat arrivals via [np.random.exponential](https://docs.scipy.org/doc/numpy-1.13.0/reference/generated/numpy.random.exponential.html) and estimate the probability that boats arrive between 2 and 4 hours apart.  For $\\lambda = 10$, does your estimate agree with the by-hand computation you did in **Part D**?  \n",
    "\n",
    "**Note**: Do not change the API for this function.  "
   ]
  },
  {
   "cell_type": "code",
   "execution_count": 6,
   "metadata": {},
   "outputs": [
    {
     "name": "stdout",
     "output_type": "stream",
     "text": [
      "24.584% probability that time between boats is 2 to 4 hours\n"
     ]
    }
   ],
   "source": [
    "#here I am assuming that if say 2 boats arrived on a day, then they were 12 hours apart, this should work\n",
    "def boat_time_sim(lam, num_boats=int(1e3)):\n",
    "    boats_time_arr = np.array([24/np.random.exponential(lam) for i in range(num_boats)])\n",
    "    boats_2 = np.array([boats_time_arr >= 2])\n",
    "    #print(boats_2)\n",
    "    boats_4 = np.array([boats_time_arr <= 4])\n",
    "    boats_2_to_4 = np.array([boats_2 == boats_4])\n",
    "    return boats_2_to_4.sum()/num_boats\n",
    "\n",
    "#This one matches my answer above. \n",
    "print(\"{:.3f}% probability that time between boats is 2 to 4 hours\".format(boat_time_sim(10, 100000)*100))"
   ]
  },
  {
   "cell_type": "markdown",
   "metadata": {},
   "source": [
    "### [25 points] Problem 3 \n",
    "***\n",
    "\n",
    "Let $X =$ the leading digit of a randomly selected number from a large accounting\n",
    "ledger. For example, if we randomly draw the number \\$20,695, then $X = 2.$\n",
    "People who make up numbers to commit accounting fraud tend to give $X$ a\n",
    "(discrete) uniform distribution, i.e., $P(X = x) = \\frac{1}{9}$, for $x \\in \\{1, ..., 9\\}$. However,\n",
    "there is empirical evidence that suggests that _naturally occurring_ numbers (e.g.,\n",
    "numbers in a non-fraudulent accounting ledgers) have leading digits that do not\n",
    "follow a uniform distribution. Instead, they follow a distribution defined by the following probability mass function:\n",
    "\n",
    "$$\n",
    "f(x) = \\log_{10}\\left( \\frac{x+1}{x} \\right) \\quad \\textrm{for } x = 1, 2, \\ldots, 9\n",
    "$$"
   ]
  },
  {
   "cell_type": "markdown",
   "metadata": {},
   "source": [
    "**Part A**: Write a function pmf_natural that implements $f(x)$. Your function should take in an integer $x$ and return $f(x) = P(X = x)$.  Use your function to argue that $f(x)$ is a well-defined probability mass function. "
   ]
  },
  {
   "cell_type": "code",
   "execution_count": 5,
   "metadata": {},
   "outputs": [
    {
     "name": "stdout",
     "output_type": "stream",
     "text": [
      "The sum of all inputs x, adds up to 1.0 which argues the PMF is well defined and valid.\n"
     ]
    }
   ],
   "source": [
    "def pmf_natural(x):\n",
    "    #print(np.log10((x+1)/x))\n",
    "    return np.log10((x+1)/x)\n",
    "\n",
    "\n",
    "'''\n",
    "to argue that this is a good valid, well defined PMF, the sum of inputs x should add up to 1\n",
    "'''\n",
    "PMF =  np.array([pmf_natural(i) for i in range(1,10)])\n",
    "sumPMF = PMF.sum()\n",
    "print(\"The sum of all inputs x, adds up to {:.1f} which argues the PMF is well defined and valid.\".format(sumPMF))"
   ]
  },
  {
   "cell_type": "markdown",
   "metadata": {},
   "source": [
    "**Part B**: Use the function you wrote above to make stacked bar plots describing the pmf of the naturally occurring numbers as well as the discrete uniform distribution.  Make sure that the $x$- and $y$-limits on your plots are the same so that the two distributions are easy to compare. "
   ]
  },
  {
   "cell_type": "code",
   "execution_count": 6,
   "metadata": {},
   "outputs": [
    {
     "data": {
      "image/png": "[encoded data removed]",
      "text/plain": [
       "<matplotlib.figure.Figure at 0x23337639f28>"
      ]
     },
     "metadata": {},
     "output_type": "display_data"
    },
    {
     "data": {
      "image/png": "[encoded data removed]",
      "text/plain": [
       "<matplotlib.figure.Figure at 0x23339b3f828>"
      ]
     },
     "metadata": {},
     "output_type": "display_data"
    }
   ],
   "source": [
    "#fig, ax = plt.subplots(nrows = 1, ncols=1, figsize= (10,10))\n",
    "\n",
    "x_arr = [1,2,3,4,5,6,7,8,9]\n",
    "plt.bar(x_arr, PMF)\n",
    "plt.xlabel(\"value\")\n",
    "plt.ylabel(\"probability\")\n",
    "plt.xlim([.5, 9.5])\n",
    "plt.ylim([0,.32])\n",
    "plt.show()\n",
    "\n",
    "x_unnatural = [1/9]*9\n",
    "plt.bar(x_arr, x_unnatural)\n",
    "plt.xlabel(\"value\")\n",
    "plt.ylabel(\"probability\")\n",
    "plt.xlim([.5, 9.5])\n",
    "plt.ylim([0,.32])\n",
    "plt.show()\n"
   ]
  },
  {
   "cell_type": "markdown",
   "metadata": {},
   "source": [
    "**Part C**: Write a function cdf_natural that implements the cumulative distribution function $F(y)$ for $X$ and use it to compute the probability that the leading digit in a number is at most 4 and at most 5. "
   ]
  },
  {
   "cell_type": "code",
   "execution_count": 7,
   "metadata": {},
   "outputs": [
    {
     "name": "stdout",
     "output_type": "stream",
     "text": [
      "CDF(4) = 0.6989700043360189\n",
      "CDF(5) = 0.7781512503836436\n"
     ]
    }
   ],
   "source": [
    "def cdf_natural(y):\n",
    "    CDF = np.array([pmf_natural(i) for i in range(1,y+1)])\n",
    "    return CDF.sum()\n",
    "\n",
    "print(\"CDF(4) = {}\".format(cdf_natural(4)))\n",
    "print(\"CDF(5) = {}\".format(cdf_natural(5)))\n"
   ]
  },
  {
   "cell_type": "markdown",
   "metadata": {},
   "source": [
    "**Part D**: The data in tax_data.txt contains the taxable income for individuals in 1978. Use Pandas and the information from **Parts A-D** to determine whether or not the dataset is likely fraudulent.  In addition to code and any graphical summaries, make sure to clearly justify your conclusion in words. "
   ]
  },
  {
   "cell_type": "code",
   "execution_count": 8,
   "metadata": {
    "scrolled": false
   },
   "outputs": [
    {
     "data": {
      "image/png": "[encoded data removed]",
      "text/plain": [
       "<matplotlib.figure.Figure at 0x23339b44438>"
      ]
     },
     "metadata": {},
     "output_type": "display_data"
    },
    {
     "data": {
      "image/png": "[encoded data removed]",
      "text/plain": [
       "<matplotlib.figure.Figure at 0x2333b15df60>"
      ]
     },
     "metadata": {},
     "output_type": "display_data"
    },
    {
     "data": {
      "image/png": "[encoded data removed]",
      "text/plain": [
       "<matplotlib.figure.Figure at 0x2333b1cc080>"
      ]
     },
     "metadata": {},
     "output_type": "display_data"
    }
   ],
   "source": [
    "df = pd.read_csv('tax_data.txt', delim_whitespace=True).astype(\"str\")\n",
    "df.head()\n",
    "df.dtypes\n",
    "arr = []\n",
    "for line in df[\"Tax Incomes\"]:\n",
    "    line = str(line)\n",
    "    arr.append(int(line[0]))\n",
    "df[\"first\"] = arr\n",
    "df.head()\n",
    "\n",
    "arr_sums = [0]*9\n",
    "for i in range(1,10):\n",
    "    arr_sums[i-1] = df.loc[df['first'] == i, \"first\"].sum() / i / len(df)\n",
    "    #print(i)\n",
    "#print(arr_sums)\n",
    "    \n",
    "\n",
    "plt.bar(x_arr, arr_sums)\n",
    "plt.title(\"First Digit Frequency from Tax Income Data\")\n",
    "plt.xlabel(\"Leading Digit\")\n",
    "plt.ylabel(\"Frequency\")\n",
    "plt.show()\n",
    "\n",
    "\n",
    "plt.bar(x_arr, PMF)\n",
    "plt.title(\"Natural Numbers PMF\")\n",
    "plt.xlabel(\"value\")\n",
    "plt.ylabel(\"probability\")\n",
    "plt.xlim([.5, 9.5])\n",
    "plt.ylim([0,.32])\n",
    "plt.show()\n",
    "\n",
    "plt.bar(x_arr, arr_sums - PMF)\n",
    "plt.title(\"Difference between Tax data and Natural numbers PMF\")\n",
    "plt.xlabel(\"value\")\n",
    "plt.ylabel(\"probability\")\n",
    "plt.xlim([.5, 9.5])\n",
    "plt.ylim([0,.32])\n",
    "plt.show()"
   ]
  },
  {
   "cell_type": "markdown",
   "metadata": {},
   "source": [
    "** There is a chance that some values were inserted that started with 1 or 2. However, I think that this could just be from variation. I conclude that from this data I don't have enough evidence to say that the tax data is fraudulent since it does not show a uniform distribution as the difference, nor does the tax data follow a unirofm distribution. **"
   ]
  },
  {
   "cell_type": "markdown",
   "metadata": {},
   "source": [
    "** **"
   ]
  },
  {
   "cell_type": "markdown",
   "metadata": {},
   "source": [
    "### [25 points] Problem 4\n",
    "***\n",
    "\n",
    "You are the team manager for the CU intramural Quidditch team, the Boulder Beaters, and you've just made it to the national championship series against the Stanford Snitching Snitches. The typical Quidditch championship is a best of 11 series, so the first team to win 6 matches is declared the winner.  Furthermore, based on a rigorous statistical analysis of regular season play, the probability that the Boulder Beaters win any one match against the Snitching Snitches is given by $p = 0.55$.  \n",
    "\n",
    "**Part A**: What is the probability that you win the 11-game series on the 8th match played? \n"
   ]
  },
  {
   "cell_type": "code",
   "execution_count": null,
   "metadata": {
    "collapsed": true
   },
   "outputs": [],
   "source": []
  },
  {
   "cell_type": "markdown",
   "metadata": {},
   "source": [
    "**Part B**: What is the probability that you win the 11-game series in any valid number of matches? "
   ]
  },
  {
   "cell_type": "code",
   "execution_count": null,
   "metadata": {
    "collapsed": true
   },
   "outputs": [],
   "source": []
  },
  {
   "cell_type": "markdown",
   "metadata": {},
   "source": [
    "**Part C**: The winner of the champsionship will take home \\$10,000 to use for equipment and victory parties in the following season. Because the stakes are so high, you've decided to hire a famous Quidditch consultant, Bludger Bob, to help you prepare for each match. With Bob's help your probability of winning any given match increases to $p = 0.7$.  Bludger Bob charges a fee of \\$100 per game, but as a testament to his confidence in his abilities, only charges you the \\$100 for games that you win and only if you win the series.  So, if you play a 11-game series and win you will take home \\$10,000 less \\$600 for Bludger Bob's fees, for a total payout of \\$9,400.  What is the expected payout for an 11-game series?   "
   ]
  },
  {
   "cell_type": "code",
   "execution_count": null,
   "metadata": {
    "collapsed": true
   },
   "outputs": [],
   "source": []
  },
  {
   "cell_type": "markdown",
   "metadata": {},
   "source": [
    "**Part D**: This year the National Intramural Quidditch Association (NIQA) is implementing an experimental rule.  As the team with the best record in the regular season you will get to choose the length of the championship series.  Specifically, you can choose the series length to be anywhere from $N=3, 5, 7, \\ldots, 99$ games long.  Assuming that you plan to use Bludger Bob's services and considering the fact that you have a better than even chance of winning each game, explain the trade-offs between choosing a short series vs. a long series in terms of Expected Payout. \n"
   ]
  },
  {
   "cell_type": "code",
   "execution_count": null,
   "metadata": {
    "collapsed": true
   },
   "outputs": [],
   "source": []
  },
  {
   "cell_type": "markdown",
   "metadata": {},
   "source": [
    "**Part E**: Write a function optimal_series that takes in $p$, the probability that your team wins an individual game, then computes the Expected Payout for each series of length $N=3, 5, 7, \\ldots 99$ and returns the optimal series length.  In addition to returning the optimal series length, your function should also produce a plot of Expected Payout vs Series Length. You may write any additional helper functions that you like, but you should not change the API for the function optimal_series. "
   ]
  },
  {
   "cell_type": "code",
   "execution_count": 9,
   "metadata": {
    "collapsed": true
   },
   "outputs": [],
   "source": [
    "def optimal_series(p):\n",
    "    return 1"
   ]
  },
  {
   "cell_type": "markdown",
   "metadata": {},
   "source": [
    "### [25 points] Problem 5\n",
    "***\n",
    "\n",
    "The card game \"War\" is fun for small children. The basic rules are [here](https://www.bicyclecards.com/how-to-play/war/), but see the list below. Assume that the value of each card in the deck, in decreasing order, is A K Q J 10 9 8 7 6 5 4 3 2. For example, Q is of higher value than J. \n",
    "\n",
    "Create a simulation of the game War. Your simulation must:\n",
    "\n",
    "- initialize a single deck of 52 standard cards, shuffled.\n",
    "- deal half of those cards to each player.\n",
    "- simulate the game of War between two players until one player has all 52 cards, while recording the number of rounds that have passed.\n",
    "- for counting purposes, a round ends when the winner places cards on the bottom of their stack. \n",
    "- if a player runs out of cards mid-War, that player loses. \n",
    "- when cards are collected to be placed at the bottom of a deck, they are scraped from the table in a way that randomly shuffles them.  "
   ]
  },
  {
   "cell_type": "markdown",
   "metadata": {
    "collapsed": true
   },
   "source": [
    "**Part A**: For any fixed order of the cards, the game is completely non-random. This means that shuffling the deck randomly makes the duration of the game a random variable. Use your simulation to compute the expected value of the duration of a game of war. "
   ]
  },
  {
   "cell_type": "code",
   "execution_count": 15,
   "metadata": {},
   "outputs": [
    {
     "name": "stdout",
     "output_type": "stream",
     "text": [
      "Expected number of rounds: 475.548\n"
     ]
    }
   ],
   "source": [
    "p1 = {}\n",
    "p2 = {}\n",
    "win_collected = {}\n",
    "values = {\n",
    "\"KC\": 13,\"QC\": 12,\"JC\":11,\"10C\":10,\"9C\":9,\"8C\":8,\"7C\":7,\"6C\":6,\"5C\":5,\"4C\":4,\"3C\":3,\"2C\":2,\"AC\":14,\n",
    "\"KD\": 13,\"QD\": 12,\"JD\":11,\"10D\":10,\"9D\":9,\"8D\":8,\"7D\":7,\"6D\":6,\"5D\":5,\"4D\":4,\"3D\":3,\"2D\":2,\"AD\":14,\n",
    "\"KH\": 13,\"QH\": 12,\"JH\":11,\"10H\":10,\"9H\":9,\"8H\":8,\"7H\":7,\"6H\":6,\"5H\":5,\"4H\":4,\"3H\":3,\"2H\":2,\"AH\":14, \n",
    "\"KS\": 13,\"QS\": 12,\"JS\":11,\"10S\":10,\"9S\":9,\"8S\":8,\"7S\":7,\"6S\":6,\"5S\":5,\"4S\":4,\"3S\":3,\"2S\":2,\"AS\":14\n",
    "}\n",
    "\n",
    "#deck = {\"cards\": values, \"p1\": p1, \"p2\": p2, \"win\": win_collected}\n",
    "rounds = 0\n",
    "\n",
    "\n",
    "#initialize the game with 2 player decks each having 26 random cards\n",
    "def war_init(p1, p2, values):\n",
    "    while(len(values) > 0):\n",
    "        face = np.random.choice(list(values.keys()), p = [1/len(values)]*len(values))\n",
    "        val = values.pop(face)\n",
    "        insert(p1, face, val)\n",
    "        face = np.random.choice(list(values.keys()), p = [1/len(values)]*len(values))\n",
    "        val = values.pop(face)\n",
    "        insert(p2, face, val)\n",
    "    #print(len(p1), len(p2))\n",
    "    return p1, p2\n",
    "\n",
    "def refill(deck, win_pile):\n",
    "    while(len(win_pile.items())>0):\n",
    "        face = np.random.choice(list(win_pile.keys()), p = [1/len(win_pile)]*len(win_pile))\n",
    "        val = win_pile.pop(face)\n",
    "        insert(deck, face, val)\n",
    "    return 1\n",
    "\n",
    "def insert(deck, card_face, card_value):\n",
    "    deck[card_face] = card_value\n",
    "    return 0\n",
    "    \n",
    "def war(p1_face, p1_val, p2_face, p2_val, p1, p2, win, rounds):\n",
    "    #if they have at least 4 cards\n",
    "    insert(win, p1_face, p1_val)\n",
    "    insert(win, p2_face, p2_val)\n",
    "    if(len(p1)<2  or len(p2)<2):\n",
    "        #send the remaining cards to winner\n",
    "        if(len(p1)<len(p2)):\n",
    "            rounds += refill(p2, p1)\n",
    "            refill(p2, win) #dont double count rounds here\n",
    "        else:\n",
    "            rounds += refill(p1, p2)\n",
    "            refill(p1, win)\n",
    "            \n",
    "    else:\n",
    "        #burn 1 cards into win_pile\n",
    "        p1_face = np.random.choice(list(p1.keys()), p = [1/len(p1)]*len(p1)) #choose a card p1\n",
    "        p1_val = p1.pop(p1_face)\n",
    "        p2_face = np.random.choice(list(p2.keys()), p = [1/len(p2)]*len(p2)) #choose a card p2\n",
    "        p2_val = p2.pop(p2_face)\n",
    "        insert(win, p1_face, p1_val)\n",
    "        insert(win, p2_face, p2_val)\n",
    "    return rounds\n",
    "\n",
    "def play(p1,p2,win,values,rounds):\n",
    "    #don't edit the original dictionary values, make a copy first!\n",
    "    deck = values.copy()\n",
    "    #split evenly and randomly\n",
    "    war_init(p1,p2,deck) \n",
    "    while((len(p1) > 0) and (len(p2) > 0)):\n",
    "        #i know this isnt the top of the deck, but it will not affect my expected value...\n",
    "        p1_face = np.random.choice(list(p1.keys()), p = [1/len(p1)]*len(p1)) #choose a card p1\n",
    "        p1_val = p1.pop(p1_face)\n",
    "        p2_face = np.random.choice(list(p2.keys()), p = [1/len(p2)]*len(p2)) #choose a card p2\n",
    "        p2_val = p2.pop(p2_face)\n",
    "        #print(p1_card, p1[p1_face], p2_card, p2[p2_face])\n",
    "        if(p1_val > p2_val):\n",
    "            insert(win, p1_face, p1_val)\n",
    "            insert(win, p2_face, p2_val)\n",
    "            rounds += refill(p1, win)\n",
    "        elif(p1_val < p2_val):\n",
    "            insert(win, p1_face, p1_val)\n",
    "            insert(win, p2_face, p2_val)\n",
    "            rounds += refill(p2, win)\n",
    "        elif(p1_val == p2_val):\n",
    "            rounds = war(p1_face, p1_val, p2_face, p2_val, p1, p2, win, rounds)\n",
    "        else:\n",
    "            print(\"error\")\n",
    "    #if(len(p1)>len(p2)):        \n",
    "    #    print(\"p1 wins in {} rounds with {} cards in their deck: {}\".format(rounds, len(p1), sorted(p1)))\n",
    "    #else:\n",
    "    #    print(\"p2 wins in {} rounds with {} cards in their deck: {}\".format(rounds, len(p2), sorted(p2)))\n",
    "    return(rounds)\n",
    "        \n",
    "        \n",
    "play(p1,p2,win_collected,values, 0)\n",
    "\n",
    "def war_sim(p1, p2, win, values, num_games):\n",
    "    arr = np.array([play(p1,p2,win,values, 0) for i in range(num_games)])\n",
    "    return arr.sum()/num_games\n",
    "print(\"Expected number of rounds: {}\".format(war_sim(p1, p2, win_collected, values, 1000)))\n",
    "\n",
    "\n",
    "\n",
    "#475.6 @ 1000"
   ]
  },
  {
   "cell_type": "markdown",
   "metadata": {},
   "source": [
    "**Expected number of rounds: 472(1000 samples) rounds for the game of war to end. That is a long game average!**"
   ]
  },
  {
   "cell_type": "markdown",
   "metadata": {
    "collapsed": true
   },
   "source": [
    "**Part B**: What happens to the expected duration if the K, Q, and J cards are all now assumed to have _equal_ rank?"
   ]
  },
  {
   "cell_type": "code",
   "execution_count": 1,
   "metadata": {},
   "outputs": [
    {
     "ename": "NameError",
     "evalue": "name 'war_sim' is not defined",
     "output_type": "error",
     "traceback": [
      "\u001b[0;31m---------------------------------------------------------------------------\u001b[0m",
      "\u001b[0;31mNameError\u001b[0m                                 Traceback (most recent call last)",
      "\u001b[0;32m<ipython-input-1-2833e76ce61b>\u001b[0m in \u001b[0;36m<module>\u001b[0;34m()\u001b[0m\n\u001b[1;32m      6\u001b[0m }\n\u001b[1;32m      7\u001b[0m \u001b[0;34m\u001b[0m\u001b[0m\n\u001b[0;32m----> 8\u001b[0;31m \u001b[0mprint\u001b[0m\u001b[0;34m(\u001b[0m\u001b[0;34m\"Expected number of rounds with K,Q,J equal rank: {}\"\u001b[0m\u001b[0;34m.\u001b[0m\u001b[0mformat\u001b[0m\u001b[0;34m(\u001b[0m\u001b[0mwar_sim\u001b[0m\u001b[0;34m(\u001b[0m\u001b[0mp1\u001b[0m\u001b[0;34m,\u001b[0m \u001b[0mp2\u001b[0m\u001b[0;34m,\u001b[0m \u001b[0mwin_collected\u001b[0m\u001b[0;34m,\u001b[0m \u001b[0mvalues_KQJ\u001b[0m\u001b[0;34m,\u001b[0m \u001b[0;36m1000\u001b[0m\u001b[0;34m)\u001b[0m\u001b[0;34m)\u001b[0m\u001b[0;34m)\u001b[0m\u001b[0;34m\u001b[0m\u001b[0m\n\u001b[0m\u001b[1;32m      9\u001b[0m \u001b[0;31m#332 @ 1000 samples\u001b[0m\u001b[0;34m\u001b[0m\u001b[0;34m\u001b[0m\u001b[0m\n",
      "\u001b[0;31mNameError\u001b[0m: name 'war_sim' is not defined"
     ]
    }
   ],
   "source": [
    "values_KQJ = {\n",
    "\"KC\": 11,\"QC\": 11,\"JC\":11,\"10C\":10,\"9C\":9,\"8C\":8,\"7C\":7,\"6C\":6,\"5C\":5,\"4C\":4,\"3C\":3,\"2C\":2,\"AC\":14,\n",
    "\"KD\": 11,\"QD\": 11,\"JD\":11,\"10D\":10,\"9D\":9,\"8D\":8,\"7D\":7,\"6D\":6,\"5D\":5,\"4D\":4,\"3D\":3,\"2D\":2,\"AD\":14,\n",
    "\"KH\": 11,\"QH\": 11,\"JH\":11,\"10H\":10,\"9H\":9,\"8H\":8,\"7H\":7,\"6H\":6,\"5H\":5,\"4H\":4,\"3H\":3,\"2H\":2,\"AH\":14, \n",
    "\"KS\": 11,\"QS\": 11,\"JS\":11,\"10S\":10,\"9S\":9,\"8S\":8,\"7S\":7,\"6S\":6,\"5S\":5,\"4S\":4,\"3S\":3,\"2S\":2,\"AS\":14\n",
    "}\n",
    "\n",
    "print(\"Expected number of rounds with K,Q,J equal rank: {}\".format(war_sim(p1, p2, win_collected, values_KQJ, 1000)))\n",
    "#332 @ 1000 samples"
   ]
  },
  {
   "cell_type": "markdown",
   "metadata": {},
   "source": [
    "**Expected number of rounds: 335(1000 samples) rounds. When the queen, king, and jack all have the same value we see that the expected value becomes 154 rounds. This is probably because we have more war. When war occurs, we effectively decrease the size of the deck since one card represents 6 cards of gain/loss on the value of the last card played!**"
   ]
  },
  {
   "cell_type": "markdown",
   "metadata": {},
   "source": [
    "**Part C**: Suppose that before the game starts, Player 1 gives all of their 2s and 3s to Player 2, and Player 2 gives all their As and Ks to Player 1. Does this tend to make the game longer or shorter?"
   ]
  },
  {
   "cell_type": "code",
   "execution_count": 18,
   "metadata": {},
   "outputs": [
    {
     "name": "stdout",
     "output_type": "stream",
     "text": [
      "Expected number of rounds with player 1 and player 2 trading A,K for 2,3: 135.657\n"
     ]
    }
   ],
   "source": [
    "values_no_KA23 = {\n",
    "\"QC\": 12,\"JC\":11,\"10C\":10,\"9C\":9,\"8C\":8,\"7C\":7,\"6C\":6,\"5C\":5,\"4C\":4,\n",
    "\"QD\": 12,\"JD\":11,\"10D\":10,\"9D\":9,\"8D\":8,\"7D\":7,\"6D\":6,\"5D\":5,\"4D\":4,\n",
    "\"QH\": 12,\"JH\":11,\"10H\":10,\"9H\":9,\"8H\":8,\"7H\":7,\"6H\":6,\"5H\":5,\"4H\":4, \n",
    "\"QS\": 12,\"JS\":11,\"10S\":10,\"9S\":9,\"8S\":8,\"7S\":7,\"6S\":6,\"5S\":5,\"4S\":4\n",
    "}\n",
    "p1 = {\"KC\": 13,\"KD\": 13,\"KH\": 13,\"KS\": 13,\"AC\":14,\"AD\":14,\"AH\":14,\"AS\":14}\n",
    "p2 = {\"3C\":3,\"2C\":2,\"3D\":3,\"2D\":2,\"3H\":3,\"2H\":2,\"3S\":3,\"2S\":2}\n",
    "\n",
    "\n",
    "print(\"Expected number of rounds with player 1 and player 2 trading A,K for 2,3: {}\".format(war_sim(p1, p2, win_collected, values_no_KA23, 1000)))\n",
    "#138 @ 1000"
   ]
  },
  {
   "cell_type": "markdown",
   "metadata": {},
   "source": [
    "**Expected rounds: 138(1000 samples) rounds. When we give all oof the high cards to player 1, we allow them to capture more of the deck each time these high cards are played. The only way for player 2 to get these cards back is with an Ace or a war and some luck against bad odds. This causes the game to end much more quickly.**"
   ]
  },
  {
   "cell_type": "code",
   "execution_count": null,
   "metadata": {
    "collapsed": true
   },
   "outputs": [],
   "source": []
  }
 ],
 "metadata": {
  "kernelspec": {
   "display_name": "Python 3",
   "language": "python",
   "name": "python3"
  },
  "language_info": {
   "codemirror_mode": {
    "name": "ipython",
    "version": 3
   },
   "file_extension": ".py",
   "mimetype": "text/x-python",
   "name": "python",
   "nbconvert_exporter": "python",
   "pygments_lexer": "ipython3",
   "version": "3.5.4"
  }
 },
 "nbformat": 4,
 "nbformat_minor": 2
}
