{
 "cells": [
  {
   "cell_type": "code",
   "execution_count": 2,
   "metadata": {},
   "outputs": [
    {
     "name": "stdout",
     "output_type": "stream",
     "text": [
      "[[0 1 2 3]\n",
      " [1 1 2 3]\n",
      " [2 2 2 3]\n",
      " [3 3 3 2]\n",
      " [4 4 3 3]]\n",
      "[[ 0  1  2  3  4  5  6  7  8  9 10]\n",
      " [ 1  1  2  3  4  5  6  7  8  9 10]\n",
      " [ 2  2  2  3  4  5  6  7  8  9 10]\n",
      " [ 3  2  3  3  4  5  6  7  8  9 10]\n",
      " [ 4  3  2  3  4  5  5  6  7  8  9]\n",
      " [ 5  4  3  3  4  4  5  6  7  8  9]\n",
      " [ 6  5  4  4  4  5  5  6  7  8  9]\n",
      " [ 7  6  5  5  5  4  5  6  7  8  9]\n",
      " [ 8  7  6  6  6  5  5  6  7  8  9]\n",
      " [ 9  8  7  7  7  6  6  6  6  7  8]\n",
      " [10  9  8  8  8  7  7  7  7  6  7]\n",
      " [11 10  9  8  9  8  8  8  8  7  6]]\n"
     ]
    }
   ],
   "source": [
    "import numpy as np \n",
    "\n",
    "\n",
    "def alignStrings(x,y):\n",
    "    x = \" \" + x\n",
    "    y = \" \" + y\n",
    "    length1 = len(x)+1\n",
    "    length2 = len(y)+1\n",
    "    c_swap = 1\n",
    "    c_sub = 1\n",
    "    c_indel = 1\n",
    "\n",
    "    #preallocate cost matrix\n",
    "    Cost_arr = [ [1000]*(length1-1) for _ in range(length2-1) ]\n",
    "\n",
    "    #initialize cost matrix\n",
    "    Cost_arr[0][0] = 0\n",
    "    for i in range(length2-1):\n",
    "        Cost_arr[i][0] = i\n",
    "    for j in range(length1-1):\n",
    "        Cost_arr[0][j] = j\n",
    "\t\n",
    "\t#calculates total cost of next character based on cost of previously aligned characters\t\n",
    "    for i in range(1,length2-1):\n",
    "        for j in range(1,length1-1):\n",
    "            if((i < length1-1) and (j < length2-1)): #check index sizes\n",
    "                    \n",
    "                    if(x[j] == y[i]): #no op case - the letters are the same! - all cases caught\n",
    "                        #print(\"hit NO-OP with case:\" ,x[i], y[j], \"   i, j:\" ,i, j)\n",
    "                        Cost_arr[i][j] = min(Cost_arr[i][j], Cost_arr[i - 1][j - 1] , Cost_arr[i - 1][j] , Cost_arr[i][j  - 1] )\n",
    "                        \n",
    "                    if(i >= 1 and j >=1):\n",
    "                        \n",
    "                        if((x[j] == y[i-1]) and  (x[j-1] == y[i])):#check if swap is possible, then use it if it is!\n",
    "                            #print(\"hit SWAP with case:\" ,x[i], y[j], x[i-1], y[j-1])\n",
    "                            Cost_arr[i][j] = min(Cost_arr[i][j], Cost_arr[i - 2][j - 2] + c_swap , Cost_arr[i - 1][j - 1] + c_sub, Cost_arr[i - 1][j] + c_indel, Cost_arr[i][j  - 1] + c_indel)\n",
    "                        \n",
    "                    \n",
    "                    #catch cases where indel/swap but pass the initial if\n",
    "                    Cost_arr[i][j] = min(Cost_arr[i][j], Cost_arr[i - 1][j - 1] + c_sub, Cost_arr[i - 1][j] + c_indel, Cost_arr[i][j  - 1] + c_indel)\n",
    "            \n",
    "            else: #cases where the strings have different lengths\n",
    "                Cost_arr[i][j] = min(Cost_arr[i][j], Cost_arr[i - 1][j - 1] + c_sub, Cost_arr[i - 1][j] + c_indel, Cost_arr[i][j  - 1] + c_indel)\n",
    "                if(x[j] == y[i]): #no-op in case where the string is longer but it contains a common letter!! (this was a bit of a challenge to find...)\n",
    "                    Cost_arr[i][j] = min(Cost_arr[i][j], Cost_arr[i - 1][j - 1] , Cost_arr[i - 1][j] , Cost_arr[i][j  - 1] )\n",
    "                    \n",
    "                \n",
    " \n",
    "    print(np.matrix(Cost_arr))\n",
    "    return(Cost_arr)\n",
    "\n",
    "string1 = 'ape'\n",
    "string2 = 'step'\n",
    "costArr = alignStrings(string1,string2)\n",
    "costArr2 = alignStrings(\"polynomial\", \"exponential\")\n",
    "    "
   ]
  },
  {
   "cell_type": "code",
   "execution_count": null,
   "metadata": {
    "collapsed": true
   },
   "outputs": [],
   "source": []
  }
 ],
 "metadata": {
  "kernelspec": {
   "display_name": "Python 3",
   "language": "python",
   "name": "python3"
  },
  "language_info": {
   "codemirror_mode": {
    "name": "ipython",
    "version": 3
   },
   "file_extension": ".py",
   "mimetype": "text/x-python",
   "name": "python",
   "nbconvert_exporter": "python",
   "pygments_lexer": "ipython3",
   "version": "3.5.4"
  }
 },
 "nbformat": 4,
 "nbformat_minor": 2
}
