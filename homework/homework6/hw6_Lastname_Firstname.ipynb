{
 "cells": [
  {
   "cell_type": "markdown",
   "metadata": {},
   "source": [
    "# Homework 6: Hypothesis Testing, P-Hacking, and Simple Linear Regression \n",
    "***\n",
    "\n",
    "**Name**: \n",
    "\n",
    "***\n",
    "\n",
    "This assignment is due on Moodle by **5pm on Friday April 20th**. Your solutions to theoretical questions should be done in Markdown/MathJax directly below the associated question.  Your solutions to computational questions should include any specified Python code and results as well as written commentary on your conclusions.  Remember that you are encouraged to discuss the problems with your instructors and classmates, but **you must write all code and solutions on your own**.  For a refresher on the course **Collaboration Policy** click [here](https://github.com/dblarremore/csci3022/blob/master/resources/syllabus.md#collaboration-policy).\n",
    "\n",
    "**NOTES**: \n",
    "\n",
    "- Do **NOT** load or use any Python packages that are not available in Anaconda 3.6. \n",
    "- Some problems with code may be autograded.  If we provide a function API **do not** change it.  If we do not provide a function API then you're free to structure your code however you like. \n",
    "- Because you can technically evaluate notebook cells is a non-linear order, it's a good idea to do Cell $\\rightarrow$ Run All as a check before submitting your solutions.  That way if we need to run your code you will know that it will work as expected. \n",
    "- Submit only this Jupyter notebook to Moodle.  Do not compress it using tar, rar, zip, etc. "
   ]
  },
  {
   "cell_type": "code",
   "execution_count": 2,
   "metadata": {
    "collapsed": true,
    "scrolled": true
   },
   "outputs": [],
   "source": [
    "import numpy as np\n",
    "import matplotlib.pylab as plt\n",
    "import pandas as pd\n",
    "from scipy import stats \n",
    "%matplotlib inline"
   ]
  },
  {
   "cell_type": "markdown",
   "metadata": {},
   "source": [
    "### [15 points] Problem 1 - Hypothesis Testing: Find-the-Knowledge-Bug \n",
    "***\n",
    "\n",
    "As part of your job as a seasoned data science consultant, companies often bring you in to supervise their less-experienced data science teams before new product roll-outs.  One one such occasion, you are hired by a medium-sized internet-sales company that is preparing to release a new line of smart-home products.  Prior to their product release the company wants to do a targeted ad campaign to drive traffic to their site on launch day. \n",
    "\n",
    "You are asked to pair-up and do some inference work with a new employee named Stevey McKnowsNoStats. At various points in your day you catch Stevey making the following mistakes.  In each case, clearly explain to Stevey why his testing setup or conclusion is incorrect. "
   ]
  },
  {
   "cell_type": "markdown",
   "metadata": {},
   "source": [
    "**Part A**: Stevey has pulled up some data on the characteristics of customers that visited the company's website over the previous month.  He wants to perform an analysis on the mean age of customers that visit the site.  Let $X$ be the random variable describing the age of a site visitor and suppose that the population mean for $X$ is $\\mu$. In particular, Stevey wants to see if the data suggests that the mean age of their customers is under 30 years old.   He decides to perform the test with a null hypothesis of $H_0: \\bar{x} = 30$. "
   ]
  },
  {
   "cell_type": "markdown",
   "metadata": {
    "collapsed": true
   },
   "source": [
    "**$\\bar{x}$ and $\\mu$ are not the same value. $\\bar{x}$ is the sample mean we generate from the samples. However, what we want to use for our hypothesis is $\\mu$ since it represents the population(true) mean.**"
   ]
  },
  {
   "cell_type": "markdown",
   "metadata": {},
   "source": [
    "**Part B**: After the wonderful explanation you gave him after the previous debacle, Stevey has seen the error in his ways and decides instead to do his hypothesis test with a null hypothesis of $H_0: \\mu < 30$.  "
   ]
  },
  {
   "cell_type": "markdown",
   "metadata": {
    "collapsed": true
   },
   "source": [
    "**The null hypothesis needs to be either  $H_0: \\mu = 30$  since that is what we will use to test if the hypothesis is true or not. Our competing hypothesis should be what Stevey stated:  $H_1: \\mu < 30$. **"
   ]
  },
  {
   "cell_type": "markdown",
   "metadata": {},
   "source": [
    "**Part C**: Finally on track with reasonable hypotheses of $H_0: \\mu = 30$ and $H_1: \\mu < 30$, Stevey computes a normalized test-statistic of $z = -1.35$ for the mean age and concludes that since $z = -1.35 < 0.05$ there is sufficient statistical evidence at the $\\alpha = 0.05$ significance level that the mean age of their customers is less than 30.  "
   ]
  },
  {
   "cell_type": "markdown",
   "metadata": {
    "collapsed": true
   },
   "source": [
    "**Stevie needs to compute a p value using his z statistic. The Z value tells us how many standard deviations away from the mean we are, and so we need to calculate a p value in order to determine if we can reject the null hypothesis or not. **"
   ]
  },
  {
   "cell_type": "code",
   "execution_count": 24,
   "metadata": {},
   "outputs": [
    {
     "name": "stdout",
     "output_type": "stream",
     "text": [
      "Z value for .05 = -1.6448536269514729\n",
      "Z value for .05 = 1.6448536269514722\n"
     ]
    }
   ],
   "source": [
    "print(\"Z value for .05 = {}\".format(stats.norm.ppf(.05)))\n",
    "print(\"Z value for .05 = {}\".format(stats.norm.ppf(.95)))\n",
    "#stats.norm.ppf(.95)"
   ]
  },
  {
   "cell_type": "markdown",
   "metadata": {},
   "source": [
    "**Part D**: This time, with the hypotheses again $H_0: \\mu = 30$ and $H_1: \\mu < 30$, Stevey computes a p-value of $0.03$, and thus concludes that there is only a 3% probability that the null hypothesis is true. "
   ]
  },
  {
   "cell_type": "markdown",
   "metadata": {
    "collapsed": true
   },
   "source": [
    "** The p value is not the probability that the null is true. The p value tells us that the probability of getting sample data as extreme or more extreme than our sample given that the null is true. In our case, this means that we only have a 3% chance of getting the samples values that Stevie used if the null were true. We can indeed reject the null hypothesis but we cannot state that there is a 3% chance that the null is true. **"
   ]
  },
  {
   "cell_type": "markdown",
   "metadata": {},
   "source": [
    "### [10 points] Problem 2 - Scientists vs. P-Values \n",
    "***\n",
    "\n",
    "Read the following article from **FiveThirtyEight**: [Statisticians Found One Thing They Can Agree On: It's Time to Stop Misusing P-Values](http://fivethirtyeight.com/features/statisticians-found-one-thing-they-can-agree-on-its-time-to-stop-misusing-p-values/). In what ways are scientists misusing p-values?  What suggestions are being made to use them properly? "
   ]
  },
  {
   "cell_type": "markdown",
   "metadata": {},
   "source": [
    "#### Misuse:\n",
    "##### -p values tell the probability of your hypothesis given your data\n",
    "##### -that p-values can tell you the probability that a result occurred by chance\n",
    "##### -that a p-value can tell you if your hypothesis is correct\n",
    "##### -a p-value tell you the size of an effect, the strength of the evidence or the importance of a result\n",
    "\n",
    "#### Suggestions:\n",
    "##### -there should be a move to rely more on other measures, such as confidence intervals or Bayesian analyses\n",
    "##### -others suggested that we simply need a better understanding and greater acceptance of variation to solve this problem"
   ]
  },
  {
   "cell_type": "markdown",
   "metadata": {},
   "source": [
    "### [20 points] Problem 3 - Evaluating Pizza Delivery Performance \n",
    "***\n",
    "\n",
    "The manager of a pizza chain with multiple locations likes to keep meticulous data on his pizza deliveries.  The data from more than 1200 deliveries in May 2014 is stored in pizza.csv. "
   ]
  },
  {
   "cell_type": "code",
   "execution_count": 28,
   "metadata": {
    "collapsed": true
   },
   "outputs": [],
   "source": [
    "np.random.seed(1235)\n",
    "dfP = pd.read_csv(\"data/pizza.csv\")"
   ]
  },
  {
   "cell_type": "code",
   "execution_count": 33,
   "metadata": {
    "scrolled": false
   },
   "outputs": [
    {
     "data": {
      "text/html": [
       "<div>\n",
       "<style scoped>\n",
       "    .dataframe tbody tr th:only-of-type {\n",
       "        vertical-align: middle;\n",
       "    }\n",
       "\n",
       "    .dataframe tbody tr th {\n",
       "        vertical-align: top;\n",
       "    }\n",
       "\n",
       "    .dataframe thead th {\n",
       "        text-align: right;\n",
       "    }\n",
       "</style>\n",
       "<table border=\"1\" class=\"dataframe\">\n",
       "  <thead>\n",
       "    <tr style=\"text-align: right;\">\n",
       "      <th></th>\n",
       "      <th>day</th>\n",
       "      <th>date</th>\n",
       "      <th>time</th>\n",
       "      <th>operator</th>\n",
       "      <th>branch</th>\n",
       "      <th>driver</th>\n",
       "      <th>temperature</th>\n",
       "      <th>bill</th>\n",
       "      <th>pizzas</th>\n",
       "    </tr>\n",
       "  </thead>\n",
       "  <tbody>\n",
       "    <tr>\n",
       "      <th>0</th>\n",
       "      <td>Thursday</td>\n",
       "      <td>01-May-14</td>\n",
       "      <td>33.708636</td>\n",
       "      <td>Laura</td>\n",
       "      <td>East</td>\n",
       "      <td>Bruno</td>\n",
       "      <td>71.433084</td>\n",
       "      <td>58.4</td>\n",
       "      <td>4</td>\n",
       "    </tr>\n",
       "    <tr>\n",
       "      <th>1</th>\n",
       "      <td>Thursday</td>\n",
       "      <td>01-May-14</td>\n",
       "      <td>29.382070</td>\n",
       "      <td>Melissa</td>\n",
       "      <td>East</td>\n",
       "      <td>Salvatore</td>\n",
       "      <td>64.952920</td>\n",
       "      <td>26.4</td>\n",
       "      <td>2</td>\n",
       "    </tr>\n",
       "    <tr>\n",
       "      <th>2</th>\n",
       "      <td>Thursday</td>\n",
       "      <td>01-May-14</td>\n",
       "      <td>33.580664</td>\n",
       "      <td>Melissa</td>\n",
       "      <td>West</td>\n",
       "      <td>Salvatore</td>\n",
       "      <td>49.113452</td>\n",
       "      <td>58.1</td>\n",
       "      <td>3</td>\n",
       "    </tr>\n",
       "    <tr>\n",
       "      <th>3</th>\n",
       "      <td>Thursday</td>\n",
       "      <td>01-May-14</td>\n",
       "      <td>32.505369</td>\n",
       "      <td>Melissa</td>\n",
       "      <td>East</td>\n",
       "      <td>Salvatore</td>\n",
       "      <td>64.872559</td>\n",
       "      <td>35.2</td>\n",
       "      <td>3</td>\n",
       "    </tr>\n",
       "    <tr>\n",
       "      <th>4</th>\n",
       "      <td>Thursday</td>\n",
       "      <td>01-May-14</td>\n",
       "      <td>25.493613</td>\n",
       "      <td>Melissa</td>\n",
       "      <td>West</td>\n",
       "      <td>Salvatore</td>\n",
       "      <td>59.630052</td>\n",
       "      <td>38.4</td>\n",
       "      <td>2</td>\n",
       "    </tr>\n",
       "  </tbody>\n",
       "</table>\n",
       "</div>"
      ],
      "text/plain": [
       "        day       date       time operator branch     driver  temperature  \\\n",
       "0  Thursday  01-May-14  33.708636    Laura   East      Bruno    71.433084   \n",
       "1  Thursday  01-May-14  29.382070  Melissa   East  Salvatore    64.952920   \n",
       "2  Thursday  01-May-14  33.580664  Melissa   West  Salvatore    49.113452   \n",
       "3  Thursday  01-May-14  32.505369  Melissa   East  Salvatore    64.872559   \n",
       "4  Thursday  01-May-14  25.493613  Melissa   West  Salvatore    59.630052   \n",
       "\n",
       "   bill  pizzas  \n",
       "0  58.4       4  \n",
       "1  26.4       2  \n",
       "2  58.1       3  \n",
       "3  35.2       3  \n",
       "4  38.4       2  "
      ]
     },
     "execution_count": 33,
     "metadata": {},
     "output_type": "execute_result"
    }
   ],
   "source": [
    "dfP.head()"
   ]
  },
  {
   "cell_type": "markdown",
   "metadata": {},
   "source": [
    "**Part A**: The manager's goal is to have an average delivery time across all branches of less than 30 minutes.  Perform an appropriate hypothesis test at the $\\alpha=0.05$ significance level to evaluate whether this goal has been achieved.  Be sure to clearly state your null and alternate hypothesis, describe your testing procedure, and show all calculations in Python. "
   ]
  },
  {
   "cell_type": "markdown",
   "metadata": {
    "collapsed": true
   },
   "source": [
    "#use all data points(1000+) and do a z test, normal distribution is fine here\n",
    "\n",
    "$H_0: 30$ minutes\n",
    "\n",
    "$H_1: < 30$ minutes\n",
    "\n"
   ]
  },
  {
   "cell_type": "code",
   "execution_count": 167,
   "metadata": {},
   "outputs": [
    {
     "name": "stdout",
     "output_type": "stream",
     "text": [
      "-3.17120774749\n",
      "Our test Statistic(z): -3.171207747489349\n",
      "our p value: 0.0007590326718121277 is less than alpha(.05), so we can reject the null hypothesis\n"
     ]
    }
   ],
   "source": [
    "mu = 30 #null hyp\n",
    "xbar = dfP['time'].mean()\n",
    "n = dfP['time'].count()\n",
    "sigma = dfP['time'].std()\n",
    "z = (xbar - mu)/(sigma/np.sqrt(n))\n",
    "print(z)\n",
    "print(\"Our test Statistic(z): {}\".format(z))\n",
    "print(\"our p value: {} is less than alpha(.05), so we can reject the null hypothesis\".format(stats.norm.cdf(z)))\n"
   ]
  },
  {
   "cell_type": "markdown",
   "metadata": {},
   "source": [
    "**Part B**: The manager also has the goal of having an average delivery temperature across all branches of greater than 65F.  Perform an appropriate hypothesis test at the $\\alpha=0.05$ significance level to evaluate whether this goal has been achieved.  Be sure to clearly state your null and alternate hypothesis, describe your testing procedure, and show all calculations in Python. "
   ]
  },
  {
   "cell_type": "markdown",
   "metadata": {},
   "source": []
  },
  {
   "cell_type": "code",
   "execution_count": 166,
   "metadata": {},
   "outputs": [
    {
     "name": "stdout",
     "output_type": "stream",
     "text": [
      "1.3820886485\n",
      "Our test Statistic(z): 1.3820886485016115\n",
      "our p value: 0.9165277582565314 is not greater than alpha(.95), so we cannot reject the null hypothesis\n"
     ]
    }
   ],
   "source": [
    "mu = 65 #null hyp\n",
    "xbar = dfP['temperature'].mean()\n",
    "n = dfP['temperature'].count()\n",
    "sigma = dfP['temperature'].std()\n",
    "z = (xbar - mu)/(sigma/np.sqrt(n))\n",
    "print(z)\n",
    "print(\"Our test Statistic(z): {}\".format(z))\n",
    "print(\"our p value: {} is not greater than alpha(.95), so we cannot reject the null hypothesis\".format(stats.norm.cdf(z)))"
   ]
  },
  {
   "cell_type": "markdown",
   "metadata": {},
   "source": [
    "**Part C**: The manager has enough money to give one of his delivery drivers a raise based on good performance. He knows from the data that his two best drivers are Mario and Luigi, but he's not sure if there is evidence that either one is better than the other.  Using delivery time and temperature as the criteria, perform any necessary hypothesis tests at the $\\alpha = 0.05$ significance level, to determine if one of the drivers deserves a raise. Be sure to clearly describe your hypotheses and methodology, and show any relevant computations in Python. "
   ]
  },
  {
   "cell_type": "markdown",
   "metadata": {},
   "source": [
    "$$z = \\frac{\\bar{x}_1-\\bar{x}_2}{\\sqrt{ \\frac{\\sigma_1^2}{n_1} + \\frac{\\sigma_2^2}{n_2}}}$$"
   ]
  },
  {
   "cell_type": "code",
   "execution_count": 199,
   "metadata": {},
   "outputs": [
    {
     "name": "stdout",
     "output_type": "stream",
     "text": [
      "z range for 95% is -1.6448536269514729 to 1.6448536269514722\n",
      "there is not statistical evidence for giving either of them a raise in either case since our test statistic z for temp: -0.9565371563188988 and time: 0.004366184867476149 are within this interval\n"
     ]
    }
   ],
   "source": [
    "dfMario = dfP.loc[dfP['driver'] == 'Mario']\n",
    "dfLuigi = dfP.loc[dfP['driver'] == 'Luigi']\n",
    "\n",
    "mario = dfMario['temperature'].mean()\n",
    "mariostd = dfMario['temperature'].std()\n",
    "mariocount = dfMario['temperature'].count()\n",
    "luigi = dfLuigi['temperature'].mean()\n",
    "luigistd = dfLuigi['temperature'].std()\n",
    "luigicount = dfLuigi['temperature'].count()\n",
    "\n",
    "\n",
    "z_temp = (mario - luigi)/(np.sqrt(mariostd**2/mariocount + luigistd**2/luigicount))  \n",
    "#print(z_temp)\n",
    "\n",
    "\n",
    "\n",
    "\n",
    "mario = dfMario['time'].mean()\n",
    "mariostd = dfMario['time'].std()\n",
    "mariocount = dfMario['time'].count()\n",
    "luigi = dfLuigi['time'].mean()\n",
    "luigistd = dfLuigi['time'].std()\n",
    "luigicount = dfLuigi['time'].count()\n",
    "\n",
    "\n",
    "z_time = (mario - luigi)/(np.sqrt(mariostd**2/mariocount + luigistd**2/luigicount))  \n",
    "#print(z_time)\n",
    "\n",
    "\n",
    "print(\"z range for 95% is {} to {}\".format(stats.norm.ppf(.05), stats.norm.ppf(.95)))\n",
    "\n",
    "print(\"there is not statistical evidence for giving either of them a raise in either case since our test statistic z for temp: {} and time: {} are within this interval\".format(z_temp, z_time))\n",
    "\n",
    "\n",
    "\n",
    "\n"
   ]
  },
  {
   "cell_type": "markdown",
   "metadata": {},
   "source": [
    "\n",
    "**Part D**: On the other hand, the manager suspects that Salvatore has been underperforming as a driver.  The manager has a policy that if a pizza takes 40 minutes or longer to be delivered, he has to fork over a free bottle of wine.  This policy is only financially viable for the pizza chain if they have give out free wine on less than 5% of all pizza deliveries.  Perform a hypothesis test at the $\\alpha = 0.05$ significance level to determine if there is significant evidence that the proportion of Salvatore's deliveries that take longer than 40 minutes is greater than 5%.  "
   ]
  },
  {
   "cell_type": "markdown",
   "metadata": {},
   "source": [
    "### Office Hours notes: \n",
    "\n",
    "Salvatores proportions of late delivs = $\\hat{p} $\n",
    "Null hyp H0 p = 0.05\n",
    "Comp hyp H1 P > .05\n",
    "One tailed, proportions\n",
    "\n",
    "$z$ (<- test stat) = $\\frac{\\hat{p} - p}{var(estimator)}$ (assuming that $H_0$ is true)\n",
    "\n",
    "**recall:**\n",
    "$\\hat{p} = x/n$ where x is the number of successes(late pizzas) and n is the # of flips(total number of pizzas)\n",
    "\n",
    "want: variance of phat\n",
    "\n",
    "var(\\hat{p}) = var(x/n) = 1/n^2 * var(x)\n",
    "\n",
    "X~bin(n,p) => var(x) = np(1-p)\n",
    "\n",
    "so then... var($\\hat{p}) = \\frac{p(1-p)}/{n}$\n",
    "\n",
    "### all of this is in my phone pics \n",
    "\n",
    "### done\n"
   ]
  },
  {
   "cell_type": "code",
   "execution_count": 140,
   "metadata": {},
   "outputs": [
    {
     "name": "stdout",
     "output_type": "stream",
     "text": [
      "test statistic z: 0.445293626395764\n",
      "critical point for rejection:  1.64485362695\n",
      "0.445293626395764 < 1.6448536269514722 cannot reject\n"
     ]
    }
   ],
   "source": [
    "dfSalvatore = dfP.loc[dfP['driver'] == 'Salvatore']\n",
    "late = dfSalvatore.loc[dfSalvatore['time'] > 40].count()['time']\n",
    "total = dfSalvatore.count()['time']\n",
    "alpha = .05\n",
    "z = (late/total - alpha)/np.sqrt((alpha*(1-alpha))/ total)\n",
    "print(\"test statistic z: {}\".format(z))\n",
    "print(\"critical point for rejection: \", stats.norm.ppf(1-.05))\n",
    "print('{} < {} cannot reject'.format(z, stats.norm.ppf(1-.05)))\n"
   ]
  },
  {
   "cell_type": "markdown",
   "metadata": {},
   "source": [
    "#### THis means fortunately Salvatore gets to keep his job :)"
   ]
  },
  {
   "cell_type": "markdown",
   "metadata": {},
   "source": [
    "### [15 points] Problem 4 - Naps vs Coffee for Memory? \n",
    "***\n",
    "\n",
    "The consumption of coffee to benefit alertness is a common activity practiced by 90% of adults in North America. Often coffee is used to replace the need for sleep. One recent study compares students’ ability to recall memorized information after either the consumption of coffee or a brief nap. A random sample of 24 adults\n",
    "were randomly divided into two groups and verbally given a list\n",
    "of 25 words to memorize. During a break, one of the groups took a nap for an hour and a half,\n",
    "another group stayed awake and were given a coffee an hour prior to testing. Researchers measured the number of words participants were\n",
    "able to recall following the break. The summary statistics for the two groups are shown below.\n",
    "\n",
    "$$\n",
    "\\begin{array}{c|c|c|c}\n",
    "\\textrm{Group} & \\textrm{Sample Size} & \\textrm{Mean} & \\textrm{Standard Deviation} \\\\\n",
    "\\hline \n",
    "\\textrm{Nap} & 12 & 15.5 & 3.2 \\\\ \n",
    "\\textrm{Coffee} & 12 & 12.25 & 3.1 \\\\ \n",
    "\\end{array}\n",
    "$$\n",
    "\n",
    "In previous experiments the mean recall measurement was found to be normally distributed. \n",
    "\n",
    "**Part A**: Compute a 95% t-confidence interval for the mean recall measurement for participants that took a nap before the test. Do all computations in Python. "
   ]
  },
  {
   "cell_type": "markdown",
   "metadata": {},
   "source": [
    "t based CI for the mean:\n",
    "\n",
    "$\\bar{X} \\pm t * (s/\\sqrt{n})$ where s is the sample standard deviation"
   ]
  },
  {
   "cell_type": "code",
   "execution_count": 151,
   "metadata": {},
   "outputs": [
    {
     "name": "stdout",
     "output_type": "stream",
     "text": [
      "95% CI for the mean of the nap group [13.46681700054998, 17.53318299945002]\n"
     ]
    }
   ],
   "source": [
    "n = 12\n",
    "std = 3.2\n",
    "CI = .95\n",
    "alpha = 1 - CI\n",
    "t = stats.t.ppf(1-alpha/2, n-1) #n-1 degrees of freedom since we lose one dof in mean calculation\n",
    "xbar = 15.5\n",
    "#calculate the CI the same way as a z based CI:\n",
    "NapCI = [xbar-(t)*std/np.sqrt(n), xbar+(t)*std/np.sqrt(n)]\n",
    "print(\"95% CI for the mean of the nap group {}\".format(NapCI))\n"
   ]
  },
  {
   "cell_type": "markdown",
   "metadata": {},
   "source": [
    "**Part B**: Is there sufficient evidence, at the $\\alpha = 0.05$ significance level, to conclude that taking a nap promotes better memory recall that drinking coffee?  Be sure to clearly explain the test that you're doing and state all hypotheses. Do all computations in Python. "
   ]
  },
  {
   "cell_type": "markdown",
   "metadata": {},
   "source": [
    "$H_0:$ Nap Memory = 12.25 ie. Nap memory = Coffee memory -> no difference between the two groups\n",
    "\n",
    "$H_1:$ Nap memory > 12.25  ie Nap memory > Coffee memory() -> there is sifficient evidence at the .05 significance level that the nap group performed better"
   ]
  },
  {
   "cell_type": "code",
   "execution_count": 31,
   "metadata": {},
   "outputs": [
    {
     "name": "stdout",
     "output_type": "stream",
     "text": [
      "test statistic t: 3.631719435225065\n",
      "1.7958848187036691\n"
     ]
    }
   ],
   "source": [
    "c_mu = 12.25\n",
    "n_x = 15.5\n",
    "n=12\n",
    "std = 3.1\n",
    "\n",
    "t = (n_x-c_mu)/(std/np.sqrt(n))\n",
    "print(\"test statistic t: {}\".format(t))\n",
    "print(\"critical value: \"stats.t.ppf(.95, n-1))"
   ]
  },
  {
   "cell_type": "markdown",
   "metadata": {},
   "source": [
    "### Our "
   ]
  },
  {
   "cell_type": "markdown",
   "metadata": {},
   "source": [
    "**Part C**: Compute a 95% confidence interval for the standard deviation of memory recall for coffee drinkers. Do all computations in Python.  "
   ]
  },
  {
   "cell_type": "markdown",
   "metadata": {
    "collapsed": true
   },
   "source": [
    "#not the same as solving for sigma in the CI, there is a new equation for this that is in the slides\n",
    "#lecture 20 has the equation\n",
    "\n",
    "CI for STD follows a chi-sq distribution\n",
    "\n",
    "$$\\sqrt{\\frac{(n-1)*s^2}{X_{\\alpha/2}^2, n-1}} < \\sigma < \\sqrt{\\frac{(n-1)*s^2}{X_{1-\\alpha/2}^2, n-1}}$$"
   ]
  },
  {
   "cell_type": "code",
   "execution_count": 209,
   "metadata": {},
   "outputs": [
    {
     "name": "stdout",
     "output_type": "stream",
     "text": [
      "95% CI for std of memory recall for coffee drinkers: [2.1960249676730244, 5.2634218549444185]\n"
     ]
    }
   ],
   "source": [
    "n=12\n",
    "std = 3.1\n",
    "alpha = .05\n",
    "xa2 = stats.chi2.ppf(alpha/2, n-1)\n",
    "m1xa2 = stats.chi2.ppf(1-alpha/2, n-1)\n",
    "\n",
    "CI = [np.sqrt(((n-1) * std**2)/(m1xa2)), np.sqrt(((n-1) * std**2)/(xa2))]\n",
    "print(\"95% CI for std of memory recall for coffee drinkers: {}\".format(CI))"
   ]
  },
  {
   "cell_type": "markdown",
   "metadata": {},
   "source": [
    "### [20 points] Problem 5 - Bad Science for Fun and Profit \n",
    "***\n",
    "\n",
    "[Data Dredging](https://en.wikipedia.org/wiki/Data_dredging) and [p-hacking](https://www.explainxkcd.com/wiki/index.php/882:_Significant) are umbrella terms for the dangerous practice of automatically testing a large number of hypotheses on the entirety or subsets of a single dataset in order to find statistically significant results. In this exercise we will focus on the idea of testing hypotheses on subsets of a single data set.  \n",
    "\n",
    "Johnny Nefarious has landed his first data science internship at an online marketing firm.  His primary summer project has been to design and test a new email advertisement for his company's best-selling product. To test his advertisement his supervisors have allowed him to send his ad to 4 targeted customer groups of 50 people every day for a month. \n",
    "\n",
    "The effectiveness of online advertising is typically measured by the ad's [click-through rate](https://en.wikipedia.org/wiki/Click-through_rate) (CTR), which is defined to be the _proportion_ of users that click on an advertisement. The company's standard email advertisement has a CTR of $0.05$.  Johnny is hoping to land a permanent position at the company when he graduates, so he's **really** motivated to show his supervisors that the CTR of his email advertisement is a (statistically) significant improvement over their previous ad. \n",
    "\n",
    "The data from Johnny's summer experiment can be found in email.csv. Load this dataset into Pandas. "
   ]
  },
  {
   "cell_type": "code",
   "execution_count": 459,
   "metadata": {
    "scrolled": true
   },
   "outputs": [
    {
     "data": {
      "text/html": [
       "<div>\n",
       "<style scoped>\n",
       "    .dataframe tbody tr th:only-of-type {\n",
       "        vertical-align: middle;\n",
       "    }\n",
       "\n",
       "    .dataframe tbody tr th {\n",
       "        vertical-align: top;\n",
       "    }\n",
       "\n",
       "    .dataframe thead th {\n",
       "        text-align: right;\n",
       "    }\n",
       "</style>\n",
       "<table border=\"1\" class=\"dataframe\">\n",
       "  <thead>\n",
       "    <tr style=\"text-align: right;\">\n",
       "      <th></th>\n",
       "      <th>Group</th>\n",
       "      <th>Date</th>\n",
       "      <th>Sent</th>\n",
       "      <th>Clicked</th>\n",
       "    </tr>\n",
       "  </thead>\n",
       "  <tbody>\n",
       "    <tr>\n",
       "      <th>29</th>\n",
       "      <td>1</td>\n",
       "      <td>Oct 30 2017</td>\n",
       "      <td>50</td>\n",
       "      <td>0</td>\n",
       "    </tr>\n",
       "    <tr>\n",
       "      <th>31</th>\n",
       "      <td>2</td>\n",
       "      <td>Oct  1 2017</td>\n",
       "      <td>50</td>\n",
       "      <td>0</td>\n",
       "    </tr>\n",
       "    <tr>\n",
       "      <th>48</th>\n",
       "      <td>2</td>\n",
       "      <td>Oct 18 2017</td>\n",
       "      <td>50</td>\n",
       "      <td>0</td>\n",
       "    </tr>\n",
       "    <tr>\n",
       "      <th>59</th>\n",
       "      <td>2</td>\n",
       "      <td>Oct 29 2017</td>\n",
       "      <td>50</td>\n",
       "      <td>0</td>\n",
       "    </tr>\n",
       "    <tr>\n",
       "      <th>67</th>\n",
       "      <td>3</td>\n",
       "      <td>NaN</td>\n",
       "      <td>50</td>\n",
       "      <td>0</td>\n",
       "    </tr>\n",
       "    <tr>\n",
       "      <th>81</th>\n",
       "      <td>3</td>\n",
       "      <td>NaN</td>\n",
       "      <td>50</td>\n",
       "      <td>0</td>\n",
       "    </tr>\n",
       "    <tr>\n",
       "      <th>89</th>\n",
       "      <td>3</td>\n",
       "      <td>Oct 28 2017</td>\n",
       "      <td>50</td>\n",
       "      <td>0</td>\n",
       "    </tr>\n",
       "    <tr>\n",
       "      <th>0</th>\n",
       "      <td>1</td>\n",
       "      <td>NaN</td>\n",
       "      <td>50</td>\n",
       "      <td>1</td>\n",
       "    </tr>\n",
       "    <tr>\n",
       "      <th>4</th>\n",
       "      <td>1</td>\n",
       "      <td>Oct  5 2017</td>\n",
       "      <td>50</td>\n",
       "      <td>1</td>\n",
       "    </tr>\n",
       "    <tr>\n",
       "      <th>7</th>\n",
       "      <td>1</td>\n",
       "      <td>NaN</td>\n",
       "      <td>50</td>\n",
       "      <td>1</td>\n",
       "    </tr>\n",
       "    <tr>\n",
       "      <th>13</th>\n",
       "      <td>1</td>\n",
       "      <td>Oct 14 2017</td>\n",
       "      <td>50</td>\n",
       "      <td>1</td>\n",
       "    </tr>\n",
       "    <tr>\n",
       "      <th>14</th>\n",
       "      <td>1</td>\n",
       "      <td>NaN</td>\n",
       "      <td>50</td>\n",
       "      <td>1</td>\n",
       "    </tr>\n",
       "    <tr>\n",
       "      <th>15</th>\n",
       "      <td>1</td>\n",
       "      <td>NaN</td>\n",
       "      <td>50</td>\n",
       "      <td>1</td>\n",
       "    </tr>\n",
       "    <tr>\n",
       "      <th>19</th>\n",
       "      <td>1</td>\n",
       "      <td>Oct 20 2017</td>\n",
       "      <td>50</td>\n",
       "      <td>1</td>\n",
       "    </tr>\n",
       "    <tr>\n",
       "      <th>24</th>\n",
       "      <td>1</td>\n",
       "      <td>Oct 25 2017</td>\n",
       "      <td>50</td>\n",
       "      <td>1</td>\n",
       "    </tr>\n",
       "    <tr>\n",
       "      <th>27</th>\n",
       "      <td>1</td>\n",
       "      <td>Oct 28 2017</td>\n",
       "      <td>50</td>\n",
       "      <td>1</td>\n",
       "    </tr>\n",
       "    <tr>\n",
       "      <th>50</th>\n",
       "      <td>2</td>\n",
       "      <td>NaN</td>\n",
       "      <td>50</td>\n",
       "      <td>1</td>\n",
       "    </tr>\n",
       "    <tr>\n",
       "      <th>54</th>\n",
       "      <td>2</td>\n",
       "      <td>NaN</td>\n",
       "      <td>50</td>\n",
       "      <td>1</td>\n",
       "    </tr>\n",
       "    <tr>\n",
       "      <th>69</th>\n",
       "      <td>3</td>\n",
       "      <td>NaN</td>\n",
       "      <td>50</td>\n",
       "      <td>1</td>\n",
       "    </tr>\n",
       "    <tr>\n",
       "      <th>77</th>\n",
       "      <td>3</td>\n",
       "      <td>NaN</td>\n",
       "      <td>50</td>\n",
       "      <td>1</td>\n",
       "    </tr>\n",
       "    <tr>\n",
       "      <th>82</th>\n",
       "      <td>3</td>\n",
       "      <td>NaN</td>\n",
       "      <td>50</td>\n",
       "      <td>1</td>\n",
       "    </tr>\n",
       "    <tr>\n",
       "      <th>85</th>\n",
       "      <td>3</td>\n",
       "      <td>NaN</td>\n",
       "      <td>50</td>\n",
       "      <td>1</td>\n",
       "    </tr>\n",
       "    <tr>\n",
       "      <th>88</th>\n",
       "      <td>3</td>\n",
       "      <td>NaN</td>\n",
       "      <td>50</td>\n",
       "      <td>1</td>\n",
       "    </tr>\n",
       "    <tr>\n",
       "      <th>91</th>\n",
       "      <td>3</td>\n",
       "      <td>NaN</td>\n",
       "      <td>50</td>\n",
       "      <td>1</td>\n",
       "    </tr>\n",
       "    <tr>\n",
       "      <th>94</th>\n",
       "      <td>4</td>\n",
       "      <td>Oct  2 2017</td>\n",
       "      <td>50</td>\n",
       "      <td>1</td>\n",
       "    </tr>\n",
       "    <tr>\n",
       "      <th>95</th>\n",
       "      <td>4</td>\n",
       "      <td>Oct  3 2017</td>\n",
       "      <td>50</td>\n",
       "      <td>1</td>\n",
       "    </tr>\n",
       "    <tr>\n",
       "      <th>97</th>\n",
       "      <td>4</td>\n",
       "      <td>Oct  5 2017</td>\n",
       "      <td>50</td>\n",
       "      <td>1</td>\n",
       "    </tr>\n",
       "    <tr>\n",
       "      <th>100</th>\n",
       "      <td>4</td>\n",
       "      <td>Oct  8 2017</td>\n",
       "      <td>50</td>\n",
       "      <td>1</td>\n",
       "    </tr>\n",
       "    <tr>\n",
       "      <th>112</th>\n",
       "      <td>4</td>\n",
       "      <td>NaN</td>\n",
       "      <td>50</td>\n",
       "      <td>1</td>\n",
       "    </tr>\n",
       "    <tr>\n",
       "      <th>114</th>\n",
       "      <td>4</td>\n",
       "      <td>NaN</td>\n",
       "      <td>50</td>\n",
       "      <td>1</td>\n",
       "    </tr>\n",
       "    <tr>\n",
       "      <th>...</th>\n",
       "      <td>...</td>\n",
       "      <td>...</td>\n",
       "      <td>...</td>\n",
       "      <td>...</td>\n",
       "    </tr>\n",
       "    <tr>\n",
       "      <th>30</th>\n",
       "      <td>1</td>\n",
       "      <td>Oct 31 2017</td>\n",
       "      <td>50</td>\n",
       "      <td>4</td>\n",
       "    </tr>\n",
       "    <tr>\n",
       "      <th>34</th>\n",
       "      <td>2</td>\n",
       "      <td>NaN</td>\n",
       "      <td>50</td>\n",
       "      <td>4</td>\n",
       "    </tr>\n",
       "    <tr>\n",
       "      <th>39</th>\n",
       "      <td>2</td>\n",
       "      <td>Oct  9 2017</td>\n",
       "      <td>50</td>\n",
       "      <td>4</td>\n",
       "    </tr>\n",
       "    <tr>\n",
       "      <th>40</th>\n",
       "      <td>2</td>\n",
       "      <td>NaN</td>\n",
       "      <td>50</td>\n",
       "      <td>4</td>\n",
       "    </tr>\n",
       "    <tr>\n",
       "      <th>46</th>\n",
       "      <td>2</td>\n",
       "      <td>NaN</td>\n",
       "      <td>50</td>\n",
       "      <td>4</td>\n",
       "    </tr>\n",
       "    <tr>\n",
       "      <th>57</th>\n",
       "      <td>2</td>\n",
       "      <td>NaN</td>\n",
       "      <td>50</td>\n",
       "      <td>4</td>\n",
       "    </tr>\n",
       "    <tr>\n",
       "      <th>72</th>\n",
       "      <td>3</td>\n",
       "      <td>Oct 11 2017</td>\n",
       "      <td>50</td>\n",
       "      <td>4</td>\n",
       "    </tr>\n",
       "    <tr>\n",
       "      <th>76</th>\n",
       "      <td>3</td>\n",
       "      <td>Oct 15 2017</td>\n",
       "      <td>50</td>\n",
       "      <td>4</td>\n",
       "    </tr>\n",
       "    <tr>\n",
       "      <th>78</th>\n",
       "      <td>3</td>\n",
       "      <td>NaN</td>\n",
       "      <td>50</td>\n",
       "      <td>4</td>\n",
       "    </tr>\n",
       "    <tr>\n",
       "      <th>80</th>\n",
       "      <td>3</td>\n",
       "      <td>Oct 19 2017</td>\n",
       "      <td>50</td>\n",
       "      <td>4</td>\n",
       "    </tr>\n",
       "    <tr>\n",
       "      <th>87</th>\n",
       "      <td>3</td>\n",
       "      <td>Oct 26 2017</td>\n",
       "      <td>50</td>\n",
       "      <td>4</td>\n",
       "    </tr>\n",
       "    <tr>\n",
       "      <th>103</th>\n",
       "      <td>4</td>\n",
       "      <td>NaN</td>\n",
       "      <td>50</td>\n",
       "      <td>4</td>\n",
       "    </tr>\n",
       "    <tr>\n",
       "      <th>109</th>\n",
       "      <td>4</td>\n",
       "      <td>NaN</td>\n",
       "      <td>50</td>\n",
       "      <td>4</td>\n",
       "    </tr>\n",
       "    <tr>\n",
       "      <th>119</th>\n",
       "      <td>4</td>\n",
       "      <td>Oct 27 2017</td>\n",
       "      <td>50</td>\n",
       "      <td>4</td>\n",
       "    </tr>\n",
       "    <tr>\n",
       "      <th>121</th>\n",
       "      <td>4</td>\n",
       "      <td>Oct 29 2017</td>\n",
       "      <td>50</td>\n",
       "      <td>4</td>\n",
       "    </tr>\n",
       "    <tr>\n",
       "      <th>3</th>\n",
       "      <td>1</td>\n",
       "      <td>NaN</td>\n",
       "      <td>50</td>\n",
       "      <td>5</td>\n",
       "    </tr>\n",
       "    <tr>\n",
       "      <th>42</th>\n",
       "      <td>2</td>\n",
       "      <td>Oct 12 2017</td>\n",
       "      <td>50</td>\n",
       "      <td>5</td>\n",
       "    </tr>\n",
       "    <tr>\n",
       "      <th>43</th>\n",
       "      <td>2</td>\n",
       "      <td>Oct 13 2017</td>\n",
       "      <td>50</td>\n",
       "      <td>5</td>\n",
       "    </tr>\n",
       "    <tr>\n",
       "      <th>74</th>\n",
       "      <td>3</td>\n",
       "      <td>Oct 13 2017</td>\n",
       "      <td>50</td>\n",
       "      <td>5</td>\n",
       "    </tr>\n",
       "    <tr>\n",
       "      <th>79</th>\n",
       "      <td>3</td>\n",
       "      <td>Oct 18 2017</td>\n",
       "      <td>50</td>\n",
       "      <td>5</td>\n",
       "    </tr>\n",
       "    <tr>\n",
       "      <th>84</th>\n",
       "      <td>3</td>\n",
       "      <td>Oct 23 2017</td>\n",
       "      <td>50</td>\n",
       "      <td>5</td>\n",
       "    </tr>\n",
       "    <tr>\n",
       "      <th>86</th>\n",
       "      <td>3</td>\n",
       "      <td>NaN</td>\n",
       "      <td>50</td>\n",
       "      <td>5</td>\n",
       "    </tr>\n",
       "    <tr>\n",
       "      <th>98</th>\n",
       "      <td>4</td>\n",
       "      <td>NaN</td>\n",
       "      <td>50</td>\n",
       "      <td>5</td>\n",
       "    </tr>\n",
       "    <tr>\n",
       "      <th>110</th>\n",
       "      <td>4</td>\n",
       "      <td>NaN</td>\n",
       "      <td>50</td>\n",
       "      <td>5</td>\n",
       "    </tr>\n",
       "    <tr>\n",
       "      <th>116</th>\n",
       "      <td>4</td>\n",
       "      <td>NaN</td>\n",
       "      <td>50</td>\n",
       "      <td>5</td>\n",
       "    </tr>\n",
       "    <tr>\n",
       "      <th>11</th>\n",
       "      <td>1</td>\n",
       "      <td>NaN</td>\n",
       "      <td>50</td>\n",
       "      <td>6</td>\n",
       "    </tr>\n",
       "    <tr>\n",
       "      <th>49</th>\n",
       "      <td>2</td>\n",
       "      <td>Oct 19 2017</td>\n",
       "      <td>50</td>\n",
       "      <td>6</td>\n",
       "    </tr>\n",
       "    <tr>\n",
       "      <th>68</th>\n",
       "      <td>3</td>\n",
       "      <td>Oct  7 2017</td>\n",
       "      <td>50</td>\n",
       "      <td>6</td>\n",
       "    </tr>\n",
       "    <tr>\n",
       "      <th>64</th>\n",
       "      <td>3</td>\n",
       "      <td>NaN</td>\n",
       "      <td>50</td>\n",
       "      <td>7</td>\n",
       "    </tr>\n",
       "    <tr>\n",
       "      <th>113</th>\n",
       "      <td>4</td>\n",
       "      <td>Oct 21 2017</td>\n",
       "      <td>50</td>\n",
       "      <td>7</td>\n",
       "    </tr>\n",
       "  </tbody>\n",
       "</table>\n",
       "<p>124 rows × 4 columns</p>\n",
       "</div>"
      ],
      "text/plain": [
       "     Group         Date  Sent  Clicked\n",
       "29       1  Oct 30 2017    50        0\n",
       "31       2  Oct  1 2017    50        0\n",
       "48       2  Oct 18 2017    50        0\n",
       "59       2  Oct 29 2017    50        0\n",
       "67       3          NaN    50        0\n",
       "81       3          NaN    50        0\n",
       "89       3  Oct 28 2017    50        0\n",
       "0        1          NaN    50        1\n",
       "4        1  Oct  5 2017    50        1\n",
       "7        1          NaN    50        1\n",
       "13       1  Oct 14 2017    50        1\n",
       "14       1          NaN    50        1\n",
       "15       1          NaN    50        1\n",
       "19       1  Oct 20 2017    50        1\n",
       "24       1  Oct 25 2017    50        1\n",
       "27       1  Oct 28 2017    50        1\n",
       "50       2          NaN    50        1\n",
       "54       2          NaN    50        1\n",
       "69       3          NaN    50        1\n",
       "77       3          NaN    50        1\n",
       "82       3          NaN    50        1\n",
       "85       3          NaN    50        1\n",
       "88       3          NaN    50        1\n",
       "91       3          NaN    50        1\n",
       "94       4  Oct  2 2017    50        1\n",
       "95       4  Oct  3 2017    50        1\n",
       "97       4  Oct  5 2017    50        1\n",
       "100      4  Oct  8 2017    50        1\n",
       "112      4          NaN    50        1\n",
       "114      4          NaN    50        1\n",
       "..     ...          ...   ...      ...\n",
       "30       1  Oct 31 2017    50        4\n",
       "34       2          NaN    50        4\n",
       "39       2  Oct  9 2017    50        4\n",
       "40       2          NaN    50        4\n",
       "46       2          NaN    50        4\n",
       "57       2          NaN    50        4\n",
       "72       3  Oct 11 2017    50        4\n",
       "76       3  Oct 15 2017    50        4\n",
       "78       3          NaN    50        4\n",
       "80       3  Oct 19 2017    50        4\n",
       "87       3  Oct 26 2017    50        4\n",
       "103      4          NaN    50        4\n",
       "109      4          NaN    50        4\n",
       "119      4  Oct 27 2017    50        4\n",
       "121      4  Oct 29 2017    50        4\n",
       "3        1          NaN    50        5\n",
       "42       2  Oct 12 2017    50        5\n",
       "43       2  Oct 13 2017    50        5\n",
       "74       3  Oct 13 2017    50        5\n",
       "79       3  Oct 18 2017    50        5\n",
       "84       3  Oct 23 2017    50        5\n",
       "86       3          NaN    50        5\n",
       "98       4          NaN    50        5\n",
       "110      4          NaN    50        5\n",
       "116      4          NaN    50        5\n",
       "11       1          NaN    50        6\n",
       "49       2  Oct 19 2017    50        6\n",
       "68       3  Oct  7 2017    50        6\n",
       "64       3          NaN    50        7\n",
       "113      4  Oct 21 2017    50        7\n",
       "\n",
       "[124 rows x 4 columns]"
      ]
     },
     "execution_count": 459,
     "metadata": {},
     "output_type": "execute_result"
    }
   ],
   "source": [
    "dfAd = pd.read_csv(\"data/email.csv\")\n",
    "\n",
    "dfAd.sort_values(by=['Clicked', \"Group\"])\n"
   ]
  },
  {
   "cell_type": "markdown",
   "metadata": {},
   "source": [
    "**Part A**: State the null and alternate hypotheses that Johnny should test to see if his ad campaign is an improvement over the company's standard mailer with a CTR of $0.05$. "
   ]
  },
  {
   "cell_type": "markdown",
   "metadata": {},
   "source": [
    "##### H_0 = .05 CTR : The current ads are as good as Johnny's ad\n",
    "##### H_1 > .05 CTR : Johnnys ads are better, and there is evidence for this"
   ]
  },
  {
   "cell_type": "markdown",
   "metadata": {},
   "source": [
    "**Part B**: Test the hypothesis from **Part A** at the $\\alpha = 0.05$ significance level using a p-value test. Is there sufficient evidence for Johnny to conclude that his ad campaign is an improvement?   "
   ]
  },
  {
   "cell_type": "markdown",
   "metadata": {},
   "source": []
  },
  {
   "cell_type": "code",
   "execution_count": 416,
   "metadata": {
    "scrolled": true
   },
   "outputs": [
    {
     "name": "stdout",
     "output_type": "stream",
     "text": [
      "ratio 0.05209677419354832\n",
      "0.760778047923\n",
      "z test: 0.7607780479228292 < 1.6448536269514722 \n",
      "thus johnny has not shown that his results are significant enough to reject\n",
      "p test: 0.7766051758555144 < 0.95 \n",
      "thus johnny has not shown that his results are significant enough to reject\n"
     ]
    }
   ],
   "source": [
    "ratio = dfAd['Clicked'] / dfAd['Sent']\n",
    "CTR = .05\n",
    "JCTR = ratio.mean()\n",
    "print(\"ratio\", JCTR)\n",
    "std = ratio.std()\n",
    "\n",
    "z = (JCTR - CTR)/(std/np.sqrt(dfAd['Clicked'].count()))\n",
    "print(z)\n",
    "#print(stats.norm.ppf(.95))\n",
    "\n",
    "print(\"z test: {} < {} \\nthus johnny has not shown that his results are significant enough to reject\".format(z, stats.norm.ppf(.95)))\n",
    "\n",
    "print(\"p test: {} < {} \\nthus johnny has not shown that his results are significant enough to reject\".format(stats.norm.cdf(z), .95))\n"
   ]
  },
  {
   "cell_type": "markdown",
   "metadata": {},
   "source": [
    "**Part C**: Bummer, Johnny thinks. This is the part where he decides to resort to some questionable science.  Maybe there is a reasonable subset of the data for which his alternative hypothesis is supported?  Can he find it?  Can he come up for a reasonable justification for why this subset of the data should be considered while the rest should be discarded? \n",
    "\n",
    "Here are the **rules**: Johnny cannot modify the original data (e.g. by adding nonexistent clicks to certain groups or days) because his boss will surely notice.  Instead he needs to find a subset of the data for which his hypothesis is supported by a p-value test at the $\\alpha = 0.05$ significance level _and_ be able to explain to his supervisors why his sub-selection of the data is reasonable.  \n",
    "\n",
    "In addition to your explanation of why your successful subset of the data is potentially reasonable, be sure to thoroughly explain the details of the tests that you perform and show all of your Python computation.  "
   ]
  },
  {
   "cell_type": "code",
   "execution_count": 468,
   "metadata": {},
   "outputs": [
    {
     "name": "stdout",
     "output_type": "stream",
     "text": [
      "ratio 0.05354838709677421\n",
      "0.533703967261\n",
      "z test: 0.5337039672612853 < 1.6448536269514722 \n",
      "thus johnny has not shown that his results are significant enough to reject\n",
      "p test: 0.7032268180311584 < 0.95 \n",
      "thus johnny has not shown that his results are significant enough to reject\n"
     ]
    }
   ],
   "source": [
    "dfAd = pd.read_csv(\"data/email.csv\")\n",
    "dfAd = dfAd[dfAd.Group == 3]\n",
    "#print(dfAd)\n",
    "\n",
    "ratio = dfAd['Clicked'] / dfAd['Sent']\n",
    "CTR = .05\n",
    "JCTR = ratio.mean()\n",
    "print(\"ratio\", JCTR)\n",
    "std = ratio.std()\n",
    "\n",
    "z = (JCTR - CTR)/(std/np.sqrt(dfAd['Clicked'].count()))\n",
    "print(z)\n",
    "#print(stats.norm.ppf(.95))\n",
    "\n",
    "print(\"z test: {} < {} \\nthus johnny has not shown that his results are significant enough to reject\".format(z, stats.norm.ppf(.95)))\n",
    "\n",
    "print(\"p test: {} < {} \\nthus johnny has not shown that his results are significant enough to reject\".format(stats.norm.cdf(z), .95))\n"
   ]
  },
  {
   "cell_type": "code",
   "execution_count": null,
   "metadata": {
    "collapsed": true
   },
   "outputs": [],
   "source": []
  },
  {
   "cell_type": "code",
   "execution_count": null,
   "metadata": {
    "collapsed": true
   },
   "outputs": [],
   "source": []
  },
  {
   "cell_type": "markdown",
   "metadata": {},
   "source": [
    "### [20 points] Problem 6 - Simple Linear Regression for Gas Mileage \n",
    "***\n",
    "\n",
    "The data in auto.csv contains information on cars from the 1970s and 1980s. In this exercise you will construct a simple linear regression model for the response variable mpg with horsepower as the feature. Load the data into a Pandas DataFrame.    \n"
   ]
  },
  {
   "cell_type": "code",
   "execution_count": 10,
   "metadata": {},
   "outputs": [
    {
     "data": {
      "text/html": [
       "<div>\n",
       "<style scoped>\n",
       "    .dataframe tbody tr th:only-of-type {\n",
       "        vertical-align: middle;\n",
       "    }\n",
       "\n",
       "    .dataframe tbody tr th {\n",
       "        vertical-align: top;\n",
       "    }\n",
       "\n",
       "    .dataframe thead th {\n",
       "        text-align: right;\n",
       "    }\n",
       "</style>\n",
       "<table border=\"1\" class=\"dataframe\">\n",
       "  <thead>\n",
       "    <tr style=\"text-align: right;\">\n",
       "      <th></th>\n",
       "      <th>model</th>\n",
       "      <th>year</th>\n",
       "      <th>mpg</th>\n",
       "      <th>cylinders</th>\n",
       "      <th>horsepower</th>\n",
       "      <th>weight</th>\n",
       "    </tr>\n",
       "  </thead>\n",
       "  <tbody>\n",
       "    <tr>\n",
       "      <th>0</th>\n",
       "      <td>chevrolet chevelle malibu</td>\n",
       "      <td>70</td>\n",
       "      <td>18.0</td>\n",
       "      <td>8</td>\n",
       "      <td>130.0</td>\n",
       "      <td>3504.0</td>\n",
       "    </tr>\n",
       "    <tr>\n",
       "      <th>1</th>\n",
       "      <td>buick skylark 320</td>\n",
       "      <td>70</td>\n",
       "      <td>15.0</td>\n",
       "      <td>8</td>\n",
       "      <td>165.0</td>\n",
       "      <td>3693.0</td>\n",
       "    </tr>\n",
       "    <tr>\n",
       "      <th>2</th>\n",
       "      <td>plymouth satellite</td>\n",
       "      <td>70</td>\n",
       "      <td>18.0</td>\n",
       "      <td>8</td>\n",
       "      <td>150.0</td>\n",
       "      <td>3436.0</td>\n",
       "    </tr>\n",
       "    <tr>\n",
       "      <th>3</th>\n",
       "      <td>amc rebel sst</td>\n",
       "      <td>70</td>\n",
       "      <td>16.0</td>\n",
       "      <td>8</td>\n",
       "      <td>150.0</td>\n",
       "      <td>3433.0</td>\n",
       "    </tr>\n",
       "    <tr>\n",
       "      <th>4</th>\n",
       "      <td>ford torino</td>\n",
       "      <td>70</td>\n",
       "      <td>17.0</td>\n",
       "      <td>8</td>\n",
       "      <td>140.0</td>\n",
       "      <td>3449.0</td>\n",
       "    </tr>\n",
       "    <tr>\n",
       "      <th>5</th>\n",
       "      <td>ford galaxie 500</td>\n",
       "      <td>70</td>\n",
       "      <td>15.0</td>\n",
       "      <td>8</td>\n",
       "      <td>198.0</td>\n",
       "      <td>4341.0</td>\n",
       "    </tr>\n",
       "    <tr>\n",
       "      <th>6</th>\n",
       "      <td>chevrolet impala</td>\n",
       "      <td>70</td>\n",
       "      <td>14.0</td>\n",
       "      <td>8</td>\n",
       "      <td>220.0</td>\n",
       "      <td>4354.0</td>\n",
       "    </tr>\n",
       "    <tr>\n",
       "      <th>7</th>\n",
       "      <td>plymouth fury iii</td>\n",
       "      <td>70</td>\n",
       "      <td>14.0</td>\n",
       "      <td>8</td>\n",
       "      <td>215.0</td>\n",
       "      <td>4312.0</td>\n",
       "    </tr>\n",
       "    <tr>\n",
       "      <th>8</th>\n",
       "      <td>pontiac catalina</td>\n",
       "      <td>70</td>\n",
       "      <td>14.0</td>\n",
       "      <td>8</td>\n",
       "      <td>225.0</td>\n",
       "      <td>4425.0</td>\n",
       "    </tr>\n",
       "    <tr>\n",
       "      <th>9</th>\n",
       "      <td>amc ambassador dpl</td>\n",
       "      <td>70</td>\n",
       "      <td>15.0</td>\n",
       "      <td>8</td>\n",
       "      <td>190.0</td>\n",
       "      <td>3850.0</td>\n",
       "    </tr>\n",
       "  </tbody>\n",
       "</table>\n",
       "</div>"
      ],
      "text/plain": [
       "                       model  year   mpg  cylinders  horsepower  weight\n",
       "0  chevrolet chevelle malibu    70  18.0          8       130.0  3504.0\n",
       "1          buick skylark 320    70  15.0          8       165.0  3693.0\n",
       "2         plymouth satellite    70  18.0          8       150.0  3436.0\n",
       "3              amc rebel sst    70  16.0          8       150.0  3433.0\n",
       "4                ford torino    70  17.0          8       140.0  3449.0\n",
       "5           ford galaxie 500    70  15.0          8       198.0  4341.0\n",
       "6           chevrolet impala    70  14.0          8       220.0  4354.0\n",
       "7          plymouth fury iii    70  14.0          8       215.0  4312.0\n",
       "8           pontiac catalina    70  14.0          8       225.0  4425.0\n",
       "9         amc ambassador dpl    70  15.0          8       190.0  3850.0"
      ]
     },
     "execution_count": 10,
     "metadata": {},
     "output_type": "execute_result"
    }
   ],
   "source": [
    "dfAuto = pd.read_csv(\"data/auto.csv\")\n",
    "dfAuto.head(10)"
   ]
  },
  {
   "cell_type": "markdown",
   "metadata": {},
   "source": [
    "**Part A**: Perform a simple linear regression with horsepower as the feature and mpg as the response.  Report the estimated regression model in the form $Y = \\alpha + \\beta x$. Do all computations in Python. "
   ]
  },
  {
   "cell_type": "code",
   "execution_count": 471,
   "metadata": {},
   "outputs": [
    {
     "name": "stdout",
     "output_type": "stream",
     "text": [
      "y = -0.15784473335365354 * x + 39.93586102117045\n"
     ]
    }
   ],
   "source": [
    "x = dfAuto['horsepower']\n",
    "y = dfAuto['mpg']\n",
    "bhat, ahat, rval, pval, stderr = stats.linregress(x, y)\n",
    "print('{} = {}{} + {}'.format('y', bhat, ' * x',ahat))"
   ]
  },
  {
   "cell_type": "markdown",
   "metadata": {},
   "source": [
    "**Part B**: Make a scatter-plot of the data with horsepower as the feature and mpg as the response and overlay the estimated regression line. \n"
   ]
  },
  {
   "cell_type": "code",
   "execution_count": 472,
   "metadata": {},
   "outputs": [
    {
     "data": {
      "text/plain": [
       "Text(0,0.5,'MPG')"
      ]
     },
     "execution_count": 472,
     "metadata": {},
     "output_type": "execute_result"
    },
    {
     "data": {
      "image/png": "[encoded data removed]",
      "text/plain": [
       "<matplotlib.figure.Figure at 0x7f54fc2998d0>"
      ]
     },
     "metadata": {},
     "output_type": "display_data"
    }
   ],
   "source": [
    "fig, ax = plt.subplots(nrows=1, ncols=1, figsize=(10,8))\n",
    "ax.scatter(x, y, color=\"grey\", alpha=0.75, s=100)\n",
    "ax.plot(x, ahat + bhat*x, color=\"red\", lw=3);\n",
    "plt.title('HorsePower vs MPG')\n",
    "plt.xlabel(\"HorsePower\")\n",
    "plt.ylabel(\"MPG\")\n"
   ]
  },
  {
   "cell_type": "markdown",
   "metadata": {},
   "source": [
    "**Part C**: Is the relationship between horsepower and mpg positive or negative? Justify your response. "
   ]
  },
  {
   "cell_type": "markdown",
   "metadata": {},
   "source": [
    "**The relationship is negative. As our feature increases our response variable decreases. Our SLR model indicates that as horsepower increases, MPG decreases. **"
   ]
  },
  {
   "cell_type": "code",
   "execution_count": 473,
   "metadata": {
    "scrolled": true
   },
   "outputs": [
    {
     "name": "stdout",
     "output_type": "stream",
     "text": [
      "SSE: 9385.91587193\n",
      "SST: 23818.9934694\n",
      "Rsquared = 0.6059482578894348, so our model fits okay\n"
     ]
    }
   ],
   "source": [
    "ybar = y.mean()\n",
    "#print(ybar)\n",
    "#Calculate SSE and show the coefficient\n",
    "SSE = np.array([(y[i] - (bhat * x[i] + ahat))**2 for i in range(len(y))]).sum()\n",
    "print(\"SSE:\", SSE)\n",
    "SST = np.array([(y[i] - ybar)**2 for i in range(len(y))]).sum()\n",
    "print(\"SST:\", SST)\n",
    "Rsq = 1 - SSE/SST\n",
    "print(\"Rsquared = {}, so our model fits okay\".format(Rsq))"
   ]
  },
  {
   "cell_type": "markdown",
   "metadata": {},
   "source": [
    "**Part D**: Find a 95% confidence interval for the slope parameter.  Based on this confidence interval, is there sufficient evidence to believe, at the 95% confidence level, that there is a real relationship between horsepower and mpg? "
   ]
  },
  {
   "cell_type": "markdown",
   "metadata": {},
   "source": [
    "$$\\hat{\\sigma}^2 = \\frac{SSE}{n-2}$$\n",
    "\n",
    "$$se(\\hat{\\beta}) = \\frac{\\hat{\\sigma}}{\\sqrt{\\sum_{i=1}^n (x_i - \\bar{x})^2}}$$ \n",
    "\n",
    "$$CI = \\hat{\\beta} \\pm t_{\\alpha/2, n-2} * se(\\hat{\\beta})$$"
   ]
  },
  {
   "cell_type": "code",
   "execution_count": 479,
   "metadata": {},
   "outputs": [
    {
     "name": "stdout",
     "output_type": "stream",
     "text": [
      "CI95 for MPG vs Horsepower (-0.17051700846435688, -0.14517245824295019)\n"
     ]
    }
   ],
   "source": [
    "n = len(x)\n",
    "alpha = .05\n",
    "xbar = x.mean()\n",
    "sigma = np.sqrt(SSE/(n-2))\n",
    "seB = sigma / np.sqrt(np.array([(x[i] - xbar)**2 for i in range(n)]).sum())\n",
    "\n",
    "CI = (bhat + stats.t.ppf(alpha/2, n-2) * seB, bhat - stats.t.ppf(alpha/2, n-2) * seB)\n",
    "print(\"CI95 for MPG vs Horsepower {}\".format(CI))\n",
    "#sweet!!!does not contain 0\n",
    "\n",
    "\n"
   ]
  },
  {
   "cell_type": "markdown",
   "metadata": {},
   "source": [
    "#### Since our 95% CI does not contain 0, we can say that there is a relation between MPG and Horsepower. "
   ]
  },
  {
   "cell_type": "markdown",
   "metadata": {},
   "source": [
    "**Part E**: Double-check your result from **Part D** by performing an equivalent hypothesis test.  Be sure to state your null and alternative hypotheses and explain your general methodology.  Do your conclusions agree with those made in **Part D**? "
   ]
  },
  {
   "cell_type": "markdown",
   "metadata": {},
   "source": [
    "H_0: slope is 0 and there is no correlation\n",
    "H_1: slope is non 0 and there is a correlation between our feature and result"
   ]
  },
  {
   "cell_type": "code",
   "execution_count": null,
   "metadata": {
    "collapsed": true
   },
   "outputs": [],
   "source": []
  },
  {
   "cell_type": "markdown",
   "metadata": {},
   "source": [
    "**Part F**: What gas mileage would your simple linear regression model predict for a car with a horsepower of $97$? "
   ]
  },
  {
   "cell_type": "code",
   "execution_count": 339,
   "metadata": {},
   "outputs": [
    {
     "name": "stdout",
     "output_type": "stream",
     "text": [
      "Model Predicts 24.62492188586606 MPG for a car with 97 HP\n"
     ]
    }
   ],
   "source": [
    "x = 97\n",
    "y = -0.15784473335365354 * x + 39.93586102117045\n",
    "print(\"Model Predicts {} MPG for a car with {} HP\".format(y, x))"
   ]
  },
  {
   "cell_type": "code",
   "execution_count": null,
   "metadata": {
    "collapsed": true
   },
   "outputs": [],
   "source": []
  }
 ],
 "metadata": {
  "kernelspec": {
   "display_name": "Python 3",
   "language": "python",
   "name": "python3"
  },
  "language_info": {
   "codemirror_mode": {
    "name": "ipython",
    "version": 3
   },
   "file_extension": ".py",
   "mimetype": "text/x-python",
   "name": "python",
   "nbconvert_exporter": "python",
   "pygments_lexer": "ipython3",
   "version": "3.6.3"
  }
 },
 "nbformat": 4,
 "nbformat_minor": 2
}
